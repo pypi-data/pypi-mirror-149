{
 "cells": [
  {
   "cell_type": "markdown",
   "metadata": {},
   "source": [
    "# PT3S\n",
    "Use SIR 3S Modeldata and SIR 3S Results in pure Python.\n",
    "\n",
    "With pandas, matplotlib and others.\n",
    "\n",
    "For documentation, test, verification, analysis, reporting, prototyping, play."
   ]
  },
  {
   "cell_type": "markdown",
   "metadata": {},
   "source": [
    "## Install Python"
   ]
  },
  {
   "cell_type": "code",
   "execution_count": null,
   "metadata": {},
   "outputs": [],
   "source": [
    "import doctest\n",
    "\"\"\"\n",
    ">>> from platform import python_version\n",
    ">>> print(python_version())\n",
    "3.8.8\n",
    "\"\"\"\n",
    "doctest.testmod()"
   ]
  },
  {
   "cell_type": "markdown",
   "metadata": {},
   "source": [
    "## Install PT3S to site-packages"
   ]
  },
  {
   "cell_type": "code",
   "execution_count": null,
   "metadata": {},
   "outputs": [],
   "source": [
    "### ggf. Rechte erforderlich:  \n",
    "### entweder in PowerShell: Start-Process powershell -Verb runAs\n",
    "### oder RechteMausTaste WindowsSymbol: Windows PowerShell (Administrator)\n",
    "### dann (ohne ! in PowerShell auf pip-Verz.):"
   ]
  },
  {
   "cell_type": "code",
   "execution_count": null,
   "metadata": {},
   "outputs": [],
   "source": [
    "#!pip uninstall --yes PT3S\n",
    "#!pip install PT3S --no-cache-dir"
   ]
  },
  {
   "cell_type": "markdown",
   "metadata": {},
   "source": [
    "## Logging"
   ]
  },
  {
   "cell_type": "code",
   "execution_count": null,
   "metadata": {},
   "outputs": [],
   "source": [
    "import logging\n",
    "import os\n",
    "logger = logging.getLogger('PT3S')  \n",
    "\n",
    "logFileName= r\"PT3S.log\" \n",
    "\n",
    "loglevel = logging.DEBUG\n",
    "logging.basicConfig(filename=logFileName\n",
    "                        ,filemode='w'\n",
    "                        ,level=loglevel\n",
    "                        ,format=\"%(asctime)s ; %(name)-60s ; %(levelname)-7s ; %(message)s\")    \n",
    "\n",
    "fileHandler = logging.FileHandler(logFileName)     \n",
    "\n",
    "logger.addHandler(fileHandler)\n",
    "\n",
    "consoleHandler = logging.StreamHandler()\n",
    "consoleHandler.setFormatter(logging.Formatter(\"%(levelname)-7s ; %(message)s\"))\n",
    "consoleHandler.setLevel(logging.INFO)\n",
    "logger.addHandler(consoleHandler)"
   ]
  },
  {
   "cell_type": "markdown",
   "metadata": {},
   "source": [
    "## about from PT3S ... import ... and pip install -e ."
   ]
  },
  {
   "cell_type": "code",
   "execution_count": null,
   "metadata": {},
   "outputs": [],
   "source": [
    "#%pwd"
   ]
  },
  {
   "cell_type": "code",
   "execution_count": null,
   "metadata": {},
   "outputs": [],
   "source": [
    "# works only if pip install -e .is NOT active:\n",
    "###from PT3S import Mx,Xm,Rm\n",
    "# or if subdir is PT3S\n",
    "#%cd -q ..\n",
    "# ...\n",
    "#%cd -q PT3S "
   ]
  },
  {
   "cell_type": "code",
   "execution_count": null,
   "metadata": {},
   "outputs": [],
   "source": [
    "# if pip install -e .IS active\n",
    "# the local modules can be imported with:\n",
    "#from PT3S \n",
    "import Mx, Xm, Rm\n",
    "# if %pwd is local devdir"
   ]
  },
  {
   "cell_type": "code",
   "execution_count": null,
   "metadata": {},
   "outputs": [],
   "source": [
    "import doctest\n",
    "\"\"\"\n",
    ">>> import pandas as pd\n",
    ">>> pd.__version__\n",
    "'1.2.4'\n",
    "\"\"\"\n",
    "doctest.testmod()"
   ]
  },
  {
   "cell_type": "markdown",
   "metadata": {},
   "source": [
    "# ggf. Tests"
   ]
  },
  {
   "cell_type": "markdown",
   "metadata": {},
   "source": [
    "## Modultests\n",
    "\n",
    "* die Modultests (-m 1) gehen teilweise von einem definierten \"leeren\" Ausgangszustand aus: Relikte aus alten Testläufen sollten daher gelöscht werden (-t before), wenn die Modultests vollständig ohne Fehler durchlaufen sollen \n",
    "* die Modultests hinterlassen teilweise \"Überbleibsel\", die explizit gelöscht werden sollten (-t after ==> -t both)\n",
    "* es müssen nur die Modelle (-w ...) behandelt werden (vorher bzw. nachher aufräumen), die in den Modultests auch verwendet werden\n",
    "* es werden alle Modultests durchgeführt"
   ]
  },
  {
   "cell_type": "markdown",
   "metadata": {},
   "source": [
    "nachfolgende Tests erzeugen (trotz -q) auch bei fehlerfreiem Durchlauf eine Ausgabe im Notebook"
   ]
  },
  {
   "cell_type": "code",
   "execution_count": null,
   "metadata": {},
   "outputs": [],
   "source": [
    "%run test.py -l -q -m 1 -t both \\\n",
    "-w OneLPipe -w LocalHeatingNetwork -w GPipe -w GPipes -w TinyWDN "
   ]
  },
  {
   "cell_type": "code",
   "execution_count": null,
   "metadata": {},
   "outputs": [],
   "source": [
    "# mit SIR 3S Daten (Modelle + Ergebnisse) aus Version 11\n",
    "%run test.py -l -q -m 1 -t both \\\n",
    "-w OneLPipe -w LocalHeatingNetwork -w GPipe -w GPipes -w TinyWDN \\\n",
    "--testDir testdata11"
   ]
  },
  {
   "cell_type": "code",
   "execution_count": null,
   "metadata": {},
   "outputs": [],
   "source": [
    "# mit SIR 3S Daten (Modelle + Ergebnisse) aus Version 10\n",
    "%run test.py -l -q -m 1 -t both \\\n",
    "-w OneLPipe -w LocalHeatingNetwork -w GPipe -w GPipes -w TinyWDN \\\n",
    "--testDir testdata10"
   ]
  },
  {
   "cell_type": "code",
   "execution_count": null,
   "metadata": {},
   "outputs": [],
   "source": [
    "# mit SIR 3S Daten (Modelle + Ergebnisse) aus Version 09\n",
    "%run test.py -l -q -m 1 -t both \\\n",
    "-w OneLPipe -w LocalHeatingNetwork -w GPipe -w GPipes -w TinyWDN \\\n",
    "--testDir testdata09 --dotResolution NONE"
   ]
  },
  {
   "cell_type": "markdown",
   "metadata": {},
   "source": [
    "## Singeltests\n",
    "\n",
    "* es müssen nur die Modelle (-w ...) behandelt werden, die in den Singletests auch verwendet werden\n",
    "* vor Singletests könnten die Modultests durchgeführt werden: nachfolgend sind diese ausgeschaltet (-m 0)\n",
    "* Singletests hinterlassen, so sie nicht selbst aufräumen, \"Überbleibsel\", die explizit gelöscht werden sollten (-t after)\n",
    "* Singletests erfahren im Gegensatz zu Modultests ein explizites MockUp außerhalb des eigentlichen Tests; d.h. die Tests beginnen mit \"fertigen\" Objekten bzw. können zumindest so beginnen; bei Modultests hingegen erfolgt das MockUp immer in der Testsequenz selbst \n",
    "* Details zum MockUp können mit -y (kein H5 lesen j/n) und -z (H5 schreiben j/n) angegeben werden\n",
    "* es können nur die Singletest auf einmal ausgeführt werden, die mit demselben MockUp zurecht kommen\n",
    "* MockUp hier: kein H5 lesen und kein H5-Schreiben: -y yes -z no \n",
    "* nur bei -z yes wird vor dem H5-Schreiben auch Xm.MxSync und .MxAdd durchgeführt\n",
    "* -s spezifiziert Tests per regExp\n",
    "* -x spezifiziert Test per regExp die aus der -s-Menge nicht durchzuführen sind"
   ]
  },
  {
   "cell_type": "markdown",
   "metadata": {},
   "source": [
    "nachfolgende Tests erzeugen (wg. -q) nur bei fehlerfreiem Durchlauf _keine Ausgaben im Notebook"
   ]
  },
  {
   "cell_type": "code",
   "execution_count": null,
   "metadata": {},
   "outputs": [],
   "source": [
    "%run test.py -l -q -m 0 \\\n",
    "-s Xm\\. \\\n",
    "-x Xm\\.vKNOTexpEBES \\\n",
    "-x Xm\\.vROHRexpEBES \\\n",
    "-x Xm\\._vRUES -x Xm\\._vRSLW -x Xm\\._vRSTN -x Xm\\._vRXXX -x Xm\\._vREdges \\\n",
    "-x Xm\\.MxAdd \\\n",
    "-t both -y yes -z no \\\n",
    "-w OneLPipe -w LocalHeatingNetwork -w GPipe -w GPipes -w TinyWDN"
   ]
  },
  {
   "cell_type": "code",
   "execution_count": null,
   "metadata": {},
   "outputs": [],
   "source": [
    "%run test.py -l -q -m 0 \\\n",
    "-s Mx\\. \\\n",
    "-x Mx\\.FromH5 \\\n",
    "-x Mx\\.ToH5 \\\n",
    "-t both -y yes -z no \\\n",
    "-w OneLPipe -w LocalHeatingNetwork -w GPipe -w GPipes -w TinyWDN"
   ]
  },
  {
   "cell_type": "markdown",
   "metadata": {},
   "source": [
    "### reiner MockUp-Lauf\n",
    "\n",
    "* es wird gar kein Test spezifiziert sondern ein reiner MockUp-Lauf\n",
    "* geeignet z.B. wenn ein MockUp zeitaufwendig ist ...\n",
    "* ... und ein bestimmter Singletest in einem Modul häufig wiederholt werden muss ...\n",
    "* ... weil am getesteten Funktionsbereich gearbeitet wird\n",
    "* MockUp hier: kein H5 lesen aber H5 schreiben: -y yes -z yes\n",
    "* mit -u wird der reine MockUp-Lauf durchgeführt"
   ]
  },
  {
   "cell_type": "markdown",
   "metadata": {},
   "source": [
    "nachfolgender Lauf erzeugt (wg. -q) bei fehlerfreiem Durchlauf _keine Ausgaben im Notebook"
   ]
  },
  {
   "cell_type": "code",
   "execution_count": null,
   "metadata": {},
   "outputs": [],
   "source": [
    "# test_reinerMockUpLauf\n",
    "%run test.py -l -v -m 0 -t before \\\n",
    "-u yes \\\n",
    "-y yes -z yes \\\n",
    "-w DHNetwork -w LocalHeatingNetwork -w GPipes "
   ]
  },
  {
   "cell_type": "markdown",
   "metadata": {},
   "source": [
    " ### Singletest basierend auf diesem reinem MockUp-Lauf\n",
    " \n",
    " * Testläufe können mit H5 lesen (-y no) und kein H5 schreiben (-z no) am Schnellsten durchgeführt werden\n",
    " * Singletest und MockUp müssen zueinander passen (d.h. z.B. wenn ein Singletest mit \"fertigen\" Objekten beginnt müssen diese durch den MockUp bereitgestellt werden)\n",
    " * der Entwicklungsstand ebenfalls: die \"fertigen\" Objekte werden ja zuvor in einem (ggf. reinen MockUp-Lauf) erzeugt und als H5 abgespeichert; mit solchen Singletests kann daher nur gearbeitet werden wenn andere Codeteile entsprechend \"durchlaufen\""
   ]
  },
  {
   "cell_type": "code",
   "execution_count": null,
   "metadata": {},
   "outputs": [],
   "source": [
    "%run test.py -l -q -m 0 \\\n",
    "-s Xm\\._vRUES -s Xm\\._vRSLW -s Xm\\._vRSTN -s Xm\\._vRXXX -s Xm\\._vREdges \\\n",
    "-y no -z no \\\n",
    "-w DHNetwork -w LocalHeatingNetwork -w GPipes "
   ]
  },
  {
   "cell_type": "code",
   "execution_count": null,
   "metadata": {},
   "outputs": [],
   "source": [
    "%run test.py -l -q -m 0 \\\n",
    "-s Xm\\.MxAdd \\\n",
    "-y no -z no \\\n",
    "-w DHNetwork -w LocalHeatingNetwork -w GPipes "
   ]
  },
  {
   "cell_type": "code",
   "execution_count": null,
   "metadata": {},
   "outputs": [],
   "source": [
    "%run test.py -l -q -m 0 \\\n",
    "-s Xm\\.vKNOTexpEBES \\\n",
    "-y no -z no \\\n",
    "-w DHNetwork"
   ]
  },
  {
   "cell_type": "code",
   "execution_count": null,
   "metadata": {},
   "outputs": [],
   "source": [
    "%run test.py -l -q -m 0 \\\n",
    "-s Xm\\.vROHRexpEBES \\\n",
    "-y no -z no \\\n",
    "-w DHNetwork"
   ]
  },
  {
   "cell_type": "markdown",
   "metadata": {},
   "source": [
    " ### weitere Beispiele für Singletests"
   ]
  },
  {
   "cell_type": "markdown",
   "metadata": {},
   "source": [
    "Beispiel: durchführen eines einzelnen Tests in Modul Mx über Mx.py\n",
    "\n",
    "das Testobjekt ist eine Klassen-freie Funktion, die kein Modell-MockUp benötigt"
   ]
  },
  {
   "cell_type": "code",
   "execution_count": null,
   "metadata": {},
   "outputs": [],
   "source": [
    "%run Mx.py -l -q -m 0 -s getMicrosecondsFromRefTime "
   ]
  },
  {
   "cell_type": "markdown",
   "metadata": {},
   "source": [
    "Beispiel: durchführen eines einzelnen Tests in Modul Xm über Xm.py\n",
    "\n",
    "das Testobjekt ist eine Klassen-Funktion, welche die angegebenen Modell-MockUps benötigt"
   ]
  },
  {
   "cell_type": "code",
   "execution_count": null,
   "metadata": {},
   "outputs": [],
   "source": [
    "%run Xm.py -l -q -m 0 -s Xm\\.constructShortestPathFromNodeList -t both -y yes -z no -w GPipes -w LocalHeatingNetwork"
   ]
  },
  {
   "cell_type": "markdown",
   "metadata": {},
   "source": [
    "Beispiel: weitere Singletests"
   ]
  },
  {
   "cell_type": "code",
   "execution_count": null,
   "metadata": {},
   "outputs": [],
   "source": [
    "%run Rm.py -l -q -m 0 \\\n",
    "-s pltMakeCategoricalColors \\\n",
    "-s pltMakeCategoricalCmap \\\n",
    "-s Rm\\. \\\n",
    "-y no -z no \\\n",
    "-w DHNetwork"
   ]
  },
  {
   "cell_type": "markdown",
   "metadata": {},
   "source": [
    "# Modell und Ergebnisse laden und nutzen"
   ]
  },
  {
   "cell_type": "code",
   "execution_count": null,
   "metadata": {},
   "outputs": [],
   "source": [
    "import pandas as pd\n",
    "import numpy as np\n",
    "import scipy\n",
    "import networkx as nx"
   ]
  },
  {
   "cell_type": "markdown",
   "metadata": {},
   "source": [
    "## Modell"
   ]
  },
  {
   "cell_type": "code",
   "execution_count": null,
   "metadata": {},
   "outputs": [],
   "source": [
    "path='.'\n",
    "xmlFile=os.path.join(path,'testdata\\LocalHeatingNetwork.XML')\n",
    "xm=Xm.Xm(xmlFile=xmlFile)"
   ]
  },
  {
   "cell_type": "code",
   "execution_count": null,
   "metadata": {},
   "outputs": [],
   "source": [
    "vVBEL=xm.dataFrames['vVBEL']\n",
    "vVBEL.filter(items=['BESCHREIBUNG','NAME_i','NAME_k','LAYR','L','D']).sort_index(level=1)"
   ]
  },
  {
   "cell_type": "code",
   "execution_count": null,
   "metadata": {},
   "outputs": [],
   "source": [
    "vVBEL.dtypes"
   ]
  },
  {
   "cell_type": "code",
   "execution_count": null,
   "metadata": {},
   "outputs": [],
   "source": [
    "[viewOrTable for viewOrTable in sorted(xm.dataFrames.keys())]"
   ]
  },
  {
   "cell_type": "markdown",
   "metadata": {},
   "source": [
    "## Ergebnisse"
   ]
  },
  {
   "cell_type": "code",
   "execution_count": null,
   "metadata": {},
   "outputs": [],
   "source": [
    "# Weg A um an Ergebnisse zu kommen: \n",
    "# Modell(-Views) um MX-Ergebnisse ergaenzen; MX-Ergebnissatz des Modells wird implizit gelesen und returned\n",
    "mx=xm.MxSync()"
   ]
  },
  {
   "cell_type": "code",
   "execution_count": null,
   "metadata": {},
   "outputs": [],
   "source": [
    "# Weg B um an Ergebnisse zu kommen:\n",
    "# einen MX-Ergebnissatz voellig unabhaengig von einem Modell lesen\n",
    "# z.B. den MX-Ergebnissatz des Modells ...\n",
    "(wDir,modelDir,modelName,mx1File)=xm.getWDirModelDirModelName()  \n",
    "# ... lesen\n",
    "mx=Mx.Mx(mx1File=mx1File)"
   ]
  },
  {
   "cell_type": "markdown",
   "metadata": {},
   "source": [
    "### Non-Vector"
   ]
  },
  {
   "cell_type": "code",
   "execution_count": null,
   "metadata": {},
   "outputs": [],
   "source": [
    "mx.df.filter(items=['ALLG~~~4639827058859487185~SNAPSHOTTYPE','KNOT~V-L~~5736262931552588702~PH'])"
   ]
  },
  {
   "cell_type": "code",
   "execution_count": null,
   "metadata": {},
   "outputs": [],
   "source": [
    "mx.df.filter(regex='^KNOT').filter(regex='PH$').plot()"
   ]
  },
  {
   "cell_type": "markdown",
   "metadata": {},
   "source": [
    "### Vector"
   ]
  },
  {
   "cell_type": "code",
   "execution_count": null,
   "metadata": {},
   "outputs": [],
   "source": [
    "timesReq=mx.df.index.tolist()\n",
    "mxVecsFileData=mx.getMxsVecsFileData(timesReq)\n",
    "for vecsFileResult in mxVecsFileData:\n",
    "    print(vecsFileResult.index)"
   ]
  },
  {
   "cell_type": "code",
   "execution_count": null,
   "metadata": {},
   "outputs": [],
   "source": [
    "vecsFileResult.filter(regex='^ROHR').filter(regex='^(?!.*VEC)')"
   ]
  },
  {
   "cell_type": "code",
   "execution_count": null,
   "metadata": {},
   "outputs": [],
   "source": [
    "vecsFileResult.filter(regex='^KNOT')"
   ]
  },
  {
   "cell_type": "markdown",
   "metadata": {},
   "source": [
    "### Vector: Aggregate\n",
    "- TIME: MXS: SIR 3S t=0-Ergebnis als instat. AB (kein Aggregat) - implizit von _readMxsFile\n",
    "- TMIN,TMAX: MXS: SIR 3S Min./Max. - implizit von _readMxsFile  \n",
    "- or Aggregates from 2 Times: MIN,MAX,... - implizit von getVecAggs"
   ]
  },
  {
   "cell_type": "code",
   "execution_count": null,
   "metadata": {},
   "outputs": [],
   "source": [
    "mx.dfVecAggs"
   ]
  },
  {
   "cell_type": "markdown",
   "metadata": {},
   "source": [
    "## Modell und Ergebnis \"synchronisieren\"\n",
    "- Bezuege herstellen zwischen einem Modell und einem Ergebnissatz (Stichworte mx2Idx, NAME123) \n",
    "- mx=xm.MxSync() synchronisiert implizit mit dem MX-Ergebnissatz des Modells (der MX-Satz wir dabei gelesen)\n",
    "- xm.MxSync(mx=mx): explizite Synchronisation mit irgendeinem bereits gelesenen MX-Ergebnissatz"
   ]
  },
  {
   "cell_type": "code",
   "execution_count": null,
   "metadata": {},
   "outputs": [],
   "source": [
    "xm.MxSync(mx=mx)"
   ]
  },
  {
   "cell_type": "code",
   "execution_count": null,
   "metadata": {},
   "outputs": [],
   "source": [
    "vROHR=xm.dataFrames['vROHR']"
   ]
  },
  {
   "cell_type": "code",
   "execution_count": null,
   "metadata": {},
   "outputs": [],
   "source": [
    "vROHR[['L','mx2NofPts','mx2Idx']]"
   ]
  },
  {
   "cell_type": "markdown",
   "metadata": {},
   "source": [
    "## Modellsichten um Ergebnisse \"ergänzen\"\n",
    "- die Modellsichten werden dabei um Ergebnisspalten ergänzt\n",
    "- mx=xm.MxAdd() synchronisiert vorher implizit mit dem MX-Ergebnissatz des Modells (der MX-Satz wir dabei gelesen)\n",
    "- mx=xm.MxAdd() ist somit der KUERZESTE Aurufweg nach dem Lesen eines Modells mit Modell+Ergebnissen weiterzuarbeiten\n",
    "- xm.MxAdd(mx=mx): die Ergebnisse werden aus dem angegebenen MX-Satz entnommen\n",
    "- ohne Zeitangabe ergänzt MxAdd das stationäre Ergebnis\n",
    "- statt mit dem Ergebnis einer Szenariumzeit können die Modellsichten auch mit Ergebnisaggregaten über eine Zeitspanne ergänzt werden\n",
    "- die ergänzten Ergebnisspalten \"kumulieren nicht\"; die Ergebnisspaltennamen sind nach jedem MxAdd-Aufruf gleich und gleich viele  "
   ]
  },
  {
   "cell_type": "code",
   "execution_count": null,
   "metadata": {},
   "outputs": [],
   "source": [
    "xm.MxAdd(mx=mx)"
   ]
  },
  {
   "cell_type": "markdown",
   "metadata": {},
   "source": [
    "### Vektorergebnisse"
   ]
  },
  {
   "cell_type": "code",
   "execution_count": null,
   "metadata": {},
   "outputs": [],
   "source": [
    "vKNOT=xm.dataFrames['vKNOT']\n",
    "vKNOT.dtypes"
   ]
  },
  {
   "cell_type": "code",
   "execution_count": null,
   "metadata": {},
   "outputs": [],
   "source": [
    "vVBEL=xm.dataFrames['vVBEL']\n",
    "vVBEL.filter(items=['NAME_i','NAME_k','Z_i','KNOT~*~*~*~PH_i','Q']).sort_values(['Q','KNOT~*~*~*~PH_i'], ascending=[1,0])"
   ]
  },
  {
   "cell_type": "code",
   "execution_count": null,
   "metadata": {},
   "outputs": [],
   "source": [
    "vVBEL.dtypes"
   ]
  },
  {
   "cell_type": "code",
   "execution_count": null,
   "metadata": {},
   "outputs": [],
   "source": [
    "vROHR=xm.dataFrames['vROHR']\n",
    "vROHR.dtypes"
   ]
  },
  {
   "cell_type": "code",
   "execution_count": null,
   "metadata": {},
   "outputs": [],
   "source": [
    "vFWVB=xm.dataFrames['vFWVB']\n",
    "vFWVB.dtypes"
   ]
  },
  {
   "cell_type": "markdown",
   "metadata": {},
   "source": [
    "### Rohrvektorergebnisse"
   ]
  },
  {
   "cell_type": "code",
   "execution_count": null,
   "metadata": {},
   "outputs": [],
   "source": [
    "vROHRVecResults=xm.dataFrames['vROHRVecResults']\n",
    "vROHRVecResults[['pk','mx2Idx','IptIdx','ROHR~*~*~*~SVEC','ROHR~*~*~*~ZVEC','ROHR~*~*~*~MVEC']]"
   ]
  },
  {
   "cell_type": "markdown",
   "metadata": {},
   "source": [
    "## Schnitte"
   ]
  },
  {
   "cell_type": "code",
   "execution_count": null,
   "metadata": {},
   "outputs": [],
   "source": [
    "vAGSN=xm.dataFrames['vAGSN']"
   ]
  },
  {
   "cell_type": "code",
   "execution_count": null,
   "metadata": {},
   "outputs": [],
   "source": [
    "vAGSN.dtypes"
   ]
  },
  {
   "cell_type": "code",
   "execution_count": null,
   "metadata": {},
   "outputs": [],
   "source": [
    "dfOneVL=vAGSN[(vAGSN['LFDNR']=='1') & (vAGSN['Layer']==1)]\n",
    "dfOneVL[['OBJTYPE','x','P','Q']]"
   ]
  },
  {
   "cell_type": "code",
   "execution_count": null,
   "metadata": {},
   "outputs": [],
   "source": [
    "dfOneRL=vAGSN[(vAGSN['LFDNR']=='1') & (vAGSN['Layer']==2)]\n",
    "dfOneRL[['OBJTYPE','x','P','Q']]"
   ]
  },
  {
   "cell_type": "code",
   "execution_count": null,
   "metadata": {},
   "outputs": [],
   "source": [
    "plt.plot(dfOneVL['x'],dfOneVL['Q']\n",
    "         ,dfOneRL['x'],dfOneRL['Q'])"
   ]
  },
  {
   "cell_type": "code",
   "execution_count": null,
   "metadata": {},
   "outputs": [],
   "source": [
    "plt.plot(dfOneVL['x'],dfOneVL['P']\n",
    "         ,dfOneRL['x'],dfOneRL['P'])\n",
    "plt.ylim((2.5, 5.5))   "
   ]
  },
  {
   "cell_type": "code",
   "execution_count": null,
   "metadata": {},
   "outputs": [],
   "source": [
    "# SIR 3S MIN-Ergebnis lesen\n",
    "xm.MxAdd(mx=mx,aggReq='TMIN')\n",
    "vAGSN=xm.dataFrames['vAGSN']\n",
    "dfOneVLTMIN=vAGSN[(vAGSN['LFDNR']=='1') & (vAGSN['Layer']==1)]\n",
    "\n",
    "plt.plot(dfOneVL['x'],dfOneVL['P']\n",
    "         ,dfOneRL['x'],dfOneRL['P']\n",
    "         ,dfOneVL['x'],dfOneVLTMIN['P']         \n",
    "        )\n",
    "plt.ylim((2.5, 5.5))   "
   ]
  },
  {
   "cell_type": "markdown",
   "metadata": {},
   "source": [
    "## Store in H5"
   ]
  },
  {
   "cell_type": "code",
   "execution_count": null,
   "metadata": {},
   "outputs": [],
   "source": [
    "xm.ToH5()\n",
    "mx.ToH5()\n",
    "# next read will be faster because H5 is read instead of XML / MX if H5 is newer than XML / MX"
   ]
  },
  {
   "cell_type": "code",
   "execution_count": null,
   "metadata": {},
   "outputs": [],
   "source": [
    "xm=Xm.Xm(xmlFile=xmlFile)"
   ]
  },
  {
   "cell_type": "code",
   "execution_count": null,
   "metadata": {},
   "outputs": [],
   "source": [
    "mx=Mx.Mx(mx1File=mx1File)"
   ]
  },
  {
   "cell_type": "code",
   "execution_count": null,
   "metadata": {},
   "outputs": [],
   "source": [
    "#xm?"
   ]
  },
  {
   "cell_type": "code",
   "execution_count": null,
   "metadata": {},
   "outputs": [],
   "source": [
    "#mx?"
   ]
  },
  {
   "cell_type": "markdown",
   "metadata": {},
   "source": [
    "# Rm Plot Beispiele"
   ]
  },
  {
   "cell_type": "code",
   "execution_count": null,
   "metadata": {},
   "outputs": [],
   "source": [
    "dir(Rm)"
   ]
  },
  {
   "cell_type": "code",
   "execution_count": null,
   "metadata": {},
   "outputs": [],
   "source": [
    "import Rm"
   ]
  },
  {
   "cell_type": "code",
   "execution_count": null,
   "metadata": {},
   "outputs": [],
   "source": [
    "dir(Rm)"
   ]
  },
  {
   "cell_type": "code",
   "execution_count": null,
   "metadata": {},
   "outputs": [],
   "source": [
    "rm=Rm.Rm(xm=xm,mx=mx)"
   ]
  },
  {
   "cell_type": "markdown",
   "metadata": {},
   "source": [
    "## Bsp1: Prozentdarstellung - keine Klassen"
   ]
  },
  {
   "cell_type": "code",
   "execution_count": null,
   "metadata": {},
   "outputs": [],
   "source": [
    "plt.close('all')\n",
    "fig=plt.figure(dpi=2*72,linewidth=1.)\n",
    "# 3Classes und FixedLimits sind standardmaessig Falsch; RefPerc ist standardmaessig Wahr\n",
    "pFWVB=rm.pltNetDHUS(                                  \n",
    "                 pltTitle='pltNetDHUS: Bsp1: Prozentdarstellung - keine Klassen'   \n",
    "                ,timeDeltaToT= pd.to_timedelta('30 seconds')  \n",
    "                ,pFIGNrcv=['WBLZ~WärmeblnzGes~\\S*~\\S+~WES'\n",
    "                          ,'WBLZ~WärmeblnzGes~\\S*~\\S+~WVB'\n",
    "                          ,'KNOT~PKON-Knoten~\\S*~\\S+~QM'\n",
    "                          ]\n",
    "                 ,pFIGNrcvTxt=['Erzeugung'\n",
    "                              ,'Verbrauch'\n",
    "                              ,'Kontrolle DH'\n",
    "                              ]         \n",
    "    \n",
    "                 ,pVICsDf=pd.DataFrame({'Kundenname': ['VIC1'],'Knotenname': ['V-K007']})\n",
    "    \n",
    "                 ,CBShrink=1. # default: 0.3; ist hier wg. der ausgepraegten Querformat-Modellausdehnung zu klein \n",
    "                 ,CBLabelPad=-20 # default: -50; dito zu gross\n",
    "    \n",
    "                     \n",
    "                   )\n",
    "plt.show()"
   ]
  },
  {
   "cell_type": "markdown",
   "metadata": {},
   "source": [
    "## Bsp2: Prozentdarstellung - Klassen"
   ]
  },
  {
   "cell_type": "code",
   "execution_count": null,
   "metadata": {},
   "outputs": [],
   "source": [
    "plt.close('all')\n",
    "fig=plt.figure(dpi=2*72,linewidth=1.)\n",
    "# 3Classes und FixedLimits sind standardmaessig Falsch; RefPerc ist standardmaessig Wahr\n",
    "pFWVB=rm.pltNetDHUS(                   \n",
    "                 pltTitle='pltNetDHUS: Bsp2: Prozentdarstellung - Klassen'   \n",
    "                ,timeDeltaToT= pd.to_timedelta('30 seconds')  \n",
    "    \n",
    "                ,pFIGNrcv=['WBLZ~WärmeblnzGes~\\S*~\\S+~WES'\n",
    "                          ,'WBLZ~WärmeblnzGes~\\S*~\\S+~WVB'\n",
    "                          ,'KNOT~PKON-Knoten~\\S*~\\S+~QM'\n",
    "                          ]\n",
    "                 ,pFIGNrcvTxt=['Erzeugung'\n",
    "                              ,'Verbrauch'\n",
    "                              ,'Kontrolle DH'\n",
    "                              ]         \n",
    "                 ,CBShrink=1. # default: 0.3; ist hier wg. der ausgepraegten Querformat-Modellausdehnung zu klein \n",
    "                 ,CBLabelPad=-20 # default: -50; dito zu gross\n",
    "    \n",
    "                 ,pFWVBMeasure3Classes=True\n",
    "                 ,pFWVBMeasureCBFixedLimitHigh=0.80\n",
    "                 ,pFWVBMeasureCBFixedLimitLow=0.66\n",
    "                   )\n",
    "plt.show()"
   ]
  },
  {
   "cell_type": "markdown",
   "metadata": {},
   "source": [
    "## Bsp3: keine Prozentdarstellung - Klassen"
   ]
  },
  {
   "cell_type": "code",
   "execution_count": null,
   "metadata": {},
   "outputs": [],
   "source": [
    "plt.close('all')\n",
    "fig=plt.figure(dpi=2*72,linewidth=1.)\n",
    "# 3Classes und FixedLimits sind standardmaessig Falsch; RefPerc ist standardmaessig Wahr\n",
    "pFWVB=rm.pltNetDHUS(         \n",
    "                 pltTitle='pltNetDHUS: Bsp3: keine Prozentdarstellung - Klassen'                   \n",
    "                ,pFIGNrcv=['WBLZ~WärmeblnzGes~\\S*~\\S+~WES'\n",
    "                          ,'WBLZ~WärmeblnzGes~\\S*~\\S+~WVB'\n",
    "                          ,'KNOT~PKON-Knoten~\\S*~\\S+~QM'\n",
    "                          ]\n",
    "                 ,pFIGNrcvTxt=['Erzeugung'\n",
    "                              ,'Verbrauch'\n",
    "                              ,'Kontrolle DH'\n",
    "                              ]         \n",
    "                 ,CBShrink=1. # default: 0.3; ist hier wg. der ausgepraegten Querformat-Modellausdehnung zu klein \n",
    "                 ,CBLabelPad=-20 # default: -50; dito zu gross\n",
    "    \n",
    "                 ,pFWVBMeasure3Classes=True\n",
    "                 ,pFWVBMeasureInRefPerc=False  \n",
    "                 ,pFWVBMeasure='FWVB~*~*~*~W' \n",
    "                 \n",
    "                 ,pFWVBMeasureCBFixedLimitHigh=200.\n",
    "                 ,pFWVBMeasureCBFixedLimitLow=130.\n",
    "                   )\n",
    "plt.show()"
   ]
  },
  {
   "cell_type": "markdown",
   "metadata": {},
   "source": [
    "# NetworkX Beispiele"
   ]
  },
  {
   "cell_type": "markdown",
   "metadata": {},
   "source": [
    "## hydraulisches Prozessmodell"
   ]
  },
  {
   "cell_type": "code",
   "execution_count": null,
   "metadata": {},
   "outputs": [],
   "source": [
    "G=nx.from_pandas_edgelist(xm.dataFrames['vVBEL'], source='NAME_i', target='NAME_k', edge_attr=True,create_using=nx.MultiGraph())"
   ]
  },
  {
   "cell_type": "code",
   "execution_count": null,
   "metadata": {},
   "outputs": [],
   "source": [
    "for e, datadict in G.edges.items():\n",
    "    print(e)\n",
    "    print(datadict)"
   ]
  },
  {
   "cell_type": "code",
   "execution_count": null,
   "metadata": {},
   "outputs": [],
   "source": [
    "for n, nbrsdict in G.adj.items():\n",
    "    print(\"!{0:s}\".format(n))\n",
    "    for nox, mgdct in nbrsdict.items(): \n",
    "        print(\"   {0:s}\".format(nox))\n",
    "        for mg,edct in  mgdct.items():\n",
    "            print(\"        {0:d}: {1:s}\".format(mg,str(edct))) "
   ]
  },
  {
   "cell_type": "code",
   "execution_count": null,
   "metadata": {},
   "outputs": [],
   "source": [
    "print(nx.dijkstra_path(G, 'V-L', 'R-L'))"
   ]
  },
  {
   "cell_type": "code",
   "execution_count": null,
   "metadata": {},
   "outputs": [],
   "source": [
    "max([d for n,d in nx.degree(G)]) "
   ]
  },
  {
   "cell_type": "code",
   "execution_count": null,
   "metadata": {},
   "outputs": [],
   "source": [
    "spmtx=nx.adjacency_matrix(G) # Return type: SciPy sparse matrix\n",
    "plt.spy(spmtx)"
   ]
  },
  {
   "cell_type": "markdown",
   "metadata": {},
   "source": [
    "Die Laplace-Matrix ist definiert als  L:=D-A, wobei  D die Gradmatrix und  A die Adjazenzmatrix des Graphen bezeichnet."
   ]
  },
  {
   "cell_type": "code",
   "execution_count": null,
   "metadata": {},
   "outputs": [],
   "source": [
    "spmtx=nx.laplacian_matrix(G)\n",
    "plt.spy(spmtx)"
   ]
  },
  {
   "cell_type": "code",
   "execution_count": null,
   "metadata": {},
   "outputs": [],
   "source": [
    "nl=[n for n in G.nodes()]"
   ]
  },
  {
   "cell_type": "code",
   "execution_count": null,
   "metadata": {},
   "outputs": [],
   "source": [
    "A=nx.to_scipy_sparse_matrix(G)"
   ]
  },
  {
   "cell_type": "code",
   "execution_count": null,
   "metadata": {},
   "outputs": [],
   "source": [
    "nlo=scipy.sparse.csgraph.reverse_cuthill_mckee(A)"
   ]
  },
  {
   "cell_type": "code",
   "execution_count": null,
   "metadata": {},
   "outputs": [],
   "source": [
    "optnl=[nl[idx] for idx in nlo]"
   ]
  },
  {
   "cell_type": "code",
   "execution_count": null,
   "metadata": {},
   "outputs": [],
   "source": [
    "spmtx=nx.laplacian_matrix(G,nodelist=optnl)\n",
    "plt.spy(spmtx)"
   ]
  },
  {
   "cell_type": "markdown",
   "metadata": {},
   "source": [
    "### Clean Up"
   ]
  },
  {
   "cell_type": "code",
   "execution_count": null,
   "metadata": {
    "scrolled": true
   },
   "outputs": [],
   "source": [
    "xm.delFiles()\n",
    "mx.delFiles()"
   ]
  },
  {
   "cell_type": "markdown",
   "metadata": {},
   "source": [
    "## regelungstechnisches Signalmodell"
   ]
  },
  {
   "cell_type": "code",
   "execution_count": null,
   "metadata": {},
   "outputs": [],
   "source": [
    "xmlFile=os.path.join(path,'testdata\\DHNetwork.XML')\n",
    "xm=Xm.Xm(xmlFile=xmlFile)\n",
    "mx=xm.MxAdd()"
   ]
  },
  {
   "cell_type": "code",
   "execution_count": null,
   "metadata": {},
   "outputs": [],
   "source": [
    "vRSTN=xm.dataFrames['vRSTN']"
   ]
  },
  {
   "cell_type": "code",
   "execution_count": null,
   "metadata": {},
   "outputs": [],
   "source": [
    "rstnDiePGRPStellen=vRSTN[[\n",
    "         'CONT'\n",
    "        #,'CONT_PARENT'\n",
    "        ,'KA'\n",
    "        ,'BESCHREIBUNG'            \n",
    "        ,'ITYP_OBJTYPE'\n",
    "        ,'ITYP_OBJATTR'    \n",
    "        ,'Chk'\n",
    "        ,'ik_Chk'\n",
    "      #  ,'OBJTYPE'\n",
    "        ,'NAME_i'\n",
    "        ,'NAME_k'     \n",
    "        ,'CONT_i'  \n",
    "      #  ,'TABL_Chk'      \n",
    "      #  ,'TABL'\n",
    "      #  ,'KNOT'\n",
    "      #  ,'RART'\n",
    "      #  ,'RART_TYP'\n",
    "        ,'RARTPG'\n",
    "      #  ,'RCPL' \n",
    "      #  ,'RCPL_KNOT1'\n",
    "      #  ,'RCPL_KNOT2'\n",
    "      #  ,'NAME_i_PUMP'\n",
    "      #  ,'NAME_k_PUMP'       \n",
    "        ]].sort_values(by=['ITYP_OBJTYPE','ITYP_OBJATTR','CONT','KA'])[vRSTN['ITYP_OBJTYPE']=='PGRP']\n",
    "rstnDiePGRPStellen"
   ]
  },
  {
   "cell_type": "code",
   "execution_count": null,
   "metadata": {},
   "outputs": [],
   "source": [
    "rstnDiePGRPStellen[rstnDiePGRPStellen['NAME_i']=='R-A-SS']"
   ]
  },
  {
   "cell_type": "code",
   "execution_count": null,
   "metadata": {},
   "outputs": [],
   "source": [
    "# Verbindungslinien\n",
    "vREdges=xm.dataFrames['vREdges']"
   ]
  },
  {
   "cell_type": "code",
   "execution_count": null,
   "metadata": {},
   "outputs": [],
   "source": [
    "# Signalweg (mit Knotentyp_INFO)\n",
    "G=nx.from_pandas_edgelist(vREdges, source='KnExt_Ki', target='KnExt_Kk', edge_attr=True,create_using=nx.DiGraph())\n",
    "nx.shortest_path(G,'Leck_1_Ein_RSLW','KA-0008_RSTN')"
   ]
  },
  {
   "cell_type": "code",
   "execution_count": null,
   "metadata": {},
   "outputs": [],
   "source": [
    "# Signalweg (ohne Knotentyp)\n",
    "G=nx.from_pandas_edgelist(vREdges, source='Kn_Ki', target='Kn_Kk', edge_attr=True,create_using=nx.DiGraph())\n",
    "nx.shortest_path(G,'Leck_1_Ein','KA-0008')"
   ]
  },
  {
   "cell_type": "code",
   "execution_count": null,
   "metadata": {},
   "outputs": [],
   "source": [
    "G=nx.from_pandas_edgelist(vREdges, source='Kn_Ki', target='Kn_Kk', edge_attr=True,create_using=nx.Graph())\n",
    "nl=[n for n in G.nodes()]\n",
    "A=nx.to_scipy_sparse_matrix(G)\n",
    "nlo=scipy.sparse.csgraph.reverse_cuthill_mckee(A)\n",
    "optnl=[nl[idx] for idx in nlo]\n",
    "spmtx=nx.laplacian_matrix(G,nodelist=optnl)\n",
    "plt.spy(spmtx)"
   ]
  },
  {
   "cell_type": "markdown",
   "metadata": {},
   "source": [
    "# Dashboard Beispiele"
   ]
  },
  {
   "cell_type": "code",
   "execution_count": null,
   "metadata": {},
   "outputs": [],
   "source": [
    "import pandas as pd\n",
    "import matplotlib\n",
    "import matplotlib as mpl\n",
    "import matplotlib.pyplot as plt\n",
    "import matplotlib.gridspec as gridspec\n",
    "import matplotlib.dates as mdates\n",
    "from matplotlib import colors\n",
    "from matplotlib.colorbar import make_axes\n",
    "from mpl_toolkits.axes_grid1 import make_axes_locatable\n",
    "import numpy as np\n",
    "import scipy\n",
    "import networkx as nx\n",
    "import re\n",
    "from itertools import chain\n",
    "import math\n",
    "import sys"
   ]
  },
  {
   "cell_type": "code",
   "execution_count": null,
   "metadata": {},
   "outputs": [],
   "source": [
    "path='.'\n",
    "xmlFile=os.path.join(path,'testdata\\DHNetwork.XML')\n",
    "xm=Xm.Xm(xmlFile=xmlFile)"
   ]
  },
  {
   "cell_type": "code",
   "execution_count": null,
   "metadata": {},
   "outputs": [],
   "source": [
    "mx=xm.MxAdd()"
   ]
  },
  {
   "cell_type": "code",
   "execution_count": null,
   "metadata": {},
   "outputs": [],
   "source": [
    "xm.ToH5()\n",
    "mx.ToH5()"
   ]
  },
  {
   "cell_type": "markdown",
   "metadata": {},
   "source": [
    "## TimeCurve Data"
   ]
  },
  {
   "cell_type": "markdown",
   "metadata": {},
   "source": [
    "### verfügbare Szenariumzeit"
   ]
  },
  {
   "cell_type": "code",
   "execution_count": null,
   "metadata": {},
   "outputs": [],
   "source": [
    "tStartSz=mx.df.index[0]\n",
    "tEndeSz=mx.df.index[-1]\n",
    "tStartSz"
   ]
  },
  {
   "cell_type": "code",
   "execution_count": null,
   "metadata": {},
   "outputs": [],
   "source": [
    "tEndeSz"
   ]
  },
  {
   "cell_type": "code",
   "execution_count": null,
   "metadata": {},
   "outputs": [],
   "source": [
    "timeSpanSz=tEndeSz-tStartSz\n",
    "timeSpanSz"
   ]
  },
  {
   "cell_type": "markdown",
   "metadata": {},
   "source": [
    "### ausgewählter Zeitbereich"
   ]
  },
  {
   "cell_type": "code",
   "execution_count": null,
   "metadata": {},
   "outputs": [],
   "source": [
    "tStart=tStartSz\n",
    "tEnde=tEndeSz"
   ]
  },
  {
   "cell_type": "code",
   "execution_count": null,
   "metadata": {},
   "outputs": [],
   "source": [
    "tcData=mx.df.loc[tStart:tEnde,:]"
   ]
  },
  {
   "cell_type": "code",
   "execution_count": null,
   "metadata": {},
   "outputs": [],
   "source": [
    "tcData.index[0]"
   ]
  },
  {
   "cell_type": "code",
   "execution_count": null,
   "metadata": {},
   "outputs": [],
   "source": [
    "tcData.index[-1]"
   ]
  },
  {
   "cell_type": "markdown",
   "metadata": {},
   "source": [
    "### Fwes W"
   ]
  },
  {
   "cell_type": "code",
   "execution_count": null,
   "metadata": {},
   "outputs": [],
   "source": [
    "mx1DfFwesW=tcData.filter(regex='^FWES').filter(regex='W$')\n",
    "mx1DfFwesW=mx1DfFwesW.reindex(sorted(mx1DfFwesW.columns),axis=1)"
   ]
  },
  {
   "cell_type": "code",
   "execution_count": null,
   "metadata": {},
   "outputs": [],
   "source": [
    "mx1DfFwesW.head()"
   ]
  },
  {
   "cell_type": "code",
   "execution_count": null,
   "metadata": {},
   "outputs": [],
   "source": [
    "plt.close()\n",
    "size_DINA6quer=(5.8,4.1) \n",
    "plt.rc('figure',figsize=size_DINA6quer) \n",
    "fig=plt.figure()\n",
    "mx1DfFwesW.plot()"
   ]
  },
  {
   "cell_type": "code",
   "execution_count": null,
   "metadata": {},
   "outputs": [],
   "source": [
    "timeSumMaxMx1DfFwesW=mx1DfFwesW.sum(axis=1).idxmax()\n",
    "timeSumMaxMx1DfFwesW"
   ]
  },
  {
   "cell_type": "code",
   "execution_count": null,
   "metadata": {},
   "outputs": [],
   "source": [
    "timeSumMinMx1DfFwesW=mx1DfFwesW.sum(axis=1).idxmin()\n",
    "timeSumMinMx1DfFwesW"
   ]
  },
  {
   "cell_type": "markdown",
   "metadata": {},
   "source": [
    "### Pump Q"
   ]
  },
  {
   "cell_type": "code",
   "execution_count": null,
   "metadata": {},
   "outputs": [],
   "source": [
    "mx1DfPumpQ=tcData.filter(regex='^PUMP').filter(regex='QM$')\n",
    "mx1DfPumpQ=mx1DfPumpQ.reindex(sorted(mx1DfPumpQ.columns),axis=1)\n",
    "mx1DfPumpQ.head()"
   ]
  },
  {
   "cell_type": "code",
   "execution_count": null,
   "metadata": {},
   "outputs": [],
   "source": [
    "plt.close()\n",
    "size_DINA6quer=(5.8,4.1) \n",
    "plt.rc('figure',figsize=size_DINA6quer) \n",
    "fig=plt.figure()\n",
    "mx1DfPumpQ.plot()"
   ]
  },
  {
   "cell_type": "markdown",
   "metadata": {},
   "source": [
    "### Pump Ny"
   ]
  },
  {
   "cell_type": "code",
   "execution_count": null,
   "metadata": {},
   "outputs": [],
   "source": [
    "mx1DfPumpNy=tcData.filter(regex='^PUMP').filter(regex='N$')\n",
    "mx1DfPumpNy=mx1DfPumpNy.reindex(sorted(mx1DfPumpNy.columns),axis=1)"
   ]
  },
  {
   "cell_type": "code",
   "execution_count": null,
   "metadata": {},
   "outputs": [],
   "source": [
    "mx1DfPumpNy.head()"
   ]
  },
  {
   "cell_type": "markdown",
   "metadata": {},
   "source": [
    "### Pump Nw"
   ]
  },
  {
   "cell_type": "code",
   "execution_count": null,
   "metadata": {},
   "outputs": [],
   "source": [
    "mx1DfPumpWCols=[col for col in mx.df.columns.tolist() \n",
    "if \n",
    "re.match(Mx.reSir3sIDcompiled,col).group('NAME1') in ['wNA','wNB','wNC']\n",
    "and \n",
    "re.match(Mx.reSir3sIDcompiled,col).group('ATTRTYPE') in ['XA']\n",
    "and \n",
    "re.match(Mx.reSir3sIDcompiled,col).group('OBJTYPE') in ['RSLW']\n",
    "]"
   ]
  },
  {
   "cell_type": "code",
   "execution_count": null,
   "metadata": {},
   "outputs": [],
   "source": [
    "mx1DfPumpNw=tcData.filter(items=mx1DfPumpWCols)\n",
    "mx1DfPumpNw=mx1DfPumpNw.reindex(sorted(mx1DfPumpNw.columns),axis=1)"
   ]
  },
  {
   "cell_type": "code",
   "execution_count": null,
   "metadata": {},
   "outputs": [],
   "source": [
    "mx1DfPumpNw.head()"
   ]
  },
  {
   "cell_type": "markdown",
   "metadata": {},
   "source": [
    "### Pump Nyw-Pairs"
   ]
  },
  {
   "cell_type": "code",
   "execution_count": null,
   "metadata": {},
   "outputs": [],
   "source": [
    "mx1DfPumpNywPairs=pd.concat([mx1DfPumpNy,mx1DfPumpNw],axis=1) "
   ]
  },
  {
   "cell_type": "code",
   "execution_count": null,
   "metadata": {},
   "outputs": [],
   "source": [
    "mx1DfPumpNywPairs=mx1DfPumpNywPairs.filter(items=list(chain.from_iterable(\n",
    "    [x for x in zip(mx1DfPumpNy.columns.tolist(),mx1DfPumpNw.columns.tolist())]\n",
    "                                                                         )\n",
    "                                                     )\n",
    "                                          ) "
   ]
  },
  {
   "cell_type": "code",
   "execution_count": null,
   "metadata": {},
   "outputs": [],
   "source": [
    "mx1DfPumpNywPairs.head()"
   ]
  },
  {
   "cell_type": "code",
   "execution_count": null,
   "metadata": {},
   "outputs": [],
   "source": [
    "plt.close()\n",
    "size_DINA6quer=(5.8,4.1) \n",
    "plt.rc('figure',figsize=size_DINA6quer) \n",
    "fig=plt.figure()\n",
    "mx1DfPumpNywPairs.plot()"
   ]
  },
  {
   "cell_type": "markdown",
   "metadata": {},
   "source": [
    "### Leckagen"
   ]
  },
  {
   "cell_type": "code",
   "execution_count": null,
   "metadata": {},
   "outputs": [],
   "source": [
    "mx1DfPipeLIO=tcData.filter(regex='^ROHR').filter(regex='LECKEINAUS$')\n",
    "mx1DfPipeLIO=mx1DfPipeLIO.reindex(sorted(mx1DfPipeLIO.columns),axis=1)\n",
    "mx1DfPipeLIO.head()"
   ]
  },
  {
   "cell_type": "code",
   "execution_count": null,
   "metadata": {},
   "outputs": [],
   "source": [
    "mx1DfPipeLQ=tcData.filter(regex='^ROHR').filter(regex='LECKMENGE$')\n",
    "mx1DfPipeLQ=mx1DfPipeLQ.reindex(sorted(mx1DfPipeLQ.columns),axis=1)\n",
    "mx1DfPipeLQ.head()"
   ]
  },
  {
   "cell_type": "code",
   "execution_count": null,
   "metadata": {},
   "outputs": [],
   "source": [
    "mx1DfPipeLPairs=pd.concat([mx1DfPipeLIO,mx1DfPipeLQ],axis=1) \n",
    "mx1DfPipeLPairs=mx1DfPipeLPairs.filter(items=list(chain.from_iterable(\n",
    "    [x for x in zip(mx1DfPipeLIO.columns.tolist(),mx1DfPipeLQ.columns.tolist())]\n",
    "                                                                         )\n",
    "                                                     )\n",
    "                                          ) "
   ]
  },
  {
   "cell_type": "code",
   "execution_count": null,
   "metadata": {},
   "outputs": [],
   "source": [
    "mx1DfPipeLPairs.describe()"
   ]
  },
  {
   "cell_type": "code",
   "execution_count": null,
   "metadata": {},
   "outputs": [],
   "source": [
    "# effektive Leckmengen als ~LEAK = ~LECKEINAUS * ~LECKMENGE\n",
    "colList=mx1DfPipeLPairs.columns.tolist()\n",
    "for idx in range(0,len(colList),2):\n",
    "\n",
    "    col=colList[idx]\n",
    "    mo=re.match(Mx.reSir3sIDcompiled,col)\n",
    "    colNew=mo.group('OBJTYPE')\n",
    "    colNew=colNew+Mx.reSir3sIDSep+str(mo.group('NAME1'))\n",
    "    colNew=colNew+Mx.reSir3sIDSep+mo.group('NAME2')\n",
    "    colNew=colNew+Mx.reSir3sIDSep+mo.group('OBJTYPE_PK')\n",
    "    colNew=colNew+Mx.reSir3sIDSep+'LEAK'\n",
    "    \n",
    "    mx1DfPipeLPairs[colNew]=mx1DfPipeLPairs.apply(lambda row: row[idx] * row[idx+1] , axis=1)"
   ]
  },
  {
   "cell_type": "code",
   "execution_count": null,
   "metadata": {},
   "outputs": [],
   "source": [
    "mx1DfPipeLeaks=mx1DfPipeLPairs.filter(regex='LEAK$')\n",
    "mx1DfPipeLeaks.describe()"
   ]
  },
  {
   "cell_type": "code",
   "execution_count": null,
   "metadata": {},
   "outputs": [],
   "source": [
    "s=mx1DfPipeLeaks.max()\n",
    "s=s[s>0]\n",
    "s.index.tolist()\n",
    "mx1DfPipeLeaks=mx1DfPipeLeaks.filter(items=s.index.tolist())\n",
    "mx1DfPipeLeaks.head()"
   ]
  },
  {
   "cell_type": "code",
   "execution_count": null,
   "metadata": {},
   "outputs": [],
   "source": [
    "plt.close()\n",
    "size_DINA6quer=(5.8,4.1) \n",
    "plt.rc('figure',figsize=size_DINA6quer) \n",
    "fig=plt.figure()\n",
    "mx1DfPipeLeaks.plot()"
   ]
  },
  {
   "cell_type": "markdown",
   "metadata": {},
   "source": [
    "### DH"
   ]
  },
  {
   "cell_type": "markdown",
   "metadata": {},
   "source": [
    "#### Rename (um die Kanäle ohne die ID auswählen zu können)"
   ]
  },
  {
   "cell_type": "code",
   "execution_count": null,
   "metadata": {},
   "outputs": [],
   "source": [
    "colDct={}\n",
    "for col in tcData.columns.tolist():\n",
    "    mo=re.match(Mx.reSir3sIDcompiled,col)\n",
    "    colNew=mo.group('OBJTYPE')\n",
    "    colNew=colNew+Mx.reSir3sIDSep+str(mo.group('NAME1'))\n",
    "    colNew=colNew+Mx.reSir3sIDSep+mo.group('NAME2')\n",
    "    #colNew=colNew+Mx.reSir3sIDSep+mo.group('OBJTYPE_PK')\n",
    "    colNew=colNew+Mx.reSir3sIDSep+mo.group('ATTRTYPE')\n",
    "    colDct[col]=colNew\n",
    "df=tcData.rename(columns=colDct)"
   ]
  },
  {
   "cell_type": "code",
   "execution_count": null,
   "metadata": {},
   "outputs": [],
   "source": [
    "mx1DfDH=pd.concat([df['RSLW~wDH_RD_A~~XA']\n",
    "                  ,df['RMES~yDH_pRL_A~~XA'] \n",
    "                  ,df['RSLW~wDH_MD_A~~XA']\n",
    "                  ,df['RADD~yDH_pMD_A~~XA']                    \n",
    "                  ]\n",
    "                  , axis=1)"
   ]
  },
  {
   "cell_type": "code",
   "execution_count": null,
   "metadata": {},
   "outputs": [],
   "source": [
    "mx1DfDH.head()"
   ]
  },
  {
   "cell_type": "code",
   "execution_count": null,
   "metadata": {},
   "outputs": [],
   "source": [
    "plt.close()\n",
    "size_DINA6quer=(5.8,4.1) \n",
    "plt.rc('figure',figsize=size_DINA6quer) \n",
    "fig=plt.figure()\n",
    "mx1DfDH.plot()"
   ]
  },
  {
   "cell_type": "code",
   "execution_count": null,
   "metadata": {},
   "outputs": [],
   "source": [
    "mx1DfDHQ=pd.concat([df['RMES~QDHGes~~XA'] \n",
    "                  ,df['ALLG~~~LINEPACKRATE']                                  \n",
    "                  ]\n",
    "                  , axis=1)"
   ]
  },
  {
   "cell_type": "code",
   "execution_count": null,
   "metadata": {},
   "outputs": [],
   "source": [
    "mx1DfDHQ.head()"
   ]
  },
  {
   "cell_type": "code",
   "execution_count": null,
   "metadata": {},
   "outputs": [],
   "source": [
    "mx1DfDHV=pd.concat([df['ALLG~~~LINEPACKGEOM']                                  \n",
    "                  ]\n",
    "                  , axis=1)\n",
    "mx1DfDHV=mx1DfDHV-mx1DfDHV['ALLG~~~LINEPACKGEOM'][0]\n",
    "mx1DfDHV.describe()"
   ]
  },
  {
   "cell_type": "code",
   "execution_count": null,
   "metadata": {},
   "outputs": [],
   "source": [
    "mx1DfDHV.shape"
   ]
  },
  {
   "cell_type": "markdown",
   "metadata": {},
   "source": [
    "## für Darstellungen, die mit 1 Zeit bzw. mit Aggregaten 1 Zeitraums arbeiten:\n",
    "\n",
    "Start, Ende, Min, Max"
   ]
  },
  {
   "cell_type": "code",
   "execution_count": null,
   "metadata": {},
   "outputs": [],
   "source": [
    "def mxAdd(xm,mx,timeReq=None,aggReq=None,timeReq2nd=None):\n",
    "    xm.MxAdd(mx=mx,timeReq=timeReq,aggReq=aggReq,timeReq2nd=timeReq2nd)\n",
    "    vAGSN=xm.dataFrames['vAGSN']\n",
    "    vKNOT=xm.dataFrames['vKNOT']\n",
    "    vROHR=xm.dataFrames['vROHR']\n",
    "    vFWVB=xm.dataFrames['vFWVB']\n",
    "    vVBEL=xm.dataFrames['vVBEL']\n",
    "    \n",
    "    vAGSN=xm.dataFrames['vAGSN']\n",
    "    vAGSN['PH']=vAGSN.apply(lambda row: row.P*math.pow(10.,5.)/(row.RHO*9.81),axis=1)\n",
    "    vAGSN['PH']=vAGSN['PH']+vAGSN['Z'].astype('float64')\n",
    "    zBzg=30.\n",
    "    vAGSN['bBzg']=vAGSN.apply(lambda row: row.RHO*9.81/math.pow(10.,5.),axis=1)\n",
    "    vAGSN['zBzg']=           (vAGSN['Z'].astype('float64')-zBzg)*vAGSN['bBzg']\n",
    "    vAGSN['zBzg0']=          (vAGSN['Z'].astype('float64')-0   )*vAGSN['bBzg']\n",
    "    vAGSN['zBzgMin']=        (vAGSN['Z'].astype('float64')-vAGSN['Z'].astype('float64').min())*vAGSN['bBzg']\n",
    "    vAGSN['bBzg']=vAGSN['P']+vAGSN['zBzg']\n",
    "    \n",
    "    hpSL=vAGSN[(vAGSN['LFDNR']=='1') & (vAGSN['Layer']==1)]\n",
    "    hpRL=vAGSN[(vAGSN['LFDNR']=='1') & (vAGSN['Layer']==2)]\n",
    "    \n",
    "    vROHR=vROHR[(vROHR.apply(lambda x: True if x.CONT_ID == '1001' else False,axis=1))]\n",
    "    \n",
    "    return vAGSN,vKNOT,vROHR,vFWVB,vVBEL,hpSL,hpRL"
   ]
  },
  {
   "cell_type": "code",
   "execution_count": null,
   "metadata": {},
   "outputs": [],
   "source": [
    "vAGSN_TStart,vKNOT_TStart,vROHR_TStart,vFWVB_TStart,vVBEL_TStart,hpSL_Start,hpRL_Start=mxAdd(xm,mx,timeReq=mx.df.index[0])\n",
    "vAGSN_TEnde,vKNOT_TEnde,vROHR_TEnde,vFWVB_TEnde,vVBEL_TEnde,hpSL_Ende,hpRL_Ende=mxAdd(xm,mx,timeReq=mx.df.index[-1])\n",
    "vAGSN_SMin,vKNOT_SMin,vROHR_SMin,vFWVB_SMin,vVBEL_SMin,hpSL_SMin,hpRL_SMin=mxAdd(xm,mx,aggReq='TMIN')\n",
    "vAGSN_SMax,vKNOT_SMax,vROHR_SMax,vFWVB_SMax,vVBEL_SMax,hpSL_SMax,hpRL_SMax=mxAdd(xm,mx,aggReq='TMAX')"
   ]
  },
  {
   "cell_type": "code",
   "execution_count": null,
   "metadata": {},
   "outputs": [],
   "source": [
    "# besserer Weg mehrere Zeiten auf 1x zu erhalten:\n",
    "xm.MxAdd(mx=mx\n",
    ",aggReq=['TIME','TMIN','TMAX','TIME'] # Start, Min, Max, Ende # z.B. P\tP_1\tP_2\tP_3\n",
    ",timeReq=3*[mx.df.index[0]]+[mx.df.index[-1]]\n",
    ",timeReq2nd=4*[mx.df.index[-1]]\n",
    ",viewList=['vAGSN','vKNOT','vROHR','vFWVB','vVBEL']\n",
    ",ForceNoH5Update=True) "
   ]
  },
  {
   "cell_type": "code",
   "execution_count": null,
   "metadata": {},
   "outputs": [],
   "source": [
    "vAGSN=xm.dataFrames['vAGSN']\n",
    "vAGSN.filter(items=['P','P_1','P_2','P_3'],axis=1).head()"
   ]
  },
  {
   "cell_type": "markdown",
   "metadata": {},
   "source": [
    "## Farben für Längsschnitte"
   ]
  },
  {
   "cell_type": "code",
   "execution_count": null,
   "metadata": {},
   "outputs": [],
   "source": [
    "# bar\n",
    "hpCSL='red'\n",
    "hpCRL='blue'\n",
    "# bBzg\n",
    "hpCSL2='lightcoral'\n",
    "hpCRL2='cornflowerblue'\n",
    "hpZ='black'\n",
    "# Q\n",
    "hpCSL3='salmon'\n",
    "hpCRL3='lightsteelblue'\n",
    "# bar Min/Max\n",
    "hpCSLMax='mediumvioletred'\n",
    "hpCSLMin='palevioletred'\n",
    "hpCRLMax='darkcyan'\n",
    "hpCRLMin='aqua'"
   ]
  },
  {
   "cell_type": "markdown",
   "metadata": {},
   "source": [
    "## Farben für Zeitkurven"
   ]
  },
  {
   "cell_type": "markdown",
   "metadata": {},
   "source": [
    "### Definitionen"
   ]
  },
  {
   "cell_type": "code",
   "execution_count": null,
   "metadata": {},
   "outputs": [],
   "source": [
    "# Linienattribute für Paare von Linien\n",
    "lwThick=mpl.rcParams['lines.linewidth']*2 # zuerst gezeichnete Linie (hell)\n",
    "lsThin='--' # danach gezeichnete Linie (dunkel)"
   ]
  },
  {
   "cell_type": "markdown",
   "metadata": {},
   "source": [
    "### Festlegung der Farben"
   ]
  },
  {
   "cell_type": "code",
   "execution_count": null,
   "metadata": {},
   "outputs": [],
   "source": [
    "# fuer A,B,C: Auswahl aus konstruierten Tönen\n",
    "ntcCat=10\n",
    "ntcCatSub=3 \n",
    "tcCm=Rm.pltMakeCategoricalCmap(catagoryColors=[idx for idx in range(ntcCat)],nOfSubCatsReq=ntcCatSub)\n",
    "\n",
    "catA=0 # blau\n",
    "catB=1 # orange\n",
    "catC=2 # grün\n",
    "catFromIdx={}\n",
    "catFromIdx[0]=catA\n",
    "catFromIdx[1]=catB\n",
    "catFromIdx[2]=catC\n",
    "\n",
    "# DH: RD,MD,VD: \n",
    "tcC_SL=plt.get_cmap(\"tab20b\").colors[3*4+2] \n",
    "tcC_RL=plt.get_cmap(\"tab20b\").colors[0*4+2] \n",
    "tcC_ML=plt.get_cmap(\"tab20b\").colors[4*4+2] \n",
    "\n",
    "tcC_SLl=plt.get_cmap(\"tab20b\").colors[3*4+3] \n",
    "tcC_RLl=plt.get_cmap(\"tab20b\").colors[0*4+3] \n",
    "tcC_MLl=plt.get_cmap(\"tab20b\").colors[4*4+3]\n",
    "\n",
    "# DH: RD,MD-Paare: Sequenzen\n",
    "tcC_XL=[tcC_RLl,tcC_RL,tcC_MLl,tcC_ML]\n",
    "tcLs_XL=[mpl.rcParams['lines.linestyle'],lsThin,mpl.rcParams['lines.linestyle'],lsThin]\n",
    "tcLw_XL=[lwThick,mpl.rcParams['lines.linewidth'],lwThick,mpl.rcParams['lines.linewidth']]\n",
    "\n",
    "# DH: Q,Linepackrate:\n",
    "tcC_QDH=plt.get_cmap(\"tab20b\").colors[2*4+0] \n",
    "tcC_QLPRate=plt.get_cmap(\"tab20b\").colors[2*4+3] \n",
    "\n",
    "# DH: Q,Linepackrate-Paar: Sequenz\n",
    "tcC_DH=[tcC_QDH,tcC_QLPRate]\n",
    "tcLs_DH=[mpl.rcParams['lines.linestyle'],lsThin]\n",
    "tcLw_DH=[lwThick,mpl.rcParams['lines.linewidth']]\n",
    "\n",
    "# DH: V\n",
    "tcC_VDH=plt.get_cmap(\"tab20b\").colors[1*4+2] "
   ]
  },
  {
   "cell_type": "markdown",
   "metadata": {},
   "source": [
    "## Plot"
   ]
  },
  {
   "cell_type": "code",
   "execution_count": null,
   "metadata": {},
   "outputs": [],
   "source": [
    "# 2 Zeiten auswählen\n",
    "time1=timeSumMaxMx1DfFwesW\n",
    "time2=timeSumMinMx1DfFwesW"
   ]
  },
  {
   "cell_type": "code",
   "execution_count": null,
   "metadata": {},
   "outputs": [],
   "source": [
    "# Ergebnisse für die 2 Zeiten holen\n",
    "vAGSN_T1,vKNOT_T1,vROHR_T1,vFWVB_T1,vVBEL_T1,hpSL_T1,hpRL_T1=mxAdd(xm,mx,timeReq=time1)\n",
    "vAGSN_T2,vKNOT_T2,vROHR_T2,vFWVB_T2,vVBEL_T2,hpSL_T2,hpRL_T2=mxAdd(xm,mx,timeReq=time2)"
   ]
  },
  {
   "cell_type": "code",
   "execution_count": null,
   "metadata": {},
   "outputs": [],
   "source": [
    "# Ref/Cmp zuordnen\n",
    "timeRef=time1\n",
    "timeCmp=time2\n",
    "\n",
    "hpSLRef=hpSL_T1\n",
    "hpRLRef=hpRL_T1\n",
    "\n",
    "hpSLCmp=hpSL_T2\n",
    "hpRLCmp=hpRL_T2\n",
    "\n",
    "vROHRRef=vROHR_T1\n",
    "vROHRCmp=vROHR_T2"
   ]
  },
  {
   "cell_type": "code",
   "execution_count": null,
   "metadata": {},
   "outputs": [],
   "source": [
    "vROHR_NFD=pd.merge(vROHRRef\n",
    "         ,hpRLRef[hpRLRef.IptIdx=='S']\n",
    "         ,how='left'\n",
    "         ,left_on='pk'\n",
    "         ,right_on='OBJID'\n",
    "         ,suffixes=('','_AGSN')).filter(items=vROHRRef.columns.tolist()+['OBJID'])"
   ]
  },
  {
   "cell_type": "code",
   "execution_count": null,
   "metadata": {},
   "outputs": [],
   "source": [
    "plt.close()\n",
    "\n",
    "size_DINA3quer=(16.5, 11.7) \n",
    "plt.rc('figure',figsize=size_DINA3quer) \n",
    "plt.rc('figure',dpi=72)\n",
    "plt.rc('savefig',dpi=72*2)\n",
    "fig=plt.figure()\n",
    "\n",
    "# .............................................................\n",
    "# Paramtrierung\n",
    "# .............................................................\n",
    "# links: 1 NFD und 1 NDD\n",
    "# .............................................................\n",
    "# links nimmt die ganz linke Hälfte des Dashboards ein\n",
    "leftTileRight=0.5\n",
    "\n",
    "# rechts: 3 ZKs\n",
    "# .............................................................\n",
    "# rechts nimmt die ganz linke Hälfte des Dashboards ein \n",
    "rightTileStart=1-leftTileRight\n",
    "# allerdings wird Platz für die y-Achsen benötigt\n",
    "rightTileYAxisXSpace=0.125\n",
    "rightTileStart=rightTileStart+rightTileYAxisXSpace\n",
    "rightTileH_pad=0.5\n",
    "\n",
    "# x-Achse\n",
    "#majLocator=mdates.MinuteLocator(interval=5)\n",
    "majLocator=mdates.MinuteLocator(byminute=[0,5,10,15,20,25,30,35,40,45,50,55])\n",
    "majFormatter=mdates.DateFormatter('%d.%m.%y: %H:%M')\n",
    "\n",
    "# .............................................................\n",
    "# links: 1 NFD und 1 NDD\n",
    "# .............................................................\n",
    "gs1 = gridspec.GridSpec(2, 1)\n",
    "axNfd = fig.add_subplot(gs1[0])\n",
    "axHp = fig.add_subplot(gs1[1])\n",
    "gs1.tight_layout(fig, rect=[0, 0, leftTileRight, 1])\n",
    "    #rect : if rect is given, it is interpreted as a rectangle\n",
    "    #(left, bottom, right, top) in the normalized figure coordinate that the whole subplots area (including labels) will fit into\n",
    "\n",
    "# .............................................................\n",
    "# NFD\n",
    "# .............................................................\n",
    "Rm.Rm.pltNetPipes(vROHR_NFD\n",
    ",query=\"CONT_ID == '1001'\"\n",
    ",fmask=lambda row: True if row.KVR_i=='2' and row.KVR_k=='2' else False \n",
    ",pAx=axNfd\n",
    ",pAttributeFunc=lambda row: math.fabs(row['ROHR~*~*~*~QMAV'])\n",
    ",pAttributeColorMapMin=0.\n",
    ",pAttributeColorMapMax=1600.\n",
    ",CBLabel='Q [t/h]'    \n",
    ",sort_values_by=['pAttributeFunc'] \n",
    ",sort_values_ascending=True       \n",
    ",pAttributeColorMapFmask=lambda row: True if not pd.isnull(row.OBJID) else False \n",
    ",pAttributeColorMap2ndFmask=lambda row: True if pd.isnull(row.OBJID) else False \n",
    ",pAttributeColorMap2ndUsageStart=1./4. # nicht zu weiß \n",
    ",pAttributeColorMap2ndUsageEnd=1./2. # nicht zu schwarz\n",
    ")    \n",
    "# .............................................................\n",
    "# HP\n",
    "# .............................................................\n",
    "    \n",
    "# (negativer) Abstand der 2. y-Achse von der Zeichenfläche\n",
    "yTwinedAxesPosDeltaHP=-0.100\n",
    "\n",
    "axHp.set_ylabel('p [bar]')  \n",
    "axHp.set_ylim(0,16)          \n",
    "axHp.set_yticks(np.arange(0, 16.1, 1))  \n",
    "\n",
    "axHp.plot(hpSLRef['x'],hpSLRef['bBzg'],color=hpCSL2)        \n",
    "axHp.plot(hpRLRef['x'],hpRLRef['bBzg'],color=hpCRL2)   \n",
    "\n",
    "axHp.plot(hpSLRef['x'],hpSLRef['zBzgMin'],color=hpZ,ls='--')   \n",
    "\n",
    "axHp.plot(hpSLRef['x'],hpSLRef['P'],color=hpCSL)        \n",
    "axHp.plot(hpRLRef['x'],hpRLRef['P'],color=hpCRL)   \n",
    "\n",
    "\n",
    "hpSLRef = hpSLRef.apply(pd.to_numeric, errors='ignore')\n",
    "hpSLCmp = hpSLCmp.apply(pd.to_numeric, errors='ignore')\n",
    "axHp.fill_between(hpSLRef['x'], hpSLRef['P'], hpSLCmp['P'], color='grey', alpha=0.5)\n",
    "hpRLRef = hpRLRef.apply(pd.to_numeric, errors='ignore')\n",
    "hpRLCmp = hpRLCmp.apply(pd.to_numeric, errors='ignore')\n",
    "axHp.fill_between(hpRLRef['x'], hpRLRef['P'], hpRLCmp['P'], color='grey', alpha=0.5)\n",
    "\n",
    "axHp.plot(hpSL_SMax['x'],hpSL_SMax['P'],color=hpCSLMax,ls='--')        \n",
    "axHp.plot(hpSL_SMin['x'],hpSL_SMin['P'],color=hpCSLMin,ls='--')   \n",
    "\n",
    "axHp.plot(hpRL_SMax['x'],hpRL_SMax['P'],color=hpCRLMax,ls='--')        \n",
    "axHp.plot(hpRL_SMin['x'],hpRL_SMin['P'],color=hpCRLMin,ls='--') \n",
    "\n",
    "\n",
    "\n",
    "# x-Achse\n",
    "ax=axHp\n",
    "axHp.set_xlim(0,23000)          \n",
    "axHp.set_xticks(np.arange(0, 23000.1, 1000))      \n",
    "plt.setp(ax.xaxis.get_majorticklabels(),rotation='vertical',ha='center')\n",
    "ax.grid()\n",
    "\n",
    "# 2. y-Achse\n",
    "axHp_2nd = axHp.twinx()\n",
    "axHp_2nd.spines[\"left\"].set_position((\"axes\", yTwinedAxesPosDeltaHP)) \n",
    "Rm.pltMakePatchSpinesInvisible(axHp_2nd)\n",
    "axHp_2nd.spines['left'].set_visible(True)  \n",
    "axHp_2nd.yaxis.set_label_position('left')\n",
    "axHp_2nd.yaxis.set_ticks_position('left')\n",
    "\n",
    "axHp_2nd.set_ylabel('Q [t/h]')  \n",
    "axHp_2nd.set_ylim(-1600,1600)          \n",
    "axHp_2nd.set_yticks(np.arange(-1600, 1600.1, 200))\n",
    "axHp_2nd.plot(hpRLRef['x'],hpRLRef['Q'],color=hpCRL3,ls='-')        \n",
    "axHp_2nd.fill_between(hpRLRef['x'], hpRLRef['Q'], hpRLCmp['Q'], color='mediumslateblue', alpha=0.5)\n",
    "\n",
    "\n",
    "\n",
    "    \n",
    "    \n",
    "# .............................................................\n",
    "# rechts: 3 ZKs\n",
    "# .............................................................\n",
    "gs2 = gridspec.GridSpec(3, 1)\n",
    "axTcUp = fig.add_subplot(gs2[0])\n",
    "axTcMi = fig.add_subplot(gs2[1])\n",
    "axTcBo = fig.add_subplot(gs2[2])\n",
    "gs2.tight_layout(fig, rect=[rightTileStart, 0, 1, 1], h_pad=rightTileH_pad)\n",
    "    #pad : float\n",
    "    #padding between the figure edge and the edges of subplots, as a fraction of the font-size\n",
    "    #h_pad, w_pad : float\n",
    "    #padding (height/width) between edges of adjacent subplots\n",
    "\n",
    "# (negativer) Abstand der 2. y-Achse von der Zeichenfläche\n",
    "yTwinedAxesPosDelta=-0.175\n",
    "\n",
    "# .............................................................\n",
    "# oberste ZK\n",
    "# .............................................................\n",
    "axTcUp.stackplot(mx1DfFwesW.index.values #x\n",
    "                 ,np.row_stack([mx1DfFwesW[col].values for col in mx1DfFwesW.columns.tolist()]) #y\n",
    "                 ,colors=[tcCm.colors[catA*ntcCatSub+0],tcCm.colors[catB*ntcCatSub+0],tcCm.colors[catC*ntcCatSub+0]]\n",
    "                 ,labels=['A','B','C']\n",
    "                )\n",
    "axTcUp.set_ylabel('W [MW]') \n",
    "axTcUp.set_ylim(200000,600000)          \n",
    "axTcUp.set_yticks(np.arange(200000, 600001, 100000))\n",
    "axTcUp.set_yticklabels([\"{0:2.0f}\".format(x) for x in np.arange(20, 60.1,10)])\n",
    "# x-Achse\n",
    "ax=axTcUp\n",
    "ax.xaxis.set_major_locator(majLocator)\n",
    "ax.xaxis.set_major_formatter(majFormatter)    \n",
    "plt.setp(ax.xaxis.get_majorticklabels(),rotation='vertical',ha='center')\n",
    "ax.grid()\n",
    "# wg. der x-Achse (nur in der obersten ZK) muss der eigentliche Zeichenbereich verkleinert werden\n",
    "pos1 = ax.get_position()\n",
    "pos2 = [pos1.x0, pos1.y0+0.10,  pos1.width, pos1.height * 0.65] \n",
    "ax.set_position(pos2) \n",
    "\n",
    "# .............................................................\n",
    "# mittlere ZK\n",
    "# .............................................................\n",
    "\n",
    "# Bsp. Plot mit pltTC\n",
    "yAxes,yLines,vLines,yLinesLegendLabels=Rm.Rm.pltTC(pd.concat([mx1DfPumpNywPairs,mx1DfPumpQ],axis=1)\n",
    "            ,tcLines={ \n",
    "              'RSLW~wNA~~XA'\n",
    "                   :{'label':'RSLW~wNA~~XA'  \n",
    "                     ,'forceYType':'N'\n",
    "                     ,'color':tcCm.colors[catFromIdx[0]*ntcCatSub+ntcCatSub-1]\n",
    "                     ,'linestyle':'-'\n",
    "                     ,'linewidth':lwThick}\n",
    "              ,'PUMP~R-A-SS~R-A-DS~N'\n",
    "                   :{'label':'PUMP~R-A-SS~R-A-DS~N','color':tcCm.colors[catFromIdx[0]*ntcCatSub+0]\n",
    "                     ,'linestyle':lsThin}    \n",
    "              ,'RSLW~wNB~~XA'\n",
    "                   :{'label':'RSLW~wNB~~XA'  \n",
    "                     ,'forceYType':'N'\n",
    "                     ,'color':tcCm.colors[catFromIdx[1]*ntcCatSub+ntcCatSub-1]\n",
    "                     ,'linestyle':'-'\n",
    "                     ,'linewidth':lwThick}\n",
    "              ,'PUMP~R-B-SS~R-B-DS~N'\n",
    "                   :{'label':'PUMP~R-B-SS~R-B-DS~N','color':tcCm.colors[catFromIdx[1]*ntcCatSub+0]\n",
    "                     ,'linestyle':lsThin}    \n",
    "              ,'RSLW~wNC~~XA'\n",
    "                   :{'label':'RSLW~wNC~~XA'  \n",
    "                     ,'forceYType':'N'\n",
    "                     ,'color':tcCm.colors[catFromIdx[2]*ntcCatSub+ntcCatSub-1]\n",
    "                     ,'linestyle':'-'\n",
    "                     ,'linewidth':lwThick}\n",
    "              ,'PUMP~R-C-SS~R-C-DS~N'\n",
    "                   :{'label':'PUMP~R-C-SS~R-C-DS~N','color':tcCm.colors[catFromIdx[2]*ntcCatSub+0]\n",
    "                     ,'linestyle':lsThin}  \n",
    "            \n",
    "              ,'PUMP~R-A-SS~R-A-DS~QM'\n",
    "                   :{'label':'PUMP~R-A-SS~R-A-DS~QM','color':tcCm.colors[catFromIdx[0]*ntcCatSub+0]\n",
    "                     ,'linestyle':lsThin}    \n",
    "              ,'PUMP~R-B-SS~R-B-DS~QM'\n",
    "                   :{'label':'PUMP~R-B-SS~R-B-DS~QM','color':tcCm.colors[catFromIdx[1]*ntcCatSub+0]\n",
    "                     ,'linestyle':lsThin}    \n",
    "              ,'PUMP~R-C-SS~R-C-DS~QM'\n",
    "                   :{'label':'PUMP~R-C-SS~R-C-DS~QM','color':tcCm.colors[catFromIdx[2]*ntcCatSub+0]\n",
    "                     ,'linestyle':lsThin}                  \n",
    "                \n",
    "                \n",
    "             }\n",
    "            ,pAx=axTcMi  \n",
    "            ,majLocator=majLocator\n",
    "            ,majFormatter=majFormatter\n",
    "            ,xTicksLabelsOff=True\n",
    "            ,yTwinedAxesPosDeltaHPStart=0\n",
    "            ,yTwinedAxesPosDeltaHP=-0.175    \n",
    "            ,lOff=True\n",
    "            )\n",
    "\n",
    "yAxes['N'].set_ylabel('N [rpm]')   \n",
    "yAxes['N'].set_ylim(1250,1650)          \n",
    "yAxes['N'].set_yticks(np.arange(1250, 1651, 50))\n",
    "\n",
    "yAxes['QM'].set_ylabel('Q [t/h]')   \n",
    "yAxes['QM'].set_ylim(0,4000)          \n",
    "yAxes['QM'].set_yticks(np.arange(0, 4001, 500))\n",
    "\n",
    "# .............................................................\n",
    "# untere ZK\n",
    "# .............................................................\n",
    "axTcBo.set_ylabel('p [bar]')   \n",
    "axTcBo.set_ylim(4,8)          \n",
    "axTcBo.set_yticks(np.arange(4, 8.1, .4))\n",
    "for idx,col in enumerate(mx1DfDH.columns.tolist()):\n",
    "    line,=axTcBo.plot(mx1DfDH.index.values,mx1DfDH[col]                     \n",
    "                      ,color= tcC_XL[idx]\n",
    "                      ,ls=tcLs_XL[idx]\n",
    "                      ,lw=tcLw_XL[idx]\n",
    "                     )\n",
    "\n",
    "    \n",
    "ax=axTcBo\n",
    "ax.xaxis.set_major_locator(majLocator)\n",
    "ax.xaxis.set_major_formatter(majFormatter)    \n",
    "ax.set_xticklabels([])\n",
    "ax.grid()\n",
    "# x-Achsenbeschriftung ausschalten\n",
    "for tic in ax.xaxis.get_major_ticks():\n",
    "    tic.tick1On = tic.tick2On = False\n",
    "\n",
    "# 2. y-Achse\n",
    "axTcBo_2nd = axTcBo.twinx()\n",
    "axTcBo_2nd.spines[\"left\"].set_position((\"axes\", yTwinedAxesPosDelta)) \n",
    "Rm.pltMakePatchSpinesInvisible(axTcBo_2nd)\n",
    "axTcBo_2nd.spines['left'].set_visible(True)  \n",
    "axTcBo_2nd.yaxis.set_label_position('left')\n",
    "axTcBo_2nd.yaxis.set_ticks_position('left')\n",
    "axTcBo_2nd.set_ylabel('Q [t/h]')   \n",
    "axTcBo_2nd.set_ylim(-100,100)          \n",
    "axTcBo_2nd.set_yticks(np.arange(-100, 101, 20))\n",
    "for idx,col in enumerate(mx1DfDHQ.columns.tolist()):\n",
    "    line,=axTcBo_2nd.plot(mx1DfDHQ.index.values,mx1DfDHQ[col]                     \n",
    "                      ,color= tcC_DH[idx]\n",
    "                      ,ls=tcLs_DH[idx]\n",
    "                      ,lw=tcLw_DH[idx]\n",
    "                     )\n",
    "# x-Achsenbeschriftung ausschalten\n",
    "ax=axTcBo_2nd\n",
    "ax.xaxis.set_major_locator(majLocator)\n",
    "ax.xaxis.set_major_formatter(majFormatter)    \n",
    "plt.setp(ax.xaxis.get_majorticklabels(),rotation='vertical',ha='center')\n",
    "ax.set_xticklabels([])\n",
    "ax.grid()\n",
    "for tic in ax.xaxis.get_major_ticks():\n",
    "    tic.tick1On = tic.tick2On = False\n",
    "\n",
    "# 3. y-Achse\n",
    "axTcBo_3rd = axTcBo.twinx()\n",
    "axTcBo_3rd.spines[\"left\"].set_position((\"axes\", yTwinedAxesPosDelta*2)) \n",
    "Rm.pltMakePatchSpinesInvisible(axTcBo_3rd)\n",
    "axTcBo_3rd.spines['left'].set_visible(True)  \n",
    "axTcBo_3rd.yaxis.set_label_position('left')\n",
    "axTcBo_3rd.yaxis.set_ticks_position('left')\n",
    "axTcBo_3rd.set_ylabel('dV [(N)m3]')  \n",
    "axTcBo_3rd.set_ylim(-1,1)          \n",
    "axTcBo_3rd.set_yticks(np.arange(-1, 1.1, .2))\n",
    "line,=axTcBo_3rd.plot(mx1DfDHV.index.values,mx1DfDHV['ALLG~~~LINEPACKGEOM']                     \n",
    "                      ,color= tcC_VDH\n",
    "                      ,ls='-.'            \n",
    "                     )\n",
    "# x-Achsenbeschriftung ausschalten\n",
    "ax=axTcBo_3rd\n",
    "ax.xaxis.set_major_locator(majLocator)\n",
    "ax.xaxis.set_major_formatter(majFormatter)    \n",
    "plt.setp(ax.xaxis.get_majorticklabels(),rotation='vertical',ha='center')\n",
    "ax.set_xticklabels([])\n",
    "ax.grid()\n",
    "for tic in ax.xaxis.get_major_ticks():\n",
    "    tic.tick1On = tic.tick2On = False\n",
    "\n",
    "\n",
    "    \n",
    "# Zeitcursor für 2 Zeiten in allen ZKs darstellen\n",
    "axLst=[axTcUp,axTcMi,axTcBo]\n",
    "for ax in axLst:\n",
    "    vLinePlotted=ax.axvline(x=timeRef, ymin=0, ymax=1\n",
    "                              ,label='Zeit 1'\n",
    "                              ,color='dimgrey'\n",
    "                           #   ,linestyle=linestyle\n",
    "                           #   ,linewidth=linewidth\n",
    "                           )     \n",
    "    vLinePlotted=ax.axvline(x=timeCmp, ymin=0, ymax=1\n",
    "                              ,label='Zeit 2'\n",
    "                              ,color='dimgrey'\n",
    "                              ,linestyle='--'\n",
    "                           #   ,linewidth=linewidth\n",
    "                           )    \n",
    "plt.savefig('Dashboard.pdf',format='pdf',bbox_inches='tight')#,pad_inches=2)"
   ]
  },
  {
   "cell_type": "code",
   "execution_count": null,
   "metadata": {},
   "outputs": [],
   "source": [
    "# wieder 1. Zeit\n",
    "mx=xm.MxAdd()"
   ]
  },
  {
   "cell_type": "code",
   "execution_count": null,
   "metadata": {},
   "outputs": [],
   "source": [
    "vROHR=xm.dataFrames['vROHR']\n",
    "vROHR.info()"
   ]
  },
  {
   "cell_type": "code",
   "execution_count": null,
   "metadata": {},
   "outputs": [],
   "source": [
    "vKNOT=xm.dataFrames['vKNOT']"
   ]
  },
  {
   "cell_type": "code",
   "execution_count": null,
   "metadata": {},
   "outputs": [],
   "source": [
    "vKNOTexp=xm.vKNOTexpEBES()"
   ]
  },
  {
   "cell_type": "code",
   "execution_count": null,
   "metadata": {},
   "outputs": [],
   "source": [
    "import re\n",
    "qsCols=[col for col in vKNOTexp.columns.tolist() if re.search('^qs_',col) != None]\n",
    "qsCols"
   ]
  },
  {
   "cell_type": "code",
   "execution_count": null,
   "metadata": {},
   "outputs": [],
   "source": [
    "qsInfCols=[col for col in vKNOTexp.columns.tolist() if re.search('^qs[a-zA-Z0-9]+',col) != None]\n",
    "qsInfCols"
   ]
  },
  {
   "cell_type": "code",
   "execution_count": null,
   "metadata": {},
   "outputs": [],
   "source": [
    "vROHRexp=xm.vROHRexpEBES(vKNOTexp)"
   ]
  },
  {
   "cell_type": "code",
   "execution_count": null,
   "metadata": {},
   "outputs": [],
   "source": [
    "vROHRexp.shape"
   ]
  },
  {
   "cell_type": "code",
   "execution_count": null,
   "metadata": {},
   "outputs": [],
   "source": [
    "vROHR.shape"
   ]
  },
  {
   "cell_type": "code",
   "execution_count": null,
   "metadata": {},
   "outputs": [],
   "source": [
    "vROHRexp['QAbs']=vROHRexp.apply(lambda row: math.fabs(row['ROHR~*~*~*~QMAV']),axis=1)  "
   ]
  },
  {
   "cell_type": "code",
   "execution_count": null,
   "metadata": {},
   "outputs": [],
   "source": [
    "vROHRexp=vROHRexp[vROHRexp['KVR']=='1']"
   ]
  },
  {
   "cell_type": "code",
   "execution_count": null,
   "metadata": {},
   "outputs": [],
   "source": [
    "grpObj=vROHRexp.groupby(by=['qsigRank'],as_index=False)        \n",
    "d={col:'min' for col in ['qsigStr','qs_1_A','qs_2_B','qs_3_C']}       \n",
    "d.update({'qsigFWVB~*~*~*~W':'min'})      \n",
    "d.update({'qsigRank_sumL':'min'})   \n",
    "df=grpObj.agg(d).sort_values(by=['qsigRank'],ascending=True)       \n",
    "df"
   ]
  },
  {
   "cell_type": "code",
   "execution_count": null,
   "metadata": {},
   "outputs": [],
   "source": [
    "df[df['qsigStr']=='100']['qsigFWVB~*~*~*~W'].iloc[0]\n"
   ]
  },
  {
   "cell_type": "code",
   "execution_count": null,
   "metadata": {},
   "outputs": [],
   "source": [
    "\n",
    "plt.close()\n",
    "size_DINA3quer=(16.5, 11.7) \n",
    "dpiSize=72\n",
    "fig=plt.figure(figsize=size_DINA3quer,dpi=dpiSize)         \n",
    "gs = gridspec.GridSpec(1, 1)\n",
    "\n",
    "# ---\n",
    "# \n",
    "axNfd = fig.add_subplot(gs[0])              \n",
    "Rm.Rm.pltNetPipes(vROHRexp\n",
    "    ,query=\"CONT_ID == '1001'\"\n",
    "    ,fmask=lambda row: True if row.KVR_i=='1' and row.KVR_k=='1' else False \n",
    "    ,pAx=axNfd\n",
    "    ,pAttribute='qsA'\n",
    "    ,pAttributeColorMapFmask=lambda row: True if row.qsA >0 else False \n",
    "    ,pAttributeColorMap2ndFmask=lambda row: True if row.qsA <=0  else False   # da A 0 ist wird nur 1 Farbwert verwendet; \n",
    "                  # ... keine Unterscheidung zwischen von A nicht versorgten und gar nicht versorgten                  \n",
    "    ,pAttrLineSize='QAbs'\n",
    "    ,sort_values_by=['QAbs'] \n",
    "    ,sort_values_ascending=True      \n",
    "    ,pAttrLineSizeFactor=3*1./(vROHRexp['QAbs'].std()*2.)        \n",
    "    ,pAttributeColorMap2ndUsageStart=1./3\n",
    "    ,CBBinTicks=21 \n",
    "    ,CBLabel='Versorgung durch A in %'\n",
    "    )    \n",
    "txt=axNfd.set_title('EB von EG A (nicht durch EG A oder gar nicht von EGn versorgte: grau)')\n",
    "\n",
    "\n",
    "\n",
    "gs.tight_layout(fig)\n",
    "plt.show()"
   ]
  },
  {
   "cell_type": "code",
   "execution_count": null,
   "metadata": {},
   "outputs": [],
   "source": [
    "# dasselbe mit einer diskreten CM die eine explizite Aussage trifft was magenta und was cyan sein soll\n",
    "cmap = matplotlib.colors.ListedColormap(np.vstack(\n",
    "    (\n",
    "     Rm.pltMakeCategoricalColors(list(matplotlib.colors.to_rgb('cyan')),nOfSubColorsReq=5,reversedOrder=False),\n",
    "     Rm.pltMakeCategoricalColors(list(matplotlib.colors.to_rgb('magenta')),nOfSubColorsReq=15,reversedOrder=True)\n",
    "    )\n",
    "))       "
   ]
  },
  {
   "cell_type": "code",
   "execution_count": null,
   "metadata": {},
   "outputs": [],
   "source": [
    "plt.close()\n",
    "size_DINA3quer=(16.5, 11.7) \n",
    "dpiSize=72\n",
    "fig=plt.figure(figsize=size_DINA3quer,dpi=dpiSize)         \n",
    "gs = gridspec.GridSpec(1, 1)\n",
    "\n",
    "# ---\n",
    "# \n",
    "axNfd = fig.add_subplot(gs[0])              \n",
    "Rm.Rm.pltNetPipes(vROHRexp\n",
    "    ,query=\"CONT_ID == '1001'\"\n",
    "    ,fmask=lambda row: True if row.KVR_i=='1' and row.KVR_k=='1' else False \n",
    "    ,pAx=axNfd\n",
    "    ,pAttribute='qsA'\n",
    "    ,pAttributeColorMap=cmap \n",
    "    ,pAttributeColorMapFmask=lambda row: True if row.qsA >0 else False \n",
    "    ,pAttributeColorMap2ndFmask=lambda row: True if row.qsA <=0  else False   # da A 0 ist wird nur 1 Farbwert verwendet; \n",
    "                  # ... keine Unterscheidung zwischen von A nicht versorgten und gar nicht versorgten                  \n",
    "    ,pAttrLineSize='QAbs'\n",
    "    ,sort_values_by=['QAbs'] \n",
    "    ,sort_values_ascending=True      \n",
    "    ,pAttrLineSizeFactor=3*1./(vROHRexp['QAbs'].std()*2.)        \n",
    "    ,pAttributeColorMap2ndUsageStart=1./3\n",
    "    ,CBBinTicks=21 \n",
    "    ,CBLabel='Versorgung durch A in %'\n",
    "    )    \n",
    "txt=axNfd.set_title('EB von EG A (nicht durch EG A oder gar nicht von EGn versorgte: grau)')\n",
    "\n",
    "\n",
    "\n",
    "gs.tight_layout(fig)\n",
    "plt.show()"
   ]
  },
  {
   "cell_type": "code",
   "execution_count": null,
   "metadata": {},
   "outputs": [],
   "source": [
    "# diskrete CM für die QSIGs vorbelegen\n",
    "# ------------------------------------\n",
    "\n",
    "# Anz. EGn\n",
    "anzEG=len(qsCols)\n",
    "anzQSIG_moeglich=int(math.pow(2,anzEG))\n",
    "\n",
    "# kont. CM ist Ausgangsbasis\n",
    "cMap=plt.cm.get_cmap('jet') # kont.: hasattr(cMap,'from_list')\n",
    "# Farben  \n",
    "randOffset=.3\n",
    "cmQSIG=cMap.from_list('cmQSIG'\n",
    "                      , cMap(np.linspace(0+randOffset, 1-randOffset, anzQSIG_moeglich))\n",
    "                      , anzQSIG_moeglich)\n",
    "\n",
    "plt.close()\n",
    "size_DINA6quer=(5.8,4.1)    \n",
    "fig, ax = plt.subplots(figsize=size_DINA6quer)\n",
    "fig.subplots_adjust(bottom=0.5)\n",
    "norm=matplotlib.colors.Normalize(vmin=0, vmax=anzQSIG_moeglich)\n",
    "cb=matplotlib.colorbar.ColorbarBase(ax, cmap=cmQSIG,norm=norm,orientation='horizontal')\n",
    "cb.set_label('so viele Farben wie mögliche QSIGen')    \n",
    "plt.show()"
   ]
  },
  {
   "cell_type": "code",
   "execution_count": null,
   "metadata": {},
   "outputs": [],
   "source": [
    "# einzelne Farben darin ersetzen\n",
    "\n",
    "def f(cMap,idxCol,newCol):    \n",
    "    colors=cMap(np.arange(cMap.N,dtype=int)) # alle Farben\n",
    "    newCol=list(matplotlib.colors.to_rgb(newCol))    \n",
    "    newCol.extend([1.])\n",
    "    colors[idxCol]=newCol\n",
    "    return matplotlib.colors.ListedColormap(colors)  \n",
    "\n",
    "# Farbe der 0-Einspeisergruppe  festlegen\n",
    "ZColor='lightgray'\n",
    "cmQSIG=f(cmQSIG,int('000',2),ZColor)\n",
    "\n",
    "# Farbe der 1-Einspeisergruppe  festlegen\n",
    "ZColor='darkgray'\n",
    "cmQSIG=f(cmQSIG,int('111',2),ZColor)\n",
    "\n",
    "# Farbe der A-Einspeisergruppe  festlegen -1.\n",
    "AColColor='magenta'#'mediumorchid'\n",
    "cmQSIG=f(cmQSIG,int('100',2),AColColor)\n",
    "# 2.\n",
    "NAColor='orange'\n",
    "cmQSIG=f(cmQSIG,int('010',2),NAColor)\n",
    "# 3.\n",
    "cmQSIG=f(cmQSIG,int('001',2),'r')\n",
    "\n",
    "\n",
    "\n",
    "plt.close()\n",
    "size_DINA6quer=(5.8,4.1)    \n",
    "fig, ax = plt.subplots(figsize=size_DINA6quer)\n",
    "fig.subplots_adjust(bottom=0.5)\n",
    "norm=matplotlib.colors.Normalize(vmin=0, vmax=anzQSIG_moeglich)\n",
    "cb=matplotlib.colorbar.ColorbarBase(ax, cmap=cmQSIG,norm=norm,orientation='horizontal')\n",
    "cb.set_label('so viele Farben wie mögliche QSIGen')    \n",
    "plt.show()\n",
    "\n"
   ]
  },
  {
   "cell_type": "code",
   "execution_count": null,
   "metadata": {},
   "outputs": [],
   "source": [
    "vROHRexp['qsigInt']=vROHRexp.apply(lambda row: int(row.qsigStr,2) ,axis=1)  \n",
    "vROHRexp['qsigInt'].unique() # der Wertebereich ist weder zwingend lückenlos, \n",
    "#noch hat er zwingend soviele Ausprägungen wie die CM Farben hat"
   ]
  },
  {
   "cell_type": "code",
   "execution_count": null,
   "metadata": {},
   "outputs": [],
   "source": [
    "import numpy as np\n",
    "plt.close()\n",
    "size_DINA3quer=(16.5, 11.7) \n",
    "dpiSize=72\n",
    "fig=plt.figure(figsize=size_DINA3quer,dpi=dpiSize)         \n",
    "gs = gridspec.GridSpec(1, 1)\n",
    "\n",
    "# ---\n",
    "# \n",
    "axNfd = fig.add_subplot(gs[0])              \n",
    "Rm.Rm.pltNetPipes(vROHRexp\n",
    "    ,query=\"CONT_ID == '1001'\"\n",
    "    ,fmask=lambda row: True if row.KVR_i=='1' and row.KVR_k=='1' else False \n",
    "    ,pAx=axNfd\n",
    "    ,pAttributeColorMap=cmQSIG\n",
    "    ,pAttribute='qsigInt'\n",
    "    ,CBBinBounds=[idx for idx in range(anzQSIG_moeglich+1)]\n",
    "   \n",
    "    ,pAttrLineSize='QAbs'\n",
    "    ,sort_values_by=['QAbs'] \n",
    "    ,sort_values_ascending=True      \n",
    "    ,pAttrLineSizeFactor=3*1./(vROHRexp['QAbs'].std()*2.)   \n",
    "                  \n",
    "    # es werden so viele Ticks generiert wie Bounds Einträge hat - 1 mehr als Anzahl Farben\n",
    "    # wir wollen weniger Ticks (so viele wie Anzahl Farben) und diese in der Mitte  \n",
    "    ,CBTicks=[idx+.5 for idx in range(anzQSIG_moeglich)]\n",
    "    ,CBTickLabels=[\"{0:b}\".format(idx).zfill(anzEG) for idx in range(anzQSIG_moeglich)]     \n",
    "    ,CBLabel='QSIG'\n",
    "    )    \n",
    "txt=axNfd.set_title('Quellsignatur ABC (alle Signaturen in Farbskala)')\n",
    "\n",
    "\n",
    "\n",
    "gs.tight_layout(fig)\n",
    "plt.show()"
   ]
  },
  {
   "cell_type": "code",
   "execution_count": null,
   "metadata": {},
   "outputs": [],
   "source": [
    "# nur die Farben holen, welche vorkommen\n",
    "# alle Farben holen, welche die cmap hat\n",
    "ccolors = plt.get_cmap(cmQSIG)(np.arange(plt.get_cmap(cmQSIG).N,dtype=int))\n",
    "# die gewuenschten Farben extrahieren   \n",
    "\n",
    "QSIGBzLst=sorted([int(idx,2) for idx in vROHRexp['qsigStr'].unique()])\n",
    "ccolors=[ccolors[idx] for idx in QSIGBzLst]\n",
    "cmQSIGBz = matplotlib.colors.ListedColormap(ccolors) \n",
    "QSIGBzLst"
   ]
  },
  {
   "cell_type": "code",
   "execution_count": null,
   "metadata": {},
   "outputs": [],
   "source": [
    "plt.close()\n",
    "size_DINA6quer=(5.8,4.1)    \n",
    "fig, ax = plt.subplots(figsize=size_DINA6quer)\n",
    "fig.subplots_adjust(bottom=0.5)\n",
    "norm=matplotlib.colors.Normalize(vmin=0, vmax=len(QSIGBzLst))\n",
    "cb=matplotlib.colorbar.ColorbarBase(ax, cmap=cmQSIGBz,norm=norm,orientation='horizontal')\n",
    "cb.set_label('so viele Farben wie vorkommende QSIGen')    \n",
    "plt.show()"
   ]
  },
  {
   "cell_type": "code",
   "execution_count": null,
   "metadata": {},
   "outputs": [],
   "source": [
    "QSIGBzLstIdx=[idx for idx in range(len(QSIGBzLst))]\n",
    "QSIGBzLstIdx"
   ]
  },
  {
   "cell_type": "code",
   "execution_count": null,
   "metadata": {},
   "outputs": [],
   "source": [
    "vROHRexp['qsigIntBzIdx']=vROHRexp.apply(lambda row: QSIGBzLst.index(row.qsigInt)  ,axis=1) "
   ]
  },
  {
   "cell_type": "code",
   "execution_count": null,
   "metadata": {},
   "outputs": [],
   "source": [
    "vROHRexp['qsigIntBzIdx'].unique()\n",
    "# der Wertebereich ist jetzt lückenlos und hat soviele voneinander verschiedene Ausprägungen wie die CM Farben hat"
   ]
  },
  {
   "cell_type": "code",
   "execution_count": null,
   "metadata": {},
   "outputs": [],
   "source": [
    "\n",
    "plt.close()\n",
    "size_DINA3quer=(16.5, 11.7) \n",
    "dpiSize=72\n",
    "fig=plt.figure(figsize=size_DINA3quer,dpi=dpiSize)         \n",
    "gs = gridspec.GridSpec(1, 1)\n",
    "\n",
    "ticksLabels=[\"{0:b}\".format(QSIGBzLst[idx]).zfill(anzEG) for idx in range(plt.get_cmap(cmQSIGBz).N)]\n",
    "\n",
    "# ---\n",
    "# \n",
    "axNfd = fig.add_subplot(gs[0])              \n",
    "Rm.Rm.pltNetPipes(vROHRexp\n",
    "    ,query=\"CONT_ID == '1001'\"\n",
    "    ,fmask=lambda row: True if row.KVR_i=='1' and row.KVR_k=='1' else False \n",
    "    ,pAx=axNfd\n",
    "    ,pAttributeColorMap=cmQSIGBz\n",
    "    ,pAttribute='qsigIntBzIdx'  \n",
    "                  \n",
    "    ,CBBinBounds=[idx for idx in range(len(vROHRexp['qsigIntBzIdx'].unique())+1)]                  \n",
    "   \n",
    "    ,pAttrLineSize='QAbs'\n",
    "    ,sort_values_by=['QAbs'] \n",
    "    ,sort_values_ascending=True      \n",
    "    ,pAttrLineSizeFactor=3*1./(vROHRexp['QAbs'].std()*2.)        \n",
    "                  \n",
    "    # es werden so viele Ticks generiert wie Bounds Einträge hat - 1 mehr als Anzahl Farben\n",
    "    # wir wollen weniger Ticks (so viele wie Anzahl Farben) und diese in der Mitte  \n",
    "    ,CBTicks=[idx+.5 for idx in range(len(vROHRexp['qsigIntBzIdx'].unique()))]\n",
    "    ,CBTickLabels=[\"dummy\" for idx in range(len(vROHRexp['qsigIntBzIdx'].unique()))]                       \n",
    "                     \n",
    "    ,CBLabel='QSIG'\n",
    "    )    \n",
    "txt=axNfd.set_title('Quellsignatur ABC (nur vorkommende Signaturen in Farbskala)')\n",
    "\n",
    "ax = plt.gca() \n",
    "#print(ax.get_yticks())\n",
    "#print(ax.get_yticklabels())\n",
    "\n",
    "newTickLabels=len(vROHRexp['qsigIntBzIdx'].unique())*[\"\"]\n",
    "\n",
    "df=vROHRexp[['qsigIntBzIdx','qsigStr','qsigRank_L','qsigRank_sumL']].drop_duplicates().reset_index()\n",
    "\n",
    "for index, row in df.iterrows():\n",
    "    idx2=row['qsigIntBzIdx']\n",
    "    qsigStr=row['qsigStr']\n",
    "    newTickLabels[idx2]=qsigStr\n",
    "   \n",
    "ax.set_yticklabels(newTickLabels,rotation=90,va='center',ha='left')\n",
    "\n",
    "\n",
    "gs.tight_layout(fig)\n",
    "plt.show()"
   ]
  },
  {
   "cell_type": "markdown",
   "metadata": {},
   "source": [
    "# Abschlussarbeiten \n",
    "\n",
    "## Anleitung Doc-Gen\n",
    "\n",
    "Version-String in conf.py and setup.py\n",
    "\n",
    "sphinx-build -b html . _build\n",
    "\n",
    "sphinx-build -b latex . _build \n",
    "\n",
    "in _build:\n",
    "\n",
    "pdflatex --extra-mem-bot=10000000 PT3S.tex\n",
    "\n",
    "erzeugt PT3S.PDF; kopieren nach ..\n",
    "\n",
    "## Anmerkungen\n",
    "\n",
    "z.B. PDF Doc-Gen derzeit nur um die grundsätzliche Generierbarkeit zu prüfen: d.h. ob die Kommentar- und Testbereiche redaktionell soll aufgebaut sind, dass ein Generator damit zurecht kommt; die Einstiegs-Doc ist dieses Notebook"
   ]
  },
  {
   "cell_type": "markdown",
   "metadata": {},
   "source": [
    "# Deploy"
   ]
  },
  {
   "cell_type": "code",
   "execution_count": 9,
   "metadata": {},
   "outputs": [
    {
     "name": "stdout",
     "output_type": "stream",
     "text": [
      "running clean\n",
      "running sdist\n",
      "running egg_info\n",
      "writing PT3S.egg-info\\PKG-INFO\n",
      "writing dependency_links to PT3S.egg-info\\dependency_links.txt\n",
      "writing top-level names to PT3S.egg-info\\top_level.txt\n",
      "reading manifest file 'PT3S.egg-info\\SOURCES.txt'\n",
      "adding license file 'LICENSE'\n",
      "writing manifest file 'PT3S.egg-info\\SOURCES.txt'\n",
      "running check\n",
      "creating PT3S-90.12.4.40.dev1\n",
      "creating PT3S-90.12.4.40.dev1\\testdata\n",
      "creating PT3S-90.12.4.40.dev1\\testdata09\n",
      "creating PT3S-90.12.4.40.dev1\\testdata09\\WDGPipe\n",
      "creating PT3S-90.12.4.40.dev1\\testdata09\\WDGPipe\\B1\n",
      "creating PT3S-90.12.4.40.dev1\\testdata09\\WDGPipe\\B1\\V0\n",
      "creating PT3S-90.12.4.40.dev1\\testdata09\\WDGPipe\\B1\\V0\\BZ1\n",
      "creating PT3S-90.12.4.40.dev1\\testdata09\\WDLocalHeatingNetwork\n",
      "creating PT3S-90.12.4.40.dev1\\testdata09\\WDLocalHeatingNetwork\\B1\n",
      "creating PT3S-90.12.4.40.dev1\\testdata09\\WDLocalHeatingNetwork\\B1\\V0\n",
      "creating PT3S-90.12.4.40.dev1\\testdata09\\WDLocalHeatingNetwork\\B1\\V0\\BZ1\n",
      "creating PT3S-90.12.4.40.dev1\\testdata09\\WDOneLPipe\n",
      "creating PT3S-90.12.4.40.dev1\\testdata09\\WDOneLPipe\\B1\n",
      "creating PT3S-90.12.4.40.dev1\\testdata09\\WDOneLPipe\\B1\\V0\n",
      "creating PT3S-90.12.4.40.dev1\\testdata09\\WDOneLPipe\\B1\\V0\\BZ1\n",
      "creating PT3S-90.12.4.40.dev1\\testdata09\\WDTinyWDN\n",
      "creating PT3S-90.12.4.40.dev1\\testdata09\\WDTinyWDN\\B1\n",
      "creating PT3S-90.12.4.40.dev1\\testdata09\\WDTinyWDN\\B1\\V0\n",
      "creating PT3S-90.12.4.40.dev1\\testdata09\\WDTinyWDN\\B1\\V0\\BZ1\n",
      "creating PT3S-90.12.4.40.dev1\\testdata10\n",
      "creating PT3S-90.12.4.40.dev1\\testdata10\\WDGPipe\n",
      "creating PT3S-90.12.4.40.dev1\\testdata10\\WDGPipe\\B1\n",
      "creating PT3S-90.12.4.40.dev1\\testdata10\\WDGPipe\\B1\\V0\n",
      "creating PT3S-90.12.4.40.dev1\\testdata10\\WDGPipe\\B1\\V0\\BZ1\n",
      "creating PT3S-90.12.4.40.dev1\\testdata10\\WDLocalHeatingNetwork\n",
      "creating PT3S-90.12.4.40.dev1\\testdata10\\WDLocalHeatingNetwork\\B1\n",
      "creating PT3S-90.12.4.40.dev1\\testdata10\\WDLocalHeatingNetwork\\B1\\V0\n",
      "creating PT3S-90.12.4.40.dev1\\testdata10\\WDLocalHeatingNetwork\\B1\\V0\\BZ1\n",
      "creating PT3S-90.12.4.40.dev1\\testdata10\\WDOneLPipe\n",
      "creating PT3S-90.12.4.40.dev1\\testdata10\\WDOneLPipe\\B1\n",
      "creating PT3S-90.12.4.40.dev1\\testdata10\\WDOneLPipe\\B1\\V0\n",
      "creating PT3S-90.12.4.40.dev1\\testdata10\\WDOneLPipe\\B1\\V0\\BZ1\n",
      "creating PT3S-90.12.4.40.dev1\\testdata10\\WDTinyWDN\n",
      "creating PT3S-90.12.4.40.dev1\\testdata10\\WDTinyWDN\\B1\n",
      "creating PT3S-90.12.4.40.dev1\\testdata10\\WDTinyWDN\\B1\\V0\n",
      "creating PT3S-90.12.4.40.dev1\\testdata10\\WDTinyWDN\\B1\\V0\\BZ1\n",
      "creating PT3S-90.12.4.40.dev1\\testdata11\n",
      "creating PT3S-90.12.4.40.dev1\\testdata11\\WDDHNetwork\n",
      "creating PT3S-90.12.4.40.dev1\\testdata11\\WDDHNetwork\\B1\n",
      "creating PT3S-90.12.4.40.dev1\\testdata11\\WDDHNetwork\\B1\\V0\n",
      "creating PT3S-90.12.4.40.dev1\\testdata11\\WDDHNetwork\\B1\\V0\\BZ1\n",
      "creating PT3S-90.12.4.40.dev1\\testdata11\\WDGPipe\n",
      "creating PT3S-90.12.4.40.dev1\\testdata11\\WDGPipe\\B1\n",
      "creating PT3S-90.12.4.40.dev1\\testdata11\\WDGPipe\\B1\\V0\n",
      "creating PT3S-90.12.4.40.dev1\\testdata11\\WDGPipe\\B1\\V0\\BZ1\n",
      "creating PT3S-90.12.4.40.dev1\\testdata11\\WDGPipes\n",
      "creating PT3S-90.12.4.40.dev1\\testdata11\\WDGPipes\\B1\n",
      "creating PT3S-90.12.4.40.dev1\\testdata11\\WDGPipes\\B1\\V0\n",
      "creating PT3S-90.12.4.40.dev1\\testdata11\\WDGPipes\\B1\\V0\\BZ1\n",
      "creating PT3S-90.12.4.40.dev1\\testdata11\\WDLocalHeatingNetwork\n",
      "creating PT3S-90.12.4.40.dev1\\testdata11\\WDLocalHeatingNetwork\\B1\n",
      "creating PT3S-90.12.4.40.dev1\\testdata11\\WDLocalHeatingNetwork\\B1\\V0\n",
      "creating PT3S-90.12.4.40.dev1\\testdata11\\WDLocalHeatingNetwork\\B1\\V0\\BZ1\n",
      "creating PT3S-90.12.4.40.dev1\\testdata11\\WDOneLPipe\n",
      "creating PT3S-90.12.4.40.dev1\\testdata11\\WDOneLPipe\\B1\n",
      "creating PT3S-90.12.4.40.dev1\\testdata11\\WDOneLPipe\\B1\\V0\n",
      "creating PT3S-90.12.4.40.dev1\\testdata11\\WDOneLPipe\\B1\\V0\\BZ1\n",
      "creating PT3S-90.12.4.40.dev1\\testdata11\\WDTinyWDN\n",
      "creating PT3S-90.12.4.40.dev1\\testdata11\\WDTinyWDN\\B1\n",
      "creating PT3S-90.12.4.40.dev1\\testdata11\\WDTinyWDN\\B1\\V0\n",
      "creating PT3S-90.12.4.40.dev1\\testdata11\\WDTinyWDN\\B1\\V0\\BZ1\n",
      "creating PT3S-90.12.4.40.dev1\\testdata\\WDDHNetwork\n",
      "creating PT3S-90.12.4.40.dev1\\testdata\\WDDHNetwork\\B1\n",
      "creating PT3S-90.12.4.40.dev1\\testdata\\WDDHNetwork\\B1\\V0\n",
      "creating PT3S-90.12.4.40.dev1\\testdata\\WDDHNetwork\\B1\\V0\\BZ1\n",
      "creating PT3S-90.12.4.40.dev1\\testdata\\WDGPipe\n",
      "creating PT3S-90.12.4.40.dev1\\testdata\\WDGPipe\\B1\n",
      "creating PT3S-90.12.4.40.dev1\\testdata\\WDGPipe\\B1\\V0\n",
      "creating PT3S-90.12.4.40.dev1\\testdata\\WDGPipe\\B1\\V0\\BZ1\n",
      "creating PT3S-90.12.4.40.dev1\\testdata\\WDGPipes\n",
      "creating PT3S-90.12.4.40.dev1\\testdata\\WDGPipes\\B1\n",
      "creating PT3S-90.12.4.40.dev1\\testdata\\WDGPipes\\B1\\V0\n",
      "creating PT3S-90.12.4.40.dev1\\testdata\\WDGPipes\\B1\\V0\\BZ1\n",
      "creating PT3S-90.12.4.40.dev1\\testdata\\WDLocalHeatingNetwork\n",
      "creating PT3S-90.12.4.40.dev1\\testdata\\WDLocalHeatingNetwork\\B1\n",
      "creating PT3S-90.12.4.40.dev1\\testdata\\WDLocalHeatingNetwork\\B1\\V0\n",
      "creating PT3S-90.12.4.40.dev1\\testdata\\WDLocalHeatingNetwork\\B1\\V0\\BZ1\n",
      "creating PT3S-90.12.4.40.dev1\\testdata\\WDOneLPipe\n",
      "creating PT3S-90.12.4.40.dev1\\testdata\\WDOneLPipe\\B1\n",
      "creating PT3S-90.12.4.40.dev1\\testdata\\WDOneLPipe\\B1\\V0\n",
      "creating PT3S-90.12.4.40.dev1\\testdata\\WDOneLPipe\\B1\\V0\\BZ1\n",
      "creating PT3S-90.12.4.40.dev1\\testdata\\WDTinyWDN\n",
      "creating PT3S-90.12.4.40.dev1\\testdata\\WDTinyWDN\\B1\n",
      "creating PT3S-90.12.4.40.dev1\\testdata\\WDTinyWDN\\B1\\V0\n",
      "creating PT3S-90.12.4.40.dev1\\testdata\\WDTinyWDN\\B1\\V0\\BZ1\n",
      "creating PT3S-90.12.4.40.dev1\\PT3S.egg-info\n",
      "creating PT3S-90.12.4.40.dev1\\UTILS\n",
      "creating PT3S-90.12.4.40.dev1\\lds\n",
      "copying files to PT3S-90.12.4.40.dev1...\n",
      "copying Am.py -> PT3S-90.12.4.40.dev1\n",
      "copying Dm.py -> PT3S-90.12.4.40.dev1\n",
      "copying GraphDecomp.py -> PT3S-90.12.4.40.dev1\n",
      "copying LICENSE -> PT3S-90.12.4.40.dev1\n",
      "copying Lx.py -> PT3S-90.12.4.40.dev1\n",
      "copying Mx.py -> PT3S-90.12.4.40.dev1\n",
      "copying NFD.py -> PT3S-90.12.4.40.dev1\n",
      "copying PT3S.html -> PT3S-90.12.4.40.dev1\n",
      "copying PT3S.ipynb -> PT3S-90.12.4.40.dev1\n",
      "copying PT3S.pdf -> PT3S-90.12.4.40.dev1\n",
      "copying README.rst -> PT3S-90.12.4.40.dev1\n",
      "copying Rm.py -> PT3S-90.12.4.40.dev1\n",
      "copying Xm.py -> PT3S-90.12.4.40.dev1\n",
      "copying __init__.py -> PT3S-90.12.4.40.dev1\n",
      "copying accdb.py -> PT3S-90.12.4.40.dev1\n",
      "copying conf.py -> PT3S-90.12.4.40.dev1\n",
      "copying fPngFromPdf.py -> PT3S-90.12.4.40.dev1\n",
      "copying setup.cfg -> PT3S-90.12.4.40.dev1\n",
      "copying setup.py -> PT3S-90.12.4.40.dev1\n",
      "copying test.py -> PT3S-90.12.4.40.dev1\n",
      "copying .\\testdata\\DHNetwork.XML -> PT3S-90.12.4.40.dev1\\.\\testdata\n",
      "copying .\\testdata\\GPipe.XML -> PT3S-90.12.4.40.dev1\\.\\testdata\n",
      "copying .\\testdata\\GPipes.XML -> PT3S-90.12.4.40.dev1\\.\\testdata\n",
      "copying .\\testdata\\LocalHeatingNetwork.XML -> PT3S-90.12.4.40.dev1\\.\\testdata\n",
      "copying .\\testdata\\OneLPipe.XML -> PT3S-90.12.4.40.dev1\\.\\testdata\n",
      "copying .\\testdata\\TinyWDN.XML -> PT3S-90.12.4.40.dev1\\.\\testdata\n",
      "copying .\\testdata09\\GPipe.XML -> PT3S-90.12.4.40.dev1\\.\\testdata09\n",
      "copying .\\testdata09\\GPipe.mdb -> PT3S-90.12.4.40.dev1\\.\\testdata09\n",
      "copying .\\testdata09\\LocalHeatingNetwork.XML -> PT3S-90.12.4.40.dev1\\.\\testdata09\n",
      "copying .\\testdata09\\LocalHeatingNetwork.mdb -> PT3S-90.12.4.40.dev1\\.\\testdata09\n",
      "copying .\\testdata09\\OneLPipe.XML -> PT3S-90.12.4.40.dev1\\.\\testdata09\n",
      "copying .\\testdata09\\OneLPipe.mdb -> PT3S-90.12.4.40.dev1\\.\\testdata09\n",
      "copying .\\testdata09\\TinyWDN.XML -> PT3S-90.12.4.40.dev1\\.\\testdata09\n",
      "copying .\\testdata09\\TinyWDN.mdb -> PT3S-90.12.4.40.dev1\\.\\testdata09\n",
      "copying .\\testdata09\\WDGPipe\\B1\\V0\\BZ1\\M-1-0-1.MX1 -> PT3S-90.12.4.40.dev1\\.\\testdata09\\WDGPipe\\B1\\V0\\BZ1\n",
      "copying .\\testdata09\\WDGPipe\\B1\\V0\\BZ1\\M-1-0-1.MX2 -> PT3S-90.12.4.40.dev1\\.\\testdata09\\WDGPipe\\B1\\V0\\BZ1\n",
      "copying .\\testdata09\\WDGPipe\\B1\\V0\\BZ1\\M-1-0-1.MXS -> PT3S-90.12.4.40.dev1\\.\\testdata09\\WDGPipe\\B1\\V0\\BZ1\n",
      "copying .\\testdata09\\WDLocalHeatingNetwork\\B1\\V0\\BZ1\\M-1-0-1.MX1 -> PT3S-90.12.4.40.dev1\\.\\testdata09\\WDLocalHeatingNetwork\\B1\\V0\\BZ1\n",
      "copying .\\testdata09\\WDLocalHeatingNetwork\\B1\\V0\\BZ1\\M-1-0-1.MX2 -> PT3S-90.12.4.40.dev1\\.\\testdata09\\WDLocalHeatingNetwork\\B1\\V0\\BZ1\n",
      "copying .\\testdata09\\WDLocalHeatingNetwork\\B1\\V0\\BZ1\\M-1-0-1.MXS -> PT3S-90.12.4.40.dev1\\.\\testdata09\\WDLocalHeatingNetwork\\B1\\V0\\BZ1\n",
      "copying .\\testdata09\\WDOneLPipe\\B1\\V0\\BZ1\\M-1-0-1.MX1 -> PT3S-90.12.4.40.dev1\\.\\testdata09\\WDOneLPipe\\B1\\V0\\BZ1\n",
      "copying .\\testdata09\\WDOneLPipe\\B1\\V0\\BZ1\\M-1-0-1.MX2 -> PT3S-90.12.4.40.dev1\\.\\testdata09\\WDOneLPipe\\B1\\V0\\BZ1\n",
      "copying .\\testdata09\\WDOneLPipe\\B1\\V0\\BZ1\\M-1-0-1.MXS -> PT3S-90.12.4.40.dev1\\.\\testdata09\\WDOneLPipe\\B1\\V0\\BZ1\n",
      "copying .\\testdata09\\WDTinyWDN\\B1\\V0\\BZ1\\M-1-0-1.MX1 -> PT3S-90.12.4.40.dev1\\.\\testdata09\\WDTinyWDN\\B1\\V0\\BZ1\n",
      "copying .\\testdata09\\WDTinyWDN\\B1\\V0\\BZ1\\M-1-0-1.MX2 -> PT3S-90.12.4.40.dev1\\.\\testdata09\\WDTinyWDN\\B1\\V0\\BZ1\n",
      "copying .\\testdata09\\WDTinyWDN\\B1\\V0\\BZ1\\M-1-0-1.MXS -> PT3S-90.12.4.40.dev1\\.\\testdata09\\WDTinyWDN\\B1\\V0\\BZ1\n",
      "copying .\\testdata10\\GPipe.XML -> PT3S-90.12.4.40.dev1\\.\\testdata10\n",
      "copying .\\testdata10\\GPipe.mdb -> PT3S-90.12.4.40.dev1\\.\\testdata10\n",
      "copying .\\testdata10\\LocalHeatingNetwork.XML -> PT3S-90.12.4.40.dev1\\.\\testdata10\n",
      "copying .\\testdata10\\LocalHeatingNetwork.mdb -> PT3S-90.12.4.40.dev1\\.\\testdata10\n",
      "copying .\\testdata10\\OneLPipe.XML -> PT3S-90.12.4.40.dev1\\.\\testdata10\n",
      "copying .\\testdata10\\OneLPipe.mdb -> PT3S-90.12.4.40.dev1\\.\\testdata10\n",
      "copying .\\testdata10\\TinyWDN.XML -> PT3S-90.12.4.40.dev1\\.\\testdata10\n",
      "copying .\\testdata10\\TinyWDN.mdb -> PT3S-90.12.4.40.dev1\\.\\testdata10\n",
      "copying .\\testdata10\\WDGPipe\\B1\\V0\\BZ1\\M-1-0-1.1.MX1 -> PT3S-90.12.4.40.dev1\\.\\testdata10\\WDGPipe\\B1\\V0\\BZ1\n",
      "copying .\\testdata10\\WDGPipe\\B1\\V0\\BZ1\\M-1-0-1.1.MXS -> PT3S-90.12.4.40.dev1\\.\\testdata10\\WDGPipe\\B1\\V0\\BZ1\n",
      "copying .\\testdata10\\WDGPipe\\B1\\V0\\BZ1\\M-1-0-1.MX2 -> PT3S-90.12.4.40.dev1\\.\\testdata10\\WDGPipe\\B1\\V0\\BZ1\n",
      "copying .\\testdata10\\WDLocalHeatingNetwork\\B1\\V0\\BZ1\\M-1-0-1.1.MX1 -> PT3S-90.12.4.40.dev1\\.\\testdata10\\WDLocalHeatingNetwork\\B1\\V0\\BZ1\n",
      "copying .\\testdata10\\WDLocalHeatingNetwork\\B1\\V0\\BZ1\\M-1-0-1.1.MXS -> PT3S-90.12.4.40.dev1\\.\\testdata10\\WDLocalHeatingNetwork\\B1\\V0\\BZ1\n",
      "copying .\\testdata10\\WDLocalHeatingNetwork\\B1\\V0\\BZ1\\M-1-0-1.MX2 -> PT3S-90.12.4.40.dev1\\.\\testdata10\\WDLocalHeatingNetwork\\B1\\V0\\BZ1\n",
      "copying .\\testdata10\\WDOneLPipe\\B1\\V0\\BZ1\\M-1-0-1.1.MX1 -> PT3S-90.12.4.40.dev1\\.\\testdata10\\WDOneLPipe\\B1\\V0\\BZ1\n",
      "copying .\\testdata10\\WDOneLPipe\\B1\\V0\\BZ1\\M-1-0-1.1.MXS -> PT3S-90.12.4.40.dev1\\.\\testdata10\\WDOneLPipe\\B1\\V0\\BZ1\n",
      "copying .\\testdata10\\WDOneLPipe\\B1\\V0\\BZ1\\M-1-0-1.MX2 -> PT3S-90.12.4.40.dev1\\.\\testdata10\\WDOneLPipe\\B1\\V0\\BZ1\n",
      "copying .\\testdata10\\WDTinyWDN\\B1\\V0\\BZ1\\M-1-0-1.1.MX1 -> PT3S-90.12.4.40.dev1\\.\\testdata10\\WDTinyWDN\\B1\\V0\\BZ1\n",
      "copying .\\testdata10\\WDTinyWDN\\B1\\V0\\BZ1\\M-1-0-1.1.MXS -> PT3S-90.12.4.40.dev1\\.\\testdata10\\WDTinyWDN\\B1\\V0\\BZ1\n",
      "copying .\\testdata10\\WDTinyWDN\\B1\\V0\\BZ1\\M-1-0-1.MX2 -> PT3S-90.12.4.40.dev1\\.\\testdata10\\WDTinyWDN\\B1\\V0\\BZ1\n",
      "copying .\\testdata11\\DHNetwork.XML -> PT3S-90.12.4.40.dev1\\.\\testdata11\n",
      "copying .\\testdata11\\DHNetwork.mdb -> PT3S-90.12.4.40.dev1\\.\\testdata11\n",
      "copying .\\testdata11\\GPipe.XML -> PT3S-90.12.4.40.dev1\\.\\testdata11\n",
      "copying .\\testdata11\\GPipe.mdb -> PT3S-90.12.4.40.dev1\\.\\testdata11\n",
      "copying .\\testdata11\\GPipes.XML -> PT3S-90.12.4.40.dev1\\.\\testdata11\n",
      "copying .\\testdata11\\LocalHeatingNetwork.XML -> PT3S-90.12.4.40.dev1\\.\\testdata11\n",
      "copying .\\testdata11\\LocalHeatingNetwork.mdb -> PT3S-90.12.4.40.dev1\\.\\testdata11\n",
      "copying .\\testdata11\\OneLPipe.XML -> PT3S-90.12.4.40.dev1\\.\\testdata11\n",
      "copying .\\testdata11\\OneLPipe.mdb -> PT3S-90.12.4.40.dev1\\.\\testdata11\n",
      "copying .\\testdata11\\TinyWDN.XML -> PT3S-90.12.4.40.dev1\\.\\testdata11\n",
      "copying .\\testdata11\\TinyWDN.mdb -> PT3S-90.12.4.40.dev1\\.\\testdata11\n",
      "copying .\\testdata11\\WDDHNetwork\\B1\\V0\\BZ1\\M-1-0-1.1.MX1 -> PT3S-90.12.4.40.dev1\\.\\testdata11\\WDDHNetwork\\B1\\V0\\BZ1\n",
      "copying .\\testdata11\\WDDHNetwork\\B1\\V0\\BZ1\\M-1-0-1.MX2 -> PT3S-90.12.4.40.dev1\\.\\testdata11\\WDDHNetwork\\B1\\V0\\BZ1\n",
      "copying .\\testdata11\\WDGPipe\\B1\\V0\\BZ1\\M-1-0-1.1.MX1 -> PT3S-90.12.4.40.dev1\\.\\testdata11\\WDGPipe\\B1\\V0\\BZ1\n",
      "copying .\\testdata11\\WDGPipe\\B1\\V0\\BZ1\\M-1-0-1.1.MXS -> PT3S-90.12.4.40.dev1\\.\\testdata11\\WDGPipe\\B1\\V0\\BZ1\n",
      "copying .\\testdata11\\WDGPipe\\B1\\V0\\BZ1\\M-1-0-1.MX2 -> PT3S-90.12.4.40.dev1\\.\\testdata11\\WDGPipe\\B1\\V0\\BZ1\n",
      "copying .\\testdata11\\WDGPipes\\B1\\V0\\BZ1\\M-1-0-1.1.MX1 -> PT3S-90.12.4.40.dev1\\.\\testdata11\\WDGPipes\\B1\\V0\\BZ1\n",
      "copying .\\testdata11\\WDGPipes\\B1\\V0\\BZ1\\M-1-0-1.1.MXS -> PT3S-90.12.4.40.dev1\\.\\testdata11\\WDGPipes\\B1\\V0\\BZ1\n",
      "copying .\\testdata11\\WDGPipes\\B1\\V0\\BZ1\\M-1-0-1.MX2 -> PT3S-90.12.4.40.dev1\\.\\testdata11\\WDGPipes\\B1\\V0\\BZ1\n",
      "copying .\\testdata11\\WDLocalHeatingNetwork\\B1\\V0\\BZ1\\M-1-0-1.1.MX1 -> PT3S-90.12.4.40.dev1\\.\\testdata11\\WDLocalHeatingNetwork\\B1\\V0\\BZ1\n",
      "copying .\\testdata11\\WDLocalHeatingNetwork\\B1\\V0\\BZ1\\M-1-0-1.1.MXS -> PT3S-90.12.4.40.dev1\\.\\testdata11\\WDLocalHeatingNetwork\\B1\\V0\\BZ1\n",
      "copying .\\testdata11\\WDLocalHeatingNetwork\\B1\\V0\\BZ1\\M-1-0-1.MX2 -> PT3S-90.12.4.40.dev1\\.\\testdata11\\WDLocalHeatingNetwork\\B1\\V0\\BZ1\n",
      "copying .\\testdata11\\WDOneLPipe\\B1\\V0\\BZ1\\M-1-0-1.1.MX1 -> PT3S-90.12.4.40.dev1\\.\\testdata11\\WDOneLPipe\\B1\\V0\\BZ1\n",
      "copying .\\testdata11\\WDOneLPipe\\B1\\V0\\BZ1\\M-1-0-1.1.MXS -> PT3S-90.12.4.40.dev1\\.\\testdata11\\WDOneLPipe\\B1\\V0\\BZ1\n",
      "copying .\\testdata11\\WDOneLPipe\\B1\\V0\\BZ1\\M-1-0-1.MX2 -> PT3S-90.12.4.40.dev1\\.\\testdata11\\WDOneLPipe\\B1\\V0\\BZ1\n",
      "copying .\\testdata11\\WDTinyWDN\\B1\\V0\\BZ1\\M-1-0-1.1.MX1 -> PT3S-90.12.4.40.dev1\\.\\testdata11\\WDTinyWDN\\B1\\V0\\BZ1\n",
      "copying .\\testdata11\\WDTinyWDN\\B1\\V0\\BZ1\\M-1-0-1.1.MXS -> PT3S-90.12.4.40.dev1\\.\\testdata11\\WDTinyWDN\\B1\\V0\\BZ1\n",
      "copying .\\testdata11\\WDTinyWDN\\B1\\V0\\BZ1\\M-1-0-1.MX2 -> PT3S-90.12.4.40.dev1\\.\\testdata11\\WDTinyWDN\\B1\\V0\\BZ1\n",
      "copying .\\testdata\\WDDHNetwork\\B1\\V0\\BZ1\\M-1-0-1.1.MX1 -> PT3S-90.12.4.40.dev1\\.\\testdata\\WDDHNetwork\\B1\\V0\\BZ1\n",
      "copying .\\testdata\\WDDHNetwork\\B1\\V0\\BZ1\\M-1-0-1.MX2 -> PT3S-90.12.4.40.dev1\\.\\testdata\\WDDHNetwork\\B1\\V0\\BZ1\n",
      "copying .\\testdata\\WDGPipe\\B1\\V0\\BZ1\\M-1-0-1.1.MX1 -> PT3S-90.12.4.40.dev1\\.\\testdata\\WDGPipe\\B1\\V0\\BZ1\n",
      "copying .\\testdata\\WDGPipe\\B1\\V0\\BZ1\\M-1-0-1.1.MXS -> PT3S-90.12.4.40.dev1\\.\\testdata\\WDGPipe\\B1\\V0\\BZ1\n",
      "copying .\\testdata\\WDGPipe\\B1\\V0\\BZ1\\M-1-0-1.MX2 -> PT3S-90.12.4.40.dev1\\.\\testdata\\WDGPipe\\B1\\V0\\BZ1\n",
      "copying .\\testdata\\WDGPipes\\B1\\V0\\BZ1\\M-1-0-1.1.MX1 -> PT3S-90.12.4.40.dev1\\.\\testdata\\WDGPipes\\B1\\V0\\BZ1\n",
      "copying .\\testdata\\WDGPipes\\B1\\V0\\BZ1\\M-1-0-1.1.MXS -> PT3S-90.12.4.40.dev1\\.\\testdata\\WDGPipes\\B1\\V0\\BZ1\n",
      "copying .\\testdata\\WDGPipes\\B1\\V0\\BZ1\\M-1-0-1.MX2 -> PT3S-90.12.4.40.dev1\\.\\testdata\\WDGPipes\\B1\\V0\\BZ1\n",
      "copying .\\testdata\\WDLocalHeatingNetwork\\B1\\V0\\BZ1\\M-1-0-1.1.MX1 -> PT3S-90.12.4.40.dev1\\.\\testdata\\WDLocalHeatingNetwork\\B1\\V0\\BZ1\n",
      "copying .\\testdata\\WDLocalHeatingNetwork\\B1\\V0\\BZ1\\M-1-0-1.1.MXS -> PT3S-90.12.4.40.dev1\\.\\testdata\\WDLocalHeatingNetwork\\B1\\V0\\BZ1\n",
      "copying .\\testdata\\WDLocalHeatingNetwork\\B1\\V0\\BZ1\\M-1-0-1.MX2 -> PT3S-90.12.4.40.dev1\\.\\testdata\\WDLocalHeatingNetwork\\B1\\V0\\BZ1\n",
      "copying .\\testdata\\WDOneLPipe\\B1\\V0\\BZ1\\M-1-0-1.1.MX1 -> PT3S-90.12.4.40.dev1\\.\\testdata\\WDOneLPipe\\B1\\V0\\BZ1\n",
      "copying .\\testdata\\WDOneLPipe\\B1\\V0\\BZ1\\M-1-0-1.1.MXS -> PT3S-90.12.4.40.dev1\\.\\testdata\\WDOneLPipe\\B1\\V0\\BZ1\n",
      "copying .\\testdata\\WDOneLPipe\\B1\\V0\\BZ1\\M-1-0-1.MX2 -> PT3S-90.12.4.40.dev1\\.\\testdata\\WDOneLPipe\\B1\\V0\\BZ1\n",
      "copying .\\testdata\\WDTinyWDN\\B1\\V0\\BZ1\\M-1-0-1.1.MX1 -> PT3S-90.12.4.40.dev1\\.\\testdata\\WDTinyWDN\\B1\\V0\\BZ1\n",
      "copying .\\testdata\\WDTinyWDN\\B1\\V0\\BZ1\\M-1-0-1.1.MXS -> PT3S-90.12.4.40.dev1\\.\\testdata\\WDTinyWDN\\B1\\V0\\BZ1\n",
      "copying .\\testdata\\WDTinyWDN\\B1\\V0\\BZ1\\M-1-0-1.MX2 -> PT3S-90.12.4.40.dev1\\.\\testdata\\WDTinyWDN\\B1\\V0\\BZ1\n",
      "copying PT3S.egg-info\\PKG-INFO -> PT3S-90.12.4.40.dev1\\PT3S.egg-info\n",
      "copying PT3S.egg-info\\SOURCES.txt -> PT3S-90.12.4.40.dev1\\PT3S.egg-info\n",
      "copying PT3S.egg-info\\dependency_links.txt -> PT3S-90.12.4.40.dev1\\PT3S.egg-info\n",
      "copying PT3S.egg-info\\top_level.txt -> PT3S-90.12.4.40.dev1\\PT3S.egg-info\n",
      "copying UTILS\\Db.py -> PT3S-90.12.4.40.dev1\\UTILS\n",
      "copying UTILS\\Xml.py -> PT3S-90.12.4.40.dev1\\UTILS\n",
      "copying UTILS\\__init__.py -> PT3S-90.12.4.40.dev1\\UTILS\n",
      "copying lds\\__init__.py -> PT3S-90.12.4.40.dev1\\lds\n",
      "copying lds\\rpts.py -> PT3S-90.12.4.40.dev1\\lds\n",
      "Writing PT3S-90.12.4.40.dev1\\setup.cfg\n",
      "Creating tar archive\n",
      "removing 'PT3S-90.12.4.40.dev1' (and everything under it)\n"
     ]
    }
   ],
   "source": [
    "!python setup.py clean sdist "
   ]
  },
  {
   "cell_type": "code",
   "execution_count": 10,
   "metadata": {},
   "outputs": [
    {
     "name": "stdout",
     "output_type": "stream",
     "text": [
      "Uploading distributions to https://upload.pypi.org/legacy/\n",
      "Uploading PT3S-90.12.4.40.dev1.tar.gz\n",
      "\n",
      "  0%|          | 0.00/10.5M [00:00<?, ?B/s]\n",
      "  0%|          | 8.00k/10.5M [00:00<11:26, 16.1kB/s]\n",
      "  1%|          | 80.0k/10.5M [00:00<01:07, 162kB/s] \n",
      "  1%|          | 96.0k/10.5M [00:00<01:12, 151kB/s]\n",
      "  1%|1         | 128k/10.5M [00:00<01:01, 178kB/s] \n",
      "  1%|1         | 160k/10.5M [00:01<00:55, 197kB/s]\n",
      "  2%|1         | 184k/10.5M [00:01<00:53, 204kB/s]\n",
      "  2%|2         | 216k/10.5M [00:01<02:10, 83.1kB/s]\n",
      "  2%|2         | 224k/10.5M [00:02<02:15, 79.9kB/s]\n",
      "  3%|2         | 296k/10.5M [00:02<01:07, 159kB/s] \n",
      "  3%|3         | 360k/10.5M [00:02<00:46, 231kB/s]\n",
      "  4%|3         | 416k/10.5M [00:02<00:37, 284kB/s]\n",
      "  4%|4         | 472k/10.5M [00:02<00:31, 332kB/s]\n",
      "  5%|4         | 520k/10.5M [00:02<00:28, 365kB/s]\n",
      "  5%|5         | 584k/10.5M [00:02<00:25, 409kB/s]\n",
      "  6%|5         | 640k/10.5M [00:02<00:23, 447kB/s]\n",
      "  6%|6         | 696k/10.5M [00:03<00:22, 464kB/s]\n",
      "  7%|6         | 744k/10.5M [00:03<00:21, 468kB/s]\n",
      "  7%|7         | 800k/10.5M [00:03<00:20, 487kB/s]\n",
      "  8%|7         | 856k/10.5M [00:03<00:19, 508kB/s]\n",
      "  8%|8         | 904k/10.5M [00:03<00:20, 502kB/s]\n",
      "  9%|8         | 952k/10.5M [00:03<00:20, 497kB/s]\n",
      "  9%|9         | 0.98M/10.5M [00:03<00:19, 519kB/s]\n",
      " 10%|9         | 1.04M/10.5M [00:03<00:19, 516kB/s]\n",
      " 10%|#         | 1.09M/10.5M [00:03<00:19, 514kB/s]\n",
      " 11%|#         | 1.15M/10.5M [00:03<00:19, 512kB/s]\n",
      " 11%|#1        | 1.20M/10.5M [00:04<00:19, 511kB/s]\n",
      " 12%|#2        | 1.27M/10.5M [00:04<00:18, 530kB/s]\n",
      " 13%|#2        | 1.32M/10.5M [00:04<00:18, 525kB/s]\n",
      " 13%|#2        | 1.37M/10.5M [00:04<00:18, 513kB/s]\n",
      " 14%|#3        | 1.42M/10.5M [00:04<00:18, 515kB/s]\n",
      " 14%|#4        | 1.48M/10.5M [00:04<00:17, 530kB/s]\n",
      " 14%|#4        | 1.52M/10.5M [00:04<00:18, 514kB/s]\n",
      " 15%|#4        | 1.58M/10.5M [00:04<00:18, 521kB/s]\n",
      " 16%|#5        | 1.63M/10.5M [00:04<00:18, 516kB/s]\n",
      " 16%|#6        | 1.69M/10.5M [00:05<00:17, 525kB/s]\n",
      " 16%|#6        | 1.73M/10.5M [00:05<00:17, 514kB/s]\n",
      " 17%|#6        | 1.79M/10.5M [00:05<00:17, 524kB/s]\n",
      " 17%|#7        | 1.84M/10.5M [00:05<00:17, 512kB/s]\n",
      " 18%|#7        | 1.89M/10.5M [00:05<00:17, 520kB/s]\n",
      " 18%|#8        | 1.95M/10.5M [00:05<00:17, 521kB/s]\n",
      " 19%|#9        | 2.00M/10.5M [00:05<00:17, 524kB/s]\n",
      " 20%|#9        | 2.05M/10.5M [00:05<00:17, 517kB/s]\n",
      " 20%|##        | 2.11M/10.5M [00:05<00:16, 527kB/s]\n",
      " 20%|##        | 2.16M/10.5M [00:06<00:17, 515kB/s]\n",
      " 21%|##        | 2.20M/10.5M [00:06<00:17, 508kB/s]\n",
      " 21%|##1       | 2.26M/10.5M [00:06<00:17, 504kB/s]\n",
      " 22%|##1       | 2.31M/10.5M [00:06<00:16, 512kB/s]\n",
      " 22%|##2       | 2.36M/10.5M [00:06<00:17, 502kB/s]\n",
      " 23%|##2       | 2.41M/10.5M [00:06<00:17, 492kB/s]\n",
      " 23%|##3       | 2.46M/10.5M [00:06<00:16, 508kB/s]\n",
      " 24%|##3       | 2.51M/10.5M [00:06<00:16, 503kB/s]\n",
      " 24%|##4       | 2.55M/10.5M [00:06<00:16, 495kB/s]\n",
      " 25%|##4       | 2.62M/10.5M [00:06<00:16, 512kB/s]\n",
      " 25%|##5       | 2.67M/10.5M [00:07<00:15, 524kB/s]\n",
      " 26%|##5       | 2.72M/10.5M [00:07<00:16, 511kB/s]\n",
      " 26%|##6       | 2.77M/10.5M [00:07<00:15, 509kB/s]\n",
      " 27%|##6       | 2.83M/10.5M [00:07<00:15, 519kB/s]\n",
      " 27%|##7       | 2.88M/10.5M [00:07<00:15, 521kB/s]\n",
      " 28%|##7       | 2.94M/10.5M [00:07<00:15, 517kB/s]\n",
      " 28%|##8       | 2.99M/10.5M [00:07<00:15, 509kB/s]\n",
      " 29%|##8       | 3.05M/10.5M [00:07<00:15, 513kB/s]\n",
      " 29%|##9       | 3.09M/10.5M [00:07<00:16, 479kB/s]\n",
      " 30%|##9       | 3.13M/10.5M [00:08<00:17, 449kB/s]\n",
      " 30%|###       | 3.17M/10.5M [00:08<00:17, 430kB/s]\n",
      " 31%|###       | 3.21M/10.5M [00:08<00:18, 404kB/s]\n",
      " 31%|###       | 3.25M/10.5M [00:08<00:19, 392kB/s]\n",
      " 31%|###1      | 3.29M/10.5M [00:08<00:19, 380kB/s]\n",
      " 32%|###1      | 3.33M/10.5M [00:08<00:20, 370kB/s]\n",
      " 32%|###1      | 3.37M/10.5M [00:08<00:20, 365kB/s]\n",
      " 32%|###2      | 3.41M/10.5M [00:08<00:20, 362kB/s]\n",
      " 33%|###2      | 3.45M/10.5M [00:09<00:20, 356kB/s]\n",
      " 33%|###3      | 3.48M/10.5M [00:09<00:20, 353kB/s]\n",
      " 33%|###3      | 3.52M/10.5M [00:09<00:20, 355kB/s]\n",
      " 34%|###3      | 3.56M/10.5M [00:09<00:20, 354kB/s]\n",
      " 34%|###4      | 3.60M/10.5M [00:09<00:20, 348kB/s]\n",
      " 35%|###4      | 3.64M/10.5M [00:09<00:21, 340kB/s]\n",
      " 35%|###4      | 3.66M/10.5M [00:09<00:23, 312kB/s]\n",
      " 35%|###5      | 3.70M/10.5M [00:09<00:24, 296kB/s]\n",
      " 35%|###5      | 3.72M/10.5M [00:09<00:25, 275kB/s]\n",
      " 36%|###5      | 3.75M/10.5M [00:10<00:25, 274kB/s]\n",
      " 36%|###5      | 3.77M/10.5M [00:10<00:27, 260kB/s]\n",
      " 36%|###6      | 3.80M/10.5M [00:10<00:27, 252kB/s]\n",
      " 37%|###6      | 3.86M/10.5M [00:10<00:20, 333kB/s]\n",
      " 37%|###7      | 3.91M/10.5M [00:10<00:18, 385kB/s]\n",
      " 38%|###7      | 3.97M/10.5M [00:10<00:16, 422kB/s]\n",
      " 38%|###8      | 4.02M/10.5M [00:10<00:15, 448kB/s]\n",
      " 39%|###8      | 4.08M/10.5M [00:10<00:14, 479kB/s]\n",
      " 39%|###9      | 4.13M/10.5M [00:10<00:13, 487kB/s]\n",
      " 40%|###9      | 4.19M/10.5M [00:11<00:13, 497kB/s]\n",
      " 40%|####      | 4.24M/10.5M [00:11<00:13, 502kB/s]\n",
      " 41%|####      | 4.30M/10.5M [00:11<00:12, 508kB/s]\n",
      " 41%|####1     | 4.35M/10.5M [00:11<00:12, 515kB/s]\n",
      " 42%|####1     | 4.41M/10.5M [00:11<00:12, 513kB/s]\n",
      " 42%|####2     | 4.46M/10.5M [00:11<00:12, 521kB/s]\n",
      " 43%|####2     | 4.52M/10.5M [00:11<00:12, 516kB/s]\n",
      " 43%|####3     | 4.57M/10.5M [00:11<00:11, 524kB/s]\n",
      " 44%|####3     | 4.62M/10.5M [00:11<00:11, 522kB/s]\n",
      " 44%|####4     | 4.68M/10.5M [00:12<00:11, 517kB/s]\n",
      " 45%|####4     | 4.73M/10.5M [00:12<00:12, 471kB/s]\n",
      " 46%|####5     | 4.80M/10.5M [00:12<00:12, 486kB/s]\n",
      " 46%|####6     | 4.86M/10.5M [00:12<00:11, 513kB/s]\n",
      " 47%|####6     | 4.91M/10.5M [00:12<00:11, 511kB/s]\n",
      " 47%|####7     | 4.97M/10.5M [00:12<00:11, 509kB/s]\n",
      " 48%|####7     | 5.02M/10.5M [00:12<00:11, 512kB/s]\n",
      " 48%|####8     | 5.08M/10.5M [00:12<00:11, 507kB/s]\n",
      " 49%|####8     | 5.14M/10.5M [00:13<00:10, 529kB/s]\n",
      " 49%|####9     | 5.20M/10.5M [00:13<00:10, 521kB/s]\n",
      " 50%|####9     | 5.25M/10.5M [00:13<00:10, 517kB/s]\n",
      " 50%|#####     | 5.30M/10.5M [00:13<00:10, 513kB/s]\n",
      " 51%|#####     | 5.36M/10.5M [00:13<00:10, 509kB/s]\n",
      " 52%|#####1    | 5.42M/10.5M [00:13<00:10, 534kB/s]\n",
      " 52%|#####1    | 5.47M/10.5M [00:13<00:10, 519kB/s]\n",
      " 52%|#####2    | 5.52M/10.5M [00:13<00:10, 520kB/s]\n",
      " 53%|#####2    | 5.57M/10.5M [00:13<00:10, 509kB/s]\n",
      " 54%|#####3    | 5.63M/10.5M [00:14<00:09, 533kB/s]\n",
      " 54%|#####3    | 5.68M/10.5M [00:14<00:09, 520kB/s]\n",
      " 54%|#####4    | 5.73M/10.5M [00:14<00:09, 517kB/s]\n",
      " 55%|#####5    | 5.79M/10.5M [00:14<00:09, 513kB/s]\n",
      " 56%|#####5    | 5.84M/10.5M [00:14<00:09, 527kB/s]\n",
      " 56%|#####6    | 5.90M/10.5M [00:14<00:09, 521kB/s]\n",
      " 57%|#####6    | 5.95M/10.5M [00:14<00:09, 515kB/s]\n",
      " 57%|#####7    | 6.01M/10.5M [00:14<00:09, 515kB/s]\n",
      " 58%|#####7    | 6.06M/10.5M [00:14<00:09, 513kB/s]\n",
      " 58%|#####8    | 6.12M/10.5M [00:15<00:08, 528kB/s]\n",
      " 59%|#####8    | 6.17M/10.5M [00:15<00:08, 524kB/s]\n",
      " 59%|#####9    | 6.23M/10.5M [00:15<00:08, 519kB/s]\n",
      " 60%|#####9    | 6.28M/10.5M [00:15<00:08, 516kB/s]\n",
      " 60%|######    | 6.34M/10.5M [00:15<00:08, 530kB/s]\n",
      " 61%|######    | 6.39M/10.5M [00:15<00:08, 522kB/s]\n",
      " 61%|######1   | 6.45M/10.5M [00:15<00:08, 523kB/s]\n",
      " 62%|######1   | 6.49M/10.5M [00:15<00:08, 511kB/s]\n",
      " 62%|######2   | 6.55M/10.5M [00:15<00:08, 519kB/s]\n",
      " 63%|######2   | 6.61M/10.5M [00:15<00:07, 528kB/s]\n",
      " 63%|######3   | 6.66M/10.5M [00:16<00:07, 521kB/s]\n",
      " 64%|######3   | 6.72M/10.5M [00:16<00:07, 515kB/s]\n",
      " 64%|######4   | 6.77M/10.5M [00:16<00:07, 513kB/s]\n",
      " 65%|######4   | 6.84M/10.5M [00:16<00:07, 524kB/s]\n",
      " 65%|######5   | 6.89M/10.5M [00:16<00:07, 530kB/s]\n",
      " 66%|######5   | 6.94M/10.5M [00:16<00:07, 518kB/s]\n",
      " 66%|######6   | 6.98M/10.5M [00:16<00:07, 509kB/s]\n",
      " 67%|######6   | 7.05M/10.5M [00:16<00:07, 515kB/s]\n",
      " 68%|######7   | 7.11M/10.5M [00:17<00:06, 531kB/s]\n",
      " 68%|######8   | 7.16M/10.5M [00:17<00:06, 520kB/s]\n",
      " 69%|######8   | 7.22M/10.5M [00:17<00:06, 518kB/s]\n",
      " 69%|######9   | 7.27M/10.5M [00:17<00:06, 515kB/s]\n",
      " 70%|######9   | 7.33M/10.5M [00:17<00:06, 516kB/s]\n",
      " 70%|#######   | 7.38M/10.5M [00:17<00:06, 528kB/s]\n",
      " 71%|#######   | 7.43M/10.5M [00:17<00:06, 516kB/s]\n",
      " 71%|#######1  | 7.48M/10.5M [00:17<00:06, 518kB/s]\n",
      " 72%|#######1  | 7.54M/10.5M [00:17<00:06, 522kB/s]\n",
      " 72%|#######2  | 7.59M/10.5M [00:17<00:05, 524kB/s]\n",
      " 73%|#######2  | 7.65M/10.5M [00:18<00:05, 520kB/s]\n",
      " 73%|#######3  | 7.70M/10.5M [00:18<00:05, 518kB/s]\n",
      " 74%|#######3  | 7.76M/10.5M [00:18<00:05, 517kB/s]\n",
      " 74%|#######4  | 7.81M/10.5M [00:18<00:05, 528kB/s]\n",
      " 75%|#######4  | 7.86M/10.5M [00:18<00:05, 517kB/s]\n",
      " 75%|#######5  | 7.91M/10.5M [00:18<00:05, 519kB/s]\n",
      " 76%|#######5  | 7.97M/10.5M [00:18<00:05, 520kB/s]\n",
      " 76%|#######6  | 8.02M/10.5M [00:18<00:04, 530kB/s]\n",
      " 77%|#######6  | 8.07M/10.5M [00:18<00:04, 518kB/s]\n",
      " 77%|#######7  | 8.12M/10.5M [00:19<00:04, 518kB/s]\n",
      " 78%|#######7  | 8.18M/10.5M [00:19<00:04, 515kB/s]\n",
      " 78%|#######8  | 8.23M/10.5M [00:19<00:04, 526kB/s]\n",
      " 79%|#######8  | 8.29M/10.5M [00:19<00:04, 515kB/s]\n",
      " 79%|#######9  | 8.34M/10.5M [00:19<00:04, 513kB/s]\n",
      " 80%|#######9  | 8.40M/10.5M [00:19<00:04, 523kB/s]\n",
      " 80%|########  | 8.45M/10.5M [00:19<00:04, 529kB/s]\n",
      " 81%|########  | 8.50M/10.5M [00:19<00:04, 518kB/s]\n",
      " 81%|########1 | 8.55M/10.5M [00:19<00:03, 518kB/s]\n",
      " 82%|########1 | 8.61M/10.5M [00:20<00:03, 520kB/s]\n",
      " 82%|########2 | 8.66M/10.5M [00:20<00:03, 529kB/s]\n",
      " 83%|########2 | 8.71M/10.5M [00:20<00:03, 509kB/s]\n",
      " 83%|########3 | 8.77M/10.5M [00:20<00:03, 517kB/s]\n",
      " 84%|########3 | 8.82M/10.5M [00:20<00:03, 523kB/s]\n",
      " 84%|########4 | 8.88M/10.5M [00:20<00:03, 518kB/s]\n",
      " 85%|########4 | 8.92M/10.5M [00:20<00:03, 509kB/s]\n",
      " 85%|########5 | 8.98M/10.5M [00:20<00:03, 523kB/s]\n",
      " 86%|########5 | 9.03M/10.5M [00:20<00:02, 525kB/s]\n",
      " 86%|########6 | 9.08M/10.5M [00:20<00:02, 515kB/s]\n",
      " 87%|########6 | 9.13M/10.5M [00:21<00:02, 504kB/s]\n",
      " 87%|########7 | 9.20M/10.5M [00:21<00:02, 526kB/s]\n",
      " 88%|########7 | 9.25M/10.5M [00:21<00:02, 521kB/s]\n",
      " 88%|########8 | 9.30M/10.5M [00:21<00:02, 519kB/s]\n",
      " 89%|########8 | 9.35M/10.5M [00:21<00:02, 508kB/s]\n",
      " 89%|########9 | 9.41M/10.5M [00:21<00:02, 513kB/s]\n",
      " 90%|######### | 9.48M/10.5M [00:21<00:02, 531kB/s]\n",
      " 91%|######### | 9.53M/10.5M [00:21<00:01, 522kB/s]\n",
      " 91%|#########1| 9.58M/10.5M [00:22<00:01, 511kB/s]\n",
      " 92%|#########1| 9.63M/10.5M [00:22<00:01, 513kB/s]\n",
      " 92%|#########2| 9.69M/10.5M [00:22<00:01, 513kB/s]\n",
      " 93%|#########2| 9.74M/10.5M [00:22<00:01, 520kB/s]\n",
      " 93%|#########3| 9.79M/10.5M [00:22<00:01, 512kB/s]\n",
      " 93%|#########3| 9.84M/10.5M [00:22<00:01, 500kB/s]\n",
      " 94%|#########4| 9.90M/10.5M [00:22<00:01, 522kB/s]\n",
      " 95%|#########4| 9.95M/10.5M [00:22<00:01, 516kB/s]\n",
      " 95%|#########5| 10.0M/10.5M [00:22<00:01, 517kB/s]\n",
      " 96%|#########5| 10.1M/10.5M [00:22<00:00, 502kB/s]\n",
      " 96%|#########6| 10.1M/10.5M [00:23<00:00, 511kB/s]\n",
      " 97%|#########6| 10.2M/10.5M [00:23<00:00, 523kB/s]\n",
      " 97%|#########7| 10.2M/10.5M [00:23<00:00, 513kB/s]\n",
      " 98%|#########7| 10.3M/10.5M [00:23<00:00, 515kB/s]\n",
      " 98%|#########8| 10.3M/10.5M [00:23<00:00, 518kB/s]\n",
      " 99%|#########8| 10.4M/10.5M [00:23<00:00, 523kB/s]\n",
      " 99%|#########9| 10.4M/10.5M [00:23<00:00, 518kB/s]\n",
      "100%|#########9| 10.5M/10.5M [00:23<00:00, 525kB/s]\n",
      "100%|##########| 10.5M/10.5M [00:27<00:00, 399kB/s]\n"
     ]
    }
   ],
   "source": [
    "!twine upload -u PT3S -p PythonTools3S  dist/*"
   ]
  },
  {
   "cell_type": "markdown",
   "metadata": {},
   "source": [
    "# Develop (use local PT3S under Development)"
   ]
  },
  {
   "cell_type": "code",
   "execution_count": null,
   "metadata": {},
   "outputs": [],
   "source": [
    "### ggf. Rechte erforderlich:  \n",
    "### entweder in PowerShell: Start-Process powershell -Verb runAs\n",
    "### oder RechteMausTaste WindowsSymbol: Windows PowerShell (Administrator)\n",
    "### dann (ohne ! in PowerShell auf pip-Verz.):"
   ]
  },
  {
   "cell_type": "code",
   "execution_count": null,
   "metadata": {},
   "outputs": [],
   "source": [
    "!pip install -e ."
   ]
  },
  {
   "cell_type": "markdown",
   "metadata": {},
   "source": [
    "due to ...\\Lib\\site-packages\\PT3S.egg-link\n",
    "\n",
    "import PT3S or from PT3S import ...\n",
    "\n",
    "will work (if PythonShell is executed .. PT3SSourcecodeDir)\n",
    "\n",
    "and point to _local PT3SSourcecodeDir"
   ]
  },
  {
   "cell_type": "markdown",
   "metadata": {},
   "source": [
    "Repository: https://github.com/aw3s/PT3S.git"
   ]
  }
 ],
 "metadata": {
  "anaconda-cloud": {},
  "kernelspec": {
   "display_name": "Python 3 (ipykernel)",
   "language": "python",
   "name": "python3"
  },
  "language_info": {
   "codemirror_mode": {
    "name": "ipython",
    "version": 3
   },
   "file_extension": ".py",
   "mimetype": "text/x-python",
   "name": "python",
   "nbconvert_exporter": "python",
   "pygments_lexer": "ipython3",
   "version": "3.7.11"
  },
  "toc-autonumbering": true,
  "toc-showcode": false,
  "toc-showmarkdowntxt": false
 },
 "nbformat": 4,
 "nbformat_minor": 4
}
