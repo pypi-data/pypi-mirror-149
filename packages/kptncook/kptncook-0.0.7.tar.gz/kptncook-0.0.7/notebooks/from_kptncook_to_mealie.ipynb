{
 "cells": [
  {
   "cell_type": "code",
   "execution_count": 1,
   "id": "6e097d22-88c1-45ae-bc41-89479dd91df0",
   "metadata": {},
   "outputs": [],
   "source": [
    "import json\n",
    "\n",
    "from pathlib import Path\n",
    "\n",
    "from kptncook.config import settings\n",
    "from kptncook.models import Recipe\n",
    "from kptncook.mealie import kptncook_to_mealie\n",
    "\n",
    "    from kptncook.mealie import MealieApiClient"
   ]
  },
  {
   "cell_type": "code",
   "execution_count": 2,
   "id": "f475c657-110d-4150-b977-03a88f6d7ae5",
   "metadata": {},
   "outputs": [],
   "source": [
    "example_path = Path.cwd().parent / \"tests\" / \"fixtures\" / \"kptncook_example.json\"\n",
    "with example_path.open(\"r\") as f:\n",
    "    example = json.load(f)\n",
    "recipe = Recipe.parse_obj(example)"
   ]
  },
  {
   "cell_type": "code",
   "execution_count": 3,
   "id": "1a2d7fe6-a69b-4150-bb52-5a2354fc2441",
   "metadata": {},
   "outputs": [],
   "source": [
    "mealie_recipe = kptncook_to_mealie(recipe)"
   ]
  },
  {
   "cell_type": "code",
   "execution_count": 4,
   "id": "c025405f-a5b5-4f23-b08e-973e358610ef",
   "metadata": {},
   "outputs": [],
   "source": [
    "# mealie_recipe.image_url"
   ]
  },
  {
   "cell_type": "code",
   "execution_count": 4,
   "id": "37238f4c-ec4a-4850-a44f-34a205e19984",
   "metadata": {},
   "outputs": [
    {
     "data": {
      "text/plain": [
       "['kptncook']"
      ]
     },
     "execution_count": 4,
     "metadata": {},
     "output_type": "execute_result"
    }
   ],
   "source": [
    "mealie_recipe.tags"
   ]
  },
  {
   "cell_type": "markdown",
   "id": "b80ee7f6-d952-42b0-b68a-cc63495d9726",
   "metadata": {},
   "source": [
    "# Import via Api"
   ]
  },
  {
   "cell_type": "code",
   "execution_count": 5,
   "id": "6b0ca50c-b2b9-45de-acdf-894fca07f165",
   "metadata": {},
   "outputs": [
    {
     "name": "stdin",
     "output_type": "stream",
     "text": [
      " ········\n"
     ]
    }
   ],
   "source": [
    "client = MealieApiClient(\"http://localhost:9000/api\")\n",
    "client.login()"
   ]
  },
  {
   "cell_type": "code",
   "execution_count": 6,
   "id": "d616df3f-b6d8-436a-bd36-cf78fc724014",
   "metadata": {},
   "outputs": [
    {
     "name": "stdout",
     "output_type": "stream",
     "text": [
      "CPU times: user 29.5 ms, sys: 4.17 ms, total: 33.7 ms\n",
      "Wall time: 451 ms\n"
     ]
    },
    {
     "data": {
      "text/plain": [
       "Recipe(id=UUID('756c3a9c-739d-4598-b96d-7a1f878177a4'), user_id=UUID('899979e8-f240-4d53-8ed3-eaeac21ecd53'), group_id=UUID('71aae446-1aa5-4db7-9782-4021692cd0ce'), name='Chili sin Carne', slug='chili-sin-carne', image=None, recipe_yield=None, total_time=None, prep_time=None, cook_time=None, perform_time=None, description='', recipe_category=[], tags=[RecipeTag(name='kptncook')], tools=[], rating=None, org_url=None, recipe_ingredient=[], date_added=None, date_updated=None, recipe_instructions=[], nutrition=Nutrition(calories='835', fat_content=None, protein_content=None, carbohydrate_content=None, fiber_content=None, sodium_content=None, sugar_content=None), settings=RecipeSettings(public=False, show_nutrition=False, show_assets=False, landscape_view=False, disable_comments=True, disable_amount=True, locked=False), assets=[], notes=[RecipeNote(title='author comment', text='Hot stuff')], extras={'kptncook_id': '5e5390e2740000cdf1381c64', 'source': 'kptncook'})"
      ]
     },
     "execution_count": 6,
     "metadata": {},
     "output_type": "execute_result"
    }
   ],
   "source": [
    "%%time\n",
    "client.create_recipe(mealie_recipe)"
   ]
  },
  {
   "cell_type": "code",
   "execution_count": 7,
   "id": "64ce518e-c9a2-4a18-9686-2d1f1455f03a",
   "metadata": {},
   "outputs": [
    {
     "data": {
      "text/plain": [
       "['kptncook']"
      ]
     },
     "execution_count": 7,
     "metadata": {},
     "output_type": "execute_result"
    }
   ],
   "source": [
    "mealie_recipe.tags"
   ]
  },
  {
   "cell_type": "markdown",
   "id": "3af36c1e-9a74-4c12-95b9-6cab3c09a31f",
   "metadata": {},
   "source": [
    "# Get all KptnCook Recipes"
   ]
  },
  {
   "cell_type": "code",
   "execution_count": 9,
   "id": "11cac9ea-6e6f-496c-b93d-43e601dd426b",
   "metadata": {},
   "outputs": [],
   "source": [
    "recipes = client.get_all_recipes()"
   ]
  },
  {
   "cell_type": "code",
   "execution_count": 10,
   "id": "82aff007-9557-4f10-bfff-f189b68ddb1d",
   "metadata": {},
   "outputs": [],
   "source": [
    "recipes_with_details = []\n",
    "for recipe in recipes:\n",
    "    recipes_with_details.append(client.get_via_slug(recipe.slug))"
   ]
  },
  {
   "cell_type": "code",
   "execution_count": 11,
   "id": "aee4e05f-b37a-48bd-8d8f-874c3f954420",
   "metadata": {},
   "outputs": [
    {
     "data": {
      "text/plain": [
       "{'kptncook_id': '5e5390e2740000cdf1381c64', 'source': 'kptncook'}"
      ]
     },
     "execution_count": 11,
     "metadata": {},
     "output_type": "execute_result"
    }
   ],
   "source": [
    "recipes_with_details[0].extras"
   ]
  },
  {
   "cell_type": "code",
   "execution_count": 12,
   "id": "b8042872-2c5e-484c-a602-947d7b858173",
   "metadata": {},
   "outputs": [],
   "source": [
    "kc_recipes = [r for r in recipes_with_details if r.extras.get(\"source\") == \"kptncook\"]"
   ]
  },
  {
   "cell_type": "code",
   "execution_count": 13,
   "id": "1711ac76-1075-4156-b97d-2504aab6adb9",
   "metadata": {},
   "outputs": [
    {
     "data": {
      "text/plain": [
       "[Recipe(id=UUID('756c3a9c-739d-4598-b96d-7a1f878177a4'), user_id=UUID('899979e8-f240-4d53-8ed3-eaeac21ecd53'), group_id=UUID('71aae446-1aa5-4db7-9782-4021692cd0ce'), name='Chili sin Carne', slug='chili-sin-carne', image=None, recipe_yield=None, total_time=None, prep_time=None, cook_time=None, perform_time=None, description='', recipe_category=[], tags=[RecipeTag(name='kptncook')], tools=[], rating=None, org_url=None, recipe_ingredient=[], date_added=None, date_updated=None, recipe_instructions=[], nutrition=Nutrition(calories='835', fat_content=None, protein_content=None, carbohydrate_content=None, fiber_content=None, sodium_content=None, sugar_content=None), settings=RecipeSettings(public=False, show_nutrition=False, show_assets=False, landscape_view=False, disable_comments=True, disable_amount=True, locked=False), assets=[], notes=[RecipeNote(title='author comment', text='Hot stuff')], extras={'kptncook_id': '5e5390e2740000cdf1381c64', 'source': 'kptncook'})]"
      ]
     },
     "execution_count": 13,
     "metadata": {},
     "output_type": "execute_result"
    }
   ],
   "source": [
    "kc_recipes"
   ]
  },
  {
   "cell_type": "markdown",
   "id": "1c409f2b-687a-4133-9a63-e9df87a19c32",
   "metadata": {},
   "source": [
    "# Sync"
   ]
  },
  {
   "cell_type": "code",
   "execution_count": 14,
   "id": "8d6dd063-b2da-4d1d-af4a-eb0267cba5ba",
   "metadata": {},
   "outputs": [],
   "source": [
    "from kptncook.repositories import RecipeRepository"
   ]
  },
  {
   "cell_type": "code",
   "execution_count": 15,
   "id": "ae9f61df-d88a-4251-a779-8570e87ad532",
   "metadata": {},
   "outputs": [],
   "source": [
    "repo = RecipeRepository(settings.root)"
   ]
  },
  {
   "cell_type": "code",
   "execution_count": 17,
   "id": "67ad0589-3f50-4e47-bbe6-dd75ee995831",
   "metadata": {},
   "outputs": [],
   "source": [
    "api_recipes = []\n",
    "for repo_recipe in repo.list():\n",
    "    recipe = Recipe.parse_obj(repo_recipe.data)\n",
    "    mealie_recipe = kptncook_to_mealie(recipe)\n",
    "    api_recipes.append(mealie_recipe)"
   ]
  },
  {
   "cell_type": "code",
   "execution_count": 18,
   "id": "44d3a2f8-fac7-49bc-9f40-222d58061416",
   "metadata": {},
   "outputs": [
    {
     "data": {
      "text/plain": [
       "6"
      ]
     },
     "execution_count": 18,
     "metadata": {},
     "output_type": "execute_result"
    }
   ],
   "source": [
    "len(api_recipes)"
   ]
  },
  {
   "cell_type": "code",
   "execution_count": 19,
   "id": "4e364ce4-0964-4088-8773-d1017e6fd9e1",
   "metadata": {},
   "outputs": [
    {
     "data": {
      "text/plain": [
       "{'kptncook_id': '5e5390e2740000cdf1381c64', 'source': 'kptncook'}"
      ]
     },
     "execution_count": 19,
     "metadata": {},
     "output_type": "execute_result"
    }
   ],
   "source": [
    "api_recipes[0].extras"
   ]
  },
  {
   "cell_type": "code",
   "execution_count": 22,
   "id": "4c9d7c33-8e5e-4707-9b23-bb3ef7e1b581",
   "metadata": {},
   "outputs": [],
   "source": [
    "ids_in_mealie = {r.extras[\"kptncook_id\"] for r in kc_recipes}\n",
    "ids_from_api = {r.extras[\"kptncook_id\"] for r in api_recipes}"
   ]
  },
  {
   "cell_type": "code",
   "execution_count": 25,
   "id": "cad30b2e-a436-4d59-8e61-a74767cfd5b6",
   "metadata": {},
   "outputs": [],
   "source": [
    "ids_to_add = ids_from_api - ids_in_mealie"
   ]
  },
  {
   "cell_type": "code",
   "execution_count": 26,
   "id": "25aad705-550c-4814-bc02-ee62e1bde64b",
   "metadata": {},
   "outputs": [],
   "source": [
    "recipes_to_add = []\n",
    "for recipe in api_recipes:\n",
    "    if recipe.extras.get(\"kptncook_id\") in ids_to_add:\n",
    "        recipes_to_add.append(recipe)"
   ]
  },
  {
   "cell_type": "code",
   "execution_count": 27,
   "id": "328e6b96-0db1-4d4e-bd26-b484fd612ca7",
   "metadata": {},
   "outputs": [
    {
     "data": {
      "text/plain": [
       "5"
      ]
     },
     "execution_count": 27,
     "metadata": {},
     "output_type": "execute_result"
    }
   ],
   "source": [
    "len(recipes_to_add)"
   ]
  },
  {
   "cell_type": "code",
   "execution_count": 28,
   "id": "aec4fb78-2101-4172-9969-594a7e416b83",
   "metadata": {},
   "outputs": [],
   "source": [
    "for recipe in recipes_to_add:\n",
    "    created = client.create_recipe(recipe)"
   ]
  },
  {
   "cell_type": "code",
   "execution_count": null,
   "id": "a322ad77-938c-4205-b7da-11ca9a4292c9",
   "metadata": {},
   "outputs": [],
   "source": []
  }
 ],
 "metadata": {
  "kernelspec": {
   "display_name": "Python 3 (ipykernel)",
   "language": "python",
   "name": "python3"
  },
  "language_info": {
   "codemirror_mode": {
    "name": "ipython",
    "version": 3
   },
   "file_extension": ".py",
   "mimetype": "text/x-python",
   "name": "python",
   "nbconvert_exporter": "python",
   "pygments_lexer": "ipython3",
   "version": "3.10.4"
  }
 },
 "nbformat": 4,
 "nbformat_minor": 5
}
