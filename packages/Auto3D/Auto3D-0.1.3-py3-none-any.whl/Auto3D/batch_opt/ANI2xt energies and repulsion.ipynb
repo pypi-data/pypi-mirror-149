{
 "cells": [
  {
   "cell_type": "code",
   "execution_count": 1,
   "id": "9ed8a52a",
   "metadata": {},
   "outputs": [
    {
     "name": "stderr",
     "output_type": "stream",
     "text": [
      "/home/liucmu/miniconda3/envs/py37/lib/python3.7/site-packages/torchani-2.3.dev568+geffb1bb-py3.7.egg/torchani/infer.py:16: UserWarning: mnp not installed\n",
      "  warnings.warn(\"mnp not installed\")\n",
      "/home/liucmu/miniconda3/envs/py37/lib/python3.7/site-packages/torchani-2.3.dev568+geffb1bb-py3.7.egg/torchani/aev/aev_computer.py:24: UserWarning: cuaev not installed\n",
      "  warnings.warn(\"cuaev not installed\")\n"
     ]
    }
   ],
   "source": [
    "from openbabel import pybel\n",
    "import numpy as np\n",
    "import torch\n",
    "import torch.nn as nn\n",
    "import torchani\n",
    "from torchani.repulsion import RepulsionCalculator, StandaloneRepulsionCalculator\n",
    "from torchani.units import hartree2kcalmol \n",
    "\n",
    "device = torch.device(\"cuda:0\")"
   ]
  },
  {
   "cell_type": "code",
   "execution_count": 2,
   "id": "fa98015c",
   "metadata": {},
   "outputs": [],
   "source": [
    "def mols2arrays(sdf_fil):\n",
    "    species_order = (\"H\", 'C', 'N', 'O', 'S', 'F', 'Cl')\n",
    "    ani2xt_index = {1:0, 6:1, 7:2, 8:3, 16:4, 9:5, 17:6}\n",
    "    coord = np.array([[a.coords for a in mol.atoms] for mol in mols])\n",
    "    numbers = np.array([[ani2xt_index[a.atomicnum] for a in mol.atoms] for mol in mols])\n",
    "    return coord, numbers\n",
    "\n",
    "class ANI2xt(nn.Module):\n",
    "    def __init__(self, device, state_dict='models/ani2xt.pt'):\n",
    "        super().__init__()\n",
    "        self.device = device\n",
    "        self.state_dict = state_dict\n",
    "        # setup constants and construct an AEV computer\n",
    "        Rcr = 5.2000e+00\n",
    "        Rca = 3.5000e+00\n",
    "        EtaR = torch.tensor([1.6000000e+01], device=device)\n",
    "        ShfR = torch.tensor([9.0000000e-01, 1.1687500e+00, 1.4375000e+00, 1.7062500e+00, 1.9750000e+00, 2.2437500e+00, 2.5125000e+00, 2.7812500e+00, 3.0500000e+00, 3.3187500e+00, 3.5875000e+00, 3.8562500e+00, 4.1250000e+00, 4.3937500e+00, 4.6625000e+00, 4.9312500e+00], device=device)\n",
    "        Zeta = torch.tensor([3.2000000e+01], device=device)\n",
    "        ShfZ = torch.tensor([1.9634954e-01, 5.8904862e-01, 9.8174770e-01, 1.3744468e+00, 1.7671459e+00, 2.1598449e+00, 2.5525440e+00, 2.9452431e+00], device=device)\n",
    "        EtaA = torch.tensor([8.0000000e+00], device=device)\n",
    "        ShfA = torch.tensor([9.0000000e-01, 1.5500000e+00, 2.2000000e+00, 2.8500000e+00], device=device)\n",
    "#         species_order = [b'H', b'C', b'N', b'O', b'S', b'F', b'Cl']\n",
    "        species_order = [\"H\", 'C', 'N', 'O', 'S', 'F', 'Cl']\n",
    "\n",
    "        num_species = len(species_order)\n",
    "        aev_computer = torchani.AEVComputer(Rcr, Rca, EtaR, ShfR, EtaA, Zeta, ShfA, ShfZ, num_species)\n",
    "        aev_dim = aev_computer.aev_length\n",
    "\n",
    "        H_network = torch.nn.Sequential(\n",
    "            torch.nn.Linear(aev_dim, 256),\n",
    "            torch.nn.CELU(0.1),\n",
    "            torch.nn.Linear(256, 192),\n",
    "            torch.nn.CELU(0.1),\n",
    "            torch.nn.Linear(192, 160),\n",
    "            torch.nn.CELU(0.1),\n",
    "            torch.nn.Linear(160, 1)\n",
    "        )\n",
    "\n",
    "        C_network = torch.nn.Sequential(\n",
    "            torch.nn.Linear(aev_dim, 224),\n",
    "            torch.nn.CELU(0.1),\n",
    "            torch.nn.Linear(224, 192),\n",
    "            torch.nn.CELU(0.1),\n",
    "            torch.nn.Linear(192, 160),\n",
    "            torch.nn.CELU(0.1),\n",
    "            torch.nn.Linear(160, 1)\n",
    "        )\n",
    "\n",
    "        N_network = torch.nn.Sequential(\n",
    "            torch.nn.Linear(aev_dim, 192),\n",
    "            torch.nn.CELU(0.1),\n",
    "            torch.nn.Linear(192, 160),\n",
    "            torch.nn.CELU(0.1),\n",
    "            torch.nn.Linear(160, 128),\n",
    "            torch.nn.CELU(0.1),\n",
    "            torch.nn.Linear(128, 1)\n",
    "        )\n",
    "\n",
    "        O_network = torch.nn.Sequential(\n",
    "            torch.nn.Linear(aev_dim, 192),\n",
    "            torch.nn.CELU(0.1),\n",
    "            torch.nn.Linear(192, 160),\n",
    "            torch.nn.CELU(0.1),\n",
    "            torch.nn.Linear(160, 128),\n",
    "            torch.nn.CELU(0.1),\n",
    "            torch.nn.Linear(128, 1)\n",
    "        )\n",
    "\n",
    "        S_network = torch.nn.Sequential(\n",
    "            torch.nn.Linear(aev_dim, 160),\n",
    "            torch.nn.CELU(0.1),\n",
    "            torch.nn.Linear(160, 128),\n",
    "            torch.nn.CELU(0.1),\n",
    "            torch.nn.Linear(128, 96),\n",
    "            torch.nn.CELU(0.1),\n",
    "            torch.nn.Linear(96, 1)\n",
    "        )\n",
    "\n",
    "        F_network = torch.nn.Sequential(\n",
    "            torch.nn.Linear(aev_dim, 160),\n",
    "            torch.nn.CELU(0.1),\n",
    "            torch.nn.Linear(160, 128),\n",
    "            torch.nn.CELU(0.1),\n",
    "            torch.nn.Linear(128, 96),\n",
    "            torch.nn.CELU(0.1),\n",
    "            torch.nn.Linear(96, 1)\n",
    "        )\n",
    "\n",
    "        Cl_network = torch.nn.Sequential(\n",
    "            torch.nn.Linear(aev_dim, 160),\n",
    "            torch.nn.CELU(0.1),\n",
    "            torch.nn.Linear(160, 128),\n",
    "            torch.nn.CELU(0.1),\n",
    "            torch.nn.Linear(128, 96),\n",
    "            torch.nn.CELU(0.1),\n",
    "            torch.nn.Linear(96, 1)\n",
    "        )\n",
    "\n",
    "        nn = torchani.ANIModel([H_network, C_network, N_network, O_network, S_network, F_network, Cl_network])\n",
    "        checkpoint = torch.load(self.state_dict, map_location=self.device)\n",
    "        nn.load_state_dict(checkpoint)\n",
    "        self.shifter = torchani.utils.EnergyShifter(torch.tensor([ -0.6002,  -38.1224,  -54.7241,  -75.2086, \n",
    "                                                                    -398.1251,  -99.8006, -460.1375], \n",
    "                                                                    device=self.device, dtype=torch.float64))\n",
    "        self.model = torchani.nn.Sequential(aev_computer, nn).to(device)\n",
    "        \n",
    "#         self.species_order = (\"H\", 'C', 'N', 'O', 'S', 'F', 'Cl')\n",
    "        self.rep = StandaloneRepulsionCalculator(elements=species_order, periodic_table_index=False).to(device)\n",
    "#         self.model.train(False)\n",
    "\n",
    "    \n",
    "    def forward(self, species, coords):\n",
    "        #Electronic part\n",
    "        energy = self.shifter(self.model((species, coords))).energies\n",
    "        gradient = torch.autograd.grad([energy.sum()], [coords])[0]\n",
    "        force = -gradient\n",
    "    \n",
    "        #Repulsion part\n",
    "        rep_energy = self.rep((species, coords)).energies\n",
    "        derivative = torch.autograd.grad(rep_energy.sum(), coords)[0]\n",
    "        rep_force = -derivative\n",
    "        \n",
    "        final_energy = energy + rep_energy\n",
    "        final_force = force + rep_force\n",
    "        return (final_energy, final_force)\n",
    "\n"
   ]
  },
  {
   "cell_type": "code",
   "execution_count": 3,
   "id": "be934878",
   "metadata": {},
   "outputs": [
    {
     "name": "stdout",
     "output_type": "stream",
     "text": [
      "(2,) (2,)\n"
     ]
    },
    {
     "name": "stderr",
     "output_type": "stream",
     "text": [
      "/home/liucmu/miniconda3/envs/py37/lib/python3.7/site-packages/ipykernel_launcher.py:4: VisibleDeprecationWarning: Creating an ndarray from ragged nested sequences (which is a list-or-tuple of lists-or-tuples-or ndarrays with different lengths or shapes) is deprecated. If you meant to do this, you must specify 'dtype=object' when creating the ndarray.\n",
      "  after removing the cwd from sys.path.\n",
      "/home/liucmu/miniconda3/envs/py37/lib/python3.7/site-packages/ipykernel_launcher.py:5: VisibleDeprecationWarning: Creating an ndarray from ragged nested sequences (which is a list-or-tuple of lists-or-tuples-or ndarrays with different lengths or shapes) is deprecated. If you meant to do this, you must specify 'dtype=object' when creating the ndarray.\n",
      "  \"\"\"\n"
     ]
    },
    {
     "ename": "TypeError",
     "evalue": "can't convert np.ndarray of type numpy.object_. The only supported types are: float64, float32, float16, complex64, complex128, int64, int32, int16, int8, uint8, and bool.",
     "output_type": "error",
     "traceback": [
      "\u001b[0;31m---------------------------------------------------------------------------\u001b[0m",
      "\u001b[0;31mTypeError\u001b[0m                                 Traceback (most recent call last)",
      "\u001b[0;32m/tmp/ipykernel_2711/458750939.py\u001b[0m in \u001b[0;36m<module>\u001b[0;34m\u001b[0m\n\u001b[1;32m      9\u001b[0m \u001b[0mprint\u001b[0m\u001b[0;34m(\u001b[0m\u001b[0mcoord\u001b[0m\u001b[0;34m.\u001b[0m\u001b[0mshape\u001b[0m\u001b[0;34m,\u001b[0m \u001b[0mnumbers\u001b[0m\u001b[0;34m.\u001b[0m\u001b[0mshape\u001b[0m\u001b[0;34m)\u001b[0m\u001b[0;34m\u001b[0m\u001b[0;34m\u001b[0m\u001b[0m\n\u001b[1;32m     10\u001b[0m \u001b[0;34m\u001b[0m\u001b[0m\n\u001b[0;32m---> 11\u001b[0;31m \u001b[0mcoord\u001b[0m \u001b[0;34m=\u001b[0m \u001b[0mtorch\u001b[0m\u001b[0;34m.\u001b[0m\u001b[0mtensor\u001b[0m\u001b[0;34m(\u001b[0m\u001b[0mcoord\u001b[0m\u001b[0;34m,\u001b[0m \u001b[0mdtype\u001b[0m\u001b[0;34m=\u001b[0m\u001b[0mtorch\u001b[0m\u001b[0;34m.\u001b[0m\u001b[0mfloat64\u001b[0m\u001b[0;34m,\u001b[0m \u001b[0mrequires_grad\u001b[0m\u001b[0;34m=\u001b[0m\u001b[0;32mTrue\u001b[0m\u001b[0;34m,\u001b[0m \u001b[0mdevice\u001b[0m\u001b[0;34m=\u001b[0m\u001b[0mdevice\u001b[0m\u001b[0;34m)\u001b[0m\u001b[0;34m.\u001b[0m\u001b[0mfloat\u001b[0m\u001b[0;34m(\u001b[0m\u001b[0;34m)\u001b[0m\u001b[0;34m\u001b[0m\u001b[0;34m\u001b[0m\u001b[0m\n\u001b[0m\u001b[1;32m     12\u001b[0m \u001b[0mspecies\u001b[0m \u001b[0;34m=\u001b[0m \u001b[0mtorch\u001b[0m\u001b[0;34m.\u001b[0m\u001b[0mtensor\u001b[0m\u001b[0;34m(\u001b[0m\u001b[0mnumbers\u001b[0m\u001b[0;34m,\u001b[0m \u001b[0mdtype\u001b[0m\u001b[0;34m=\u001b[0m\u001b[0mtorch\u001b[0m\u001b[0;34m.\u001b[0m\u001b[0mlong\u001b[0m\u001b[0;34m,\u001b[0m \u001b[0mdevice\u001b[0m\u001b[0;34m=\u001b[0m\u001b[0mdevice\u001b[0m\u001b[0;34m)\u001b[0m\u001b[0;34m\u001b[0m\u001b[0;34m\u001b[0m\u001b[0m\n",
      "\u001b[0;31mTypeError\u001b[0m: can't convert np.ndarray of type numpy.object_. The only supported types are: float64, float32, float16, complex64, complex128, int64, int32, int16, int8, uint8, and bool."
     ]
    }
   ],
   "source": [
    "# Repulsion energy and forces\n",
    "# species_order = (\"H\", 'C', 'N', 'O', 'S', 'F', 'Cl')\n",
    "# rep = StandaloneRepulsionCalculator(elements=species_order, periodic_table_index=False).to(device)\n",
    "\n",
    "f = \"/home/liucmu/auto3D/workflow/batch_opt/test100.sdf\"\n",
    "f2 = \"/home/liucmu/auto3D/workflow/batch_opt/test2.sdf\"\n",
    "mols = list(pybel.readfile('sdf', f2))\n",
    "coord, numbers = mols2arrays(mols)\n",
    "print(coord.shape, numbers.shape)\n",
    "\n",
    "coord = torch.tensor(coord, dtype=torch.float64, requires_grad=True, device=device).float()\n",
    "species = torch.tensor(numbers, dtype=torch.long, device=device)"
   ]
  },
  {
   "cell_type": "code",
   "execution_count": 4,
   "id": "8cddfdb0",
   "metadata": {},
   "outputs": [
    {
     "name": "stderr",
     "output_type": "stream",
     "text": [
      "/home/liucmu/miniconda3/envs/py37/lib/python3.7/site-packages/torchani-2.3.dev568+geffb1bb-py3.7.egg/torchani/utils.py:294: UserWarning: To copy construct from a tensor, it is recommended to use sourceTensor.clone().detach() or sourceTensor.clone().detach().requires_grad_(True), rather than torch.tensor(sourceTensor).\n",
      "  self_energies = torch.tensor(self_energies, dtype=torch.double)\n"
     ]
    }
   ],
   "source": [
    "# ANI2xt energy and forces\n",
    "ani2xt = ANI2xt(device, state_dict='/home/liucmu/auto3D/workflow/models/ani2xt.pt')"
   ]
  },
  {
   "cell_type": "code",
   "execution_count": 5,
   "id": "8d5d0e12",
   "metadata": {
    "scrolled": true
   },
   "outputs": [
    {
     "name": "stdout",
     "output_type": "stream",
     "text": [
      "ANI2xt(\n",
      "  (shifter): EnergyShifter()\n",
      "  (model): Sequential(\n",
      "    (0): AEVComputer(\n",
      "      (angular_terms): StandardAngular(\n",
      "        (cutoff_fn): CutoffCosine()\n",
      "      )\n",
      "      (radial_terms): StandardRadial(\n",
      "        (cutoff_fn): CutoffCosine()\n",
      "      )\n",
      "      (neighborlist): FullPairwise()\n",
      "    )\n",
      "    (1): ANIModel(\n",
      "      (0): Sequential(\n",
      "        (0): Linear(in_features=1008, out_features=256, bias=True)\n",
      "        (1): CELU(alpha=0.1)\n",
      "        (2): Linear(in_features=256, out_features=192, bias=True)\n",
      "        (3): CELU(alpha=0.1)\n",
      "        (4): Linear(in_features=192, out_features=160, bias=True)\n",
      "        (5): CELU(alpha=0.1)\n",
      "        (6): Linear(in_features=160, out_features=1, bias=True)\n",
      "      )\n",
      "      (1): Sequential(\n",
      "        (0): Linear(in_features=1008, out_features=224, bias=True)\n",
      "        (1): CELU(alpha=0.1)\n",
      "        (2): Linear(in_features=224, out_features=192, bias=True)\n",
      "        (3): CELU(alpha=0.1)\n",
      "        (4): Linear(in_features=192, out_features=160, bias=True)\n",
      "        (5): CELU(alpha=0.1)\n",
      "        (6): Linear(in_features=160, out_features=1, bias=True)\n",
      "      )\n",
      "      (2): Sequential(\n",
      "        (0): Linear(in_features=1008, out_features=192, bias=True)\n",
      "        (1): CELU(alpha=0.1)\n",
      "        (2): Linear(in_features=192, out_features=160, bias=True)\n",
      "        (3): CELU(alpha=0.1)\n",
      "        (4): Linear(in_features=160, out_features=128, bias=True)\n",
      "        (5): CELU(alpha=0.1)\n",
      "        (6): Linear(in_features=128, out_features=1, bias=True)\n",
      "      )\n",
      "      (3): Sequential(\n",
      "        (0): Linear(in_features=1008, out_features=192, bias=True)\n",
      "        (1): CELU(alpha=0.1)\n",
      "        (2): Linear(in_features=192, out_features=160, bias=True)\n",
      "        (3): CELU(alpha=0.1)\n",
      "        (4): Linear(in_features=160, out_features=128, bias=True)\n",
      "        (5): CELU(alpha=0.1)\n",
      "        (6): Linear(in_features=128, out_features=1, bias=True)\n",
      "      )\n",
      "      (4): Sequential(\n",
      "        (0): Linear(in_features=1008, out_features=160, bias=True)\n",
      "        (1): CELU(alpha=0.1)\n",
      "        (2): Linear(in_features=160, out_features=128, bias=True)\n",
      "        (3): CELU(alpha=0.1)\n",
      "        (4): Linear(in_features=128, out_features=96, bias=True)\n",
      "        (5): CELU(alpha=0.1)\n",
      "        (6): Linear(in_features=96, out_features=1, bias=True)\n",
      "      )\n",
      "      (5): Sequential(\n",
      "        (0): Linear(in_features=1008, out_features=160, bias=True)\n",
      "        (1): CELU(alpha=0.1)\n",
      "        (2): Linear(in_features=160, out_features=128, bias=True)\n",
      "        (3): CELU(alpha=0.1)\n",
      "        (4): Linear(in_features=128, out_features=96, bias=True)\n",
      "        (5): CELU(alpha=0.1)\n",
      "        (6): Linear(in_features=96, out_features=1, bias=True)\n",
      "      )\n",
      "      (6): Sequential(\n",
      "        (0): Linear(in_features=1008, out_features=160, bias=True)\n",
      "        (1): CELU(alpha=0.1)\n",
      "        (2): Linear(in_features=160, out_features=128, bias=True)\n",
      "        (3): CELU(alpha=0.1)\n",
      "        (4): Linear(in_features=128, out_features=96, bias=True)\n",
      "        (5): CELU(alpha=0.1)\n",
      "        (6): Linear(in_features=96, out_features=1, bias=True)\n",
      "      )\n",
      "    )\n",
      "  )\n",
      "  (rep): StandaloneRepulsionCalculator(\n",
      "    (cutoff_function): CutoffSmooth()\n",
      "    (neighborlist): FullPairwise()\n",
      "    (species_converter): SpeciesConverter()\n",
      "  )\n",
      ")\n"
     ]
    }
   ],
   "source": [
    "print(ani2xt)"
   ]
  },
  {
   "cell_type": "code",
   "execution_count": 6,
   "id": "afa0f71e",
   "metadata": {
    "scrolled": false
   },
   "outputs": [
    {
     "name": "stdout",
     "output_type": "stream",
     "text": [
      "torch.Size([100, 23]) torch.Size([100, 23, 3])\n",
      "torch.Size([100]) torch.Size([100, 23, 3])\n"
     ]
    }
   ],
   "source": [
    "print(species.shape, coord.shape)\n",
    "e, f = ani2xt(species, coord)\n",
    "print(e.size(), f.size())"
   ]
  },
  {
   "cell_type": "code",
   "execution_count": 7,
   "id": "f1fc3391",
   "metadata": {},
   "outputs": [
    {
     "name": "stdout",
     "output_type": "stream",
     "text": [
      "tensor([-612.4149, -612.4152, -612.4145, -612.4130, -612.4192, -612.4322,\n",
      "        -612.4315, -612.4190, -612.4199, -612.4145, -612.4167, -612.4210,\n",
      "        -612.4157, -612.4252, -612.4227, -612.4123, -612.4212, -612.4182,\n",
      "        -612.4103, -612.4162, -612.4165, -612.4093, -612.4110, -612.4005,\n",
      "        -612.4043, -612.4265, -612.4108, -612.4109, -612.4178, -612.4153,\n",
      "        -612.4110, -612.4025, -612.4054, -612.4193, -612.4091, -612.4187,\n",
      "        -612.4244, -612.4065, -612.4345, -612.4116, -612.4200, -612.4200,\n",
      "        -612.4094, -612.4120, -612.3883, -612.4274, -612.4202, -612.4151,\n",
      "        -612.4162, -612.4085, -612.4070, -612.4196, -612.4221, -612.3979,\n",
      "        -612.4320, -612.4278, -612.4259, -612.4216, -612.4101, -612.4235,\n",
      "        -612.4080, -612.4258, -612.4057, -612.4034, -612.4145, -612.4074,\n",
      "        -612.4117, -612.4316, -612.4200, -612.4236, -612.4276, -612.4061,\n",
      "        -612.4100, -612.4095, -612.4084, -612.4228, -612.4117, -612.4105,\n",
      "        -612.4178, -612.4219, -612.4192, -612.4172, -612.4164, -612.4264,\n",
      "        -612.3984, -612.4131, -612.4219, -612.4150, -612.4082, -612.4163,\n",
      "        -612.4381, -612.4219, -612.4095, -612.4171, -612.4276, -612.4048,\n",
      "        -612.4083, -612.4205, -612.4185, -612.4095], device='cuda:0',\n",
      "       dtype=torch.float64, grad_fn=<AddBackward0>)\n"
     ]
    }
   ],
   "source": [
    "print(e)"
   ]
  },
  {
   "cell_type": "code",
   "execution_count": 8,
   "id": "774a93da",
   "metadata": {},
   "outputs": [
    {
     "name": "stdout",
     "output_type": "stream",
     "text": [
      "tensor([[[ 0.0874,  0.0021,  0.0089],\n",
      "         [-0.0821, -0.1736,  0.0256],\n",
      "         [-0.0326, -0.0429,  0.0072],\n",
      "         ...,\n",
      "         [ 0.0127,  0.0706, -0.0476],\n",
      "         [-0.0626, -0.0512, -0.0202],\n",
      "         [-0.0546,  0.0329,  0.0982]],\n",
      "\n",
      "        [[-0.0811,  0.0759, -0.0304],\n",
      "         [-0.0949, -0.1333,  0.0583],\n",
      "         [ 0.1338, -0.0816,  0.0456],\n",
      "         ...,\n",
      "         [-0.0902, -0.0747, -0.0263],\n",
      "         [ 0.0138,  0.0724, -0.0881],\n",
      "         [-0.0367,  0.0611,  0.0664]],\n",
      "\n",
      "        [[ 0.1318,  0.0148,  0.0071],\n",
      "         [-0.1010, -0.1883,  0.0903],\n",
      "         [-0.0427, -0.0106,  0.0014],\n",
      "         ...,\n",
      "         [-0.0477,  0.0214,  0.0535],\n",
      "         [ 0.0128,  0.0891, -0.0776],\n",
      "         [-0.0583, -0.0734, -0.0442]],\n",
      "\n",
      "        ...,\n",
      "\n",
      "        [[-0.0802, -0.0682, -0.0255],\n",
      "         [-0.1031,  0.1351,  0.0745],\n",
      "         [ 0.1780,  0.0580,  0.0304],\n",
      "         ...,\n",
      "         [-0.0174, -0.0627, -0.0996],\n",
      "         [-0.0277, -0.0399,  0.0647],\n",
      "         [-0.0729,  0.0808, -0.0146]],\n",
      "\n",
      "        [[ 0.1036, -0.0283,  0.0526],\n",
      "         [ 0.0402,  0.1487, -0.0794],\n",
      "         [-0.1046,  0.0499, -0.0746],\n",
      "         ...,\n",
      "         [-0.0700,  0.0340,  0.0516],\n",
      "         [-0.0015, -0.1039,  0.0370],\n",
      "         [-0.0326,  0.0115, -0.0937]],\n",
      "\n",
      "        [[ 0.1105, -0.0161, -0.0162],\n",
      "         [-0.1313,  0.1647,  0.1625],\n",
      "         [-0.0278,  0.0069,  0.0030],\n",
      "         ...,\n",
      "         [-0.0841,  0.0571,  0.0061],\n",
      "         [-0.0460, -0.0909,  0.0634],\n",
      "         [ 0.0212, -0.0355, -0.1094]]], device='cuda:0')\n"
     ]
    }
   ],
   "source": [
    "print(f)"
   ]
  },
  {
   "cell_type": "markdown",
   "id": "f256f1d0",
   "metadata": {},
   "source": [
    "# Ani2xt on different molecules"
   ]
  },
  {
   "cell_type": "code",
   "execution_count": 1,
   "id": "6015fd4a",
   "metadata": {},
   "outputs": [
    {
     "name": "stderr",
     "output_type": "stream",
     "text": [
      "/home/liucmu/miniconda3/envs/py37/lib/python3.7/site-packages/torchani-2.3.dev568+geffb1bb-py3.7.egg/torchani/infer.py:16: UserWarning: mnp not installed\n",
      "  warnings.warn(\"mnp not installed\")\n",
      "/home/liucmu/miniconda3/envs/py37/lib/python3.7/site-packages/torchani-2.3.dev568+geffb1bb-py3.7.egg/torchani/aev/aev_computer.py:24: UserWarning: cuaev not installed\n",
      "  warnings.warn(\"cuaev not installed\")\n"
     ]
    }
   ],
   "source": [
    "from openbabel import pybel\n",
    "import numpy as np\n",
    "import torch\n",
    "import torch.nn as nn\n",
    "import torchani\n",
    "from torchani.repulsion import RepulsionCalculator, StandaloneRepulsionCalculator\n",
    "from torchani.units import hartree2kcalmol\n",
    "from utils import *\n",
    "\n",
    "device = torch.device(\"cuda:0\")"
   ]
  },
  {
   "cell_type": "code",
   "execution_count": 4,
   "id": "9a8bcca2",
   "metadata": {},
   "outputs": [
    {
     "name": "stdout",
     "output_type": "stream",
     "text": [
      "[[(3.5291, 0.1498, 0.2911), (2.752, -0.9304, 0.6543), (1.3866, -0.9348, 0.4238), (0.7977, 0.1598, -0.1788), (-0.6492, 0.1758, -0.4363), (-1.159, 1.1824, -0.979), (-1.5111, -0.9655, -0.0709), (-2.8731, -0.6811, -0.4321), (-3.4636, 0.3714, 0.3598), (1.5829, 1.2328, -0.5372), (2.9427, 1.2552, -0.3158), (4.589, 0.0881, 0.4994), (3.196, -1.8143, 1.1359), (0.7444, -1.7585, 0.6924), (-1.1934, -1.8247, -0.7339), (-1.4173, -1.2787, 0.9786), (-2.951, -0.5103, -1.457), (-2.804, 0.8004, 1.1135), (-3.8451, 1.1851, -0.2935), (-4.336, -0.0946, 0.8937), (1.1195, 2.0844, -1.0067), (3.5627, 2.1078, -0.6015)]] [[1, 1, 1, 1, 1, 3, 1, 2, 1, 1, 1, 0, 0, 0, 0, 0, 0, 0, 0, 0, 0, 0]]\n"
     ]
    }
   ],
   "source": [
    "# Repulsion energy and forces\n",
    "# species_order = (\"H\", 'C', 'N', 'O', 'S', 'F', 'Cl')\n",
    "# rep = StandaloneRepulsionCalculator(elements=species_order, periodic_table_index=False).to(device)\n",
    "\n",
    "f = \"/home/liucmu/auto3D/workflow/batch_opt/test100.sdf\"\n",
    "f2 = \"/home/liucmu/auto3D/workflow/batch_opt/test2.sdf\"\n",
    "mols = list(pybel.readfile('sdf', f2))\n",
    "coord, numbers = mols2lists(mols)\n",
    "\n",
    "coord_padded = padding_coords(coord[1:])\n",
    "numbers_padded = padding_species(numbers[1:])\n",
    "print(coord_padded, numbers_padded)\n",
    "\n",
    "# coord = torch.tensor(coord, dtype=torch.float64, requires_grad=True, device=device).float()\n",
    "# species = torch.tensor(numbers, dtype=torch.long, device=device)"
   ]
  },
  {
   "cell_type": "code",
   "execution_count": 5,
   "id": "e06bcbb8",
   "metadata": {},
   "outputs": [
    {
     "name": "stdout",
     "output_type": "stream",
     "text": [
      "torch.Size([1, 22]) torch.Size([1, 22, 3])\n",
      "torch.Size([1]) torch.Size([1, 22, 3])\n",
      "tensor([-479.2707], device='cuda:0', dtype=torch.float64,\n",
      "       grad_fn=<AddBackward0>) tensor([[[ 0.0936,  0.0158,  0.0086],\n",
      "         [ 0.0319, -0.1198,  0.0603],\n",
      "         [-0.0293, -0.0727,  0.0289],\n",
      "         [-0.1148, -0.0251, -0.0072],\n",
      "         [ 0.0396,  0.0324,  0.0035],\n",
      "         [-0.0553,  0.1102, -0.0629],\n",
      "         [-0.0458, -0.0487, -0.0639],\n",
      "         [-0.0360, -0.0847,  0.0275],\n",
      "         [-0.0630, -0.0320, -0.0316],\n",
      "         [-0.0255,  0.1054, -0.0522],\n",
      "         [ 0.0796,  0.0623, -0.0150],\n",
      "         [ 0.1309,  0.0017,  0.0215],\n",
      "         [ 0.0437, -0.0735,  0.0412],\n",
      "         [-0.0687, -0.1123,  0.0389],\n",
      "         [ 0.0232, -0.0503, -0.0206],\n",
      "         [ 0.0106, -0.0283,  0.1032],\n",
      "         [-0.0035,  0.0213, -0.0652],\n",
      "         [ 0.0779,  0.0474,  0.0817],\n",
      "         [-0.0279,  0.0646, -0.0426],\n",
      "         [-0.0541, -0.0123,  0.0387],\n",
      "         [-0.0639,  0.1116, -0.0625],\n",
      "         [ 0.0568,  0.0871, -0.0303]]], device='cuda:0')\n"
     ]
    }
   ],
   "source": [
    "coords = torch.tensor(coord_padded, dtype=torch.float64, requires_grad=True, device=device).float()\n",
    "species = torch.tensor(numbers_padded, dtype=torch.long, device=device)\n",
    "\n",
    "ani2xt = ANI2xt(device, state_dict='/home/liucmu/auto3D/workflow/models/ani2xt.pt')\n",
    "\n",
    "print(species.shape, coords.shape)\n",
    "e, f = ani2xt(species, coords)\n",
    "print(e.size(), f.size())\n",
    "print(e, f)"
   ]
  },
  {
   "cell_type": "code",
   "execution_count": 3,
   "id": "9a70215d",
   "metadata": {},
   "outputs": [
    {
     "data": {
      "text/plain": [
       "[(3.5291, 0.1498, 0.2911),\n",
       " (2.752, -0.9304, 0.6543),\n",
       " (1.3866, -0.9348, 0.4238),\n",
       " (0.7977, 0.1598, -0.1788),\n",
       " (-0.6492, 0.1758, -0.4363),\n",
       " (-1.159, 1.1824, -0.979),\n",
       " (-1.5111, -0.9655, -0.0709),\n",
       " (-2.8731, -0.6811, -0.4321),\n",
       " (-3.4636, 0.3714, 0.3598),\n",
       " (1.5829, 1.2328, -0.5372),\n",
       " (2.9427, 1.2552, -0.3158),\n",
       " (4.589, 0.0881, 0.4994),\n",
       " (3.196, -1.8143, 1.1359),\n",
       " (0.7444, -1.7585, 0.6924),\n",
       " (-1.1934, -1.8247, -0.7339),\n",
       " (-1.4173, -1.2787, 0.9786),\n",
       " (-2.951, -0.5103, -1.457),\n",
       " (-2.804, 0.8004, 1.1135),\n",
       " (-3.8451, 1.1851, -0.2935),\n",
       " (-4.336, -0.0946, 0.8937),\n",
       " (1.1195, 2.0844, -1.0067),\n",
       " (3.5627, 2.1078, -0.6015)]"
      ]
     },
     "execution_count": 3,
     "metadata": {},
     "output_type": "execute_result"
    }
   ],
   "source": [
    "coord[1]"
   ]
  },
  {
   "cell_type": "code",
   "execution_count": null,
   "id": "3099feb5",
   "metadata": {},
   "outputs": [],
   "source": []
  }
 ],
 "metadata": {
  "kernelspec": {
   "display_name": "Python 3 (ipykernel)",
   "language": "python",
   "name": "python3"
  },
  "language_info": {
   "codemirror_mode": {
    "name": "ipython",
    "version": 3
   },
   "file_extension": ".py",
   "mimetype": "text/x-python",
   "name": "python",
   "nbconvert_exporter": "python",
   "pygments_lexer": "ipython3",
   "version": "3.7.10"
  }
 },
 "nbformat": 4,
 "nbformat_minor": 5
}
