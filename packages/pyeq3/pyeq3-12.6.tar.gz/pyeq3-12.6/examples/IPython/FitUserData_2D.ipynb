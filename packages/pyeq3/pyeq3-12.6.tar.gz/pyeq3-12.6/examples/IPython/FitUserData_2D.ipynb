{
    "cells": [
        {
            "cell_type": "code",
            "execution_count": null,
            "metadata": {},
            "outputs": [],
            "source": [
                "import pyeq3"
            ]
        },
        {
            "cell_type": "code",
            "execution_count": null,
            "metadata": {},
            "outputs": [],
            "source": [
                "data = '''\n",
                "  X        Y\n",
                "5.357    10.376\n",
                "5.457    10.489\n",
                "5.797    10.874\n",
                "5.936    11.049\n",
                "6.161    11.327\n",
                "6.697    12.054\n",
                "6.731    12.077\n",
                "6.775    12.138\n",
                "8.442    14.744\n",
                "9.769    17.068\n",
                "9.861    17.104\n",
                "'''"
            ]
        },
        {
            "cell_type": "code",
            "execution_count": null,
            "metadata": {},
            "outputs": [],
            "source": [
                "# see IModel.fittingTargetDictionary\n",
                "equation = pyeq3.Models_2D.Polynomial.Cubic('SSQABS')"
            ]
        },
        {
            "cell_type": "code",
            "execution_count": null,
            "metadata": {},
            "outputs": [],
            "source": [
                " # check for functions requiring non-zero nor non-negative data such as 1/x, etc.\n",
                "try:\n",
                "    pyeq3.dataConvertorService().ConvertAndSortColumnarASCII(data, equation, False)\n",
                "except:\n",
                "    raise Exception(equation.reasonWhyDataRejected)"
            ]
        },
        {
            "cell_type": "code",
            "execution_count": null,
            "metadata": {},
            "outputs": [],
            "source": [
                "equation.Solve()"
            ]
        },
        {
            "cell_type": "code",
            "execution_count": null,
            "metadata": {},
            "outputs": [],
            "source": [
                "print(equation.GetDisplayName(), str(equation.GetDimensionality()) + \"D\")\n",
                "print(equation.fittingTargetDictionary[equation.fittingTarget], '=', equation.CalculateAllDataFittingTarget(equation.solvedCoefficients))\n",
                "print(\"Fitted Parameters:\")\n",
                "for i in range(len(equation.solvedCoefficients)):\n",
                "    print(\"    %s = %-.16E\" % (equation.GetCoefficientDesignators()[i], equation.solvedCoefficients[i]))\n"
            ]
        },
        {
            "cell_type": "code",
            "execution_count": null,
            "metadata": {},
            "outputs": [],
            "source": [
                "equation.CalculateModelErrors(equation.solvedCoefficients, equation.dataCache.allDataCacheDictionary)\n",
                "print('Predicted Values And Errors')\n",
                "for i in range(len(equation.dataCache.allDataCacheDictionary['DependentData'])):\n",
                "    print('X:', equation.dataCache.allDataCacheDictionary['IndependentData'][0][i],)\n",
                "    print('Y:', equation.dataCache.allDataCacheDictionary['DependentData'][i],)\n",
                "    print('Model:', equation.modelPredictions[i],)\n",
                "    print('Abs. Error:', equation.modelAbsoluteError[i],)\n",
                "    if not equation.dataCache.DependentDataContainsZeroFlag:\n",
                "        print('Rel. Error:', equation.modelRelativeError[i],)\n",
                "        print('Percent Error:', equation.modelPercentError[i])\n",
                "    else:\n",
                "        print()\n",
                "print()\n"
            ]
        },
        {
            "cell_type": "code",
            "execution_count": null,
            "metadata": {},
            "outputs": [],
            "source": [
                "print('Coefficient and Fit Statistics')\n",
                "equation.CalculateCoefficientAndFitStatistics()\n",
                "if equation.upperCoefficientBounds or equation.lowerCoefficientBounds:\n",
                "    print('You entered coefficient bounds. Parameter statistics may')\n",
                "    print('not be valid for parameter values at or near the bounds.')\n",
                "    print()\n",
                "\n",
                "print('Degress of freedom error',  equation.df_e)\n",
                "print('Degress of freedom regression',  equation.df_r)\n",
                "\n",
                "if equation.rmse is None:\n",
                "    print('Root Mean Squared Error (RMSE): n/a')\n",
                "else:\n",
                "    print('Root Mean Squared Error (RMSE):',  equation.rmse)\n",
                "\n",
                "if equation.r2 is None:\n",
                "    print('R-squared: n/a')\n",
                "else:\n",
                "    print('R-squared:',  equation.r2)\n",
                "\n",
                "if equation.r2adj is None:\n",
                "    print('R-squared adjusted: n/a')\n",
                "else:\n",
                "    print('R-squared adjusted:',  equation.r2adj)\n",
                "\n",
                "if equation.Fstat is None:\n",
                "    print('Model F-statistic: n/a')\n",
                "else:\n",
                "    print('Model F-statistic:',  equation.Fstat)\n",
                "\n",
                "if equation.Fpv is None:\n",
                "    print('Model F-statistic p-value: n/a')\n",
                "else:\n",
                "    print('Model F-statistic p-value:',  equation.Fpv)\n",
                "\n",
                "if equation.ll is None:\n",
                "    print('Model log-likelihood: n/a')\n",
                "else:\n",
                "    print('Model log-likelihood:',  equation.ll)\n",
                "\n",
                "if equation.aic is None:\n",
                "    print('Model AIC: n/a')\n",
                "else:\n",
                "    print('Model AIC:',  equation.aic)\n",
                "\n",
                "if equation.bic is None:\n",
                "    print('Model BIC: n/a')\n",
                "else:\n",
                "    print('Model BIC:',  equation.bic)\n",
                "\n",
                "\n",
                "print()\n",
                "print(\"Individual Parameter Statistics:\")\n",
                "for i in range(len(equation.solvedCoefficients)):\n",
                "    if equation.tstat_beta is None:\n",
                "        tstat = 'n/a'\n",
                "    else:\n",
                "        tstat = '%-.5E' %  ( equation.tstat_beta[i])\n",
                "\n",
                "    if equation.pstat_beta is None:\n",
                "        pstat = 'n/a'\n",
                "    else:\n",
                "        pstat = '%-.5E' %  ( equation.pstat_beta[i])\n",
                "\n",
                "    if equation.sd_beta is not None:\n",
                "        print(\"Coefficient %s = %-.16E, std error: %-.5E\" % (equation.GetCoefficientDesignators()[i], equation.solvedCoefficients[i], equation.sd_beta[i]))\n",
                "    else:\n",
                "        print(\"Coefficient %s = %-.16E, std error: n/a\" % (equation.GetCoefficientDesignators()[i], equation.solvedCoefficients[i]))\n",
                "    print(\"          t-stat: %s, p-stat: %s, 95 percent confidence intervals: [%-.5E, %-.5E]\" % (tstat,  pstat, equation.ci[i][0], equation.ci[i][1]))\n",
                "\n",
                "\n",
                "print()\n",
                "print(\"Coefficient Covariance Matrix:\")\n",
                "for i in  equation.cov_beta:\n",
                "    print(i)\n"
            ]
        },
        {
            "cell_type": "code",
            "execution_count": null,
            "metadata": {},
            "outputs": [],
            "source": [
                "print(pyeq3.outputSourceCodeService().GetOutputSourceCodeCPP(equation))\n",
                "print(pyeq3.outputSourceCodeService().GetOutputSourceCodeCSHARP(equation))\n",
                "print(pyeq3.outputSourceCodeService().GetOutputSourceCodeVBA(equation))\n",
                "print(pyeq3.outputSourceCodeService().GetOutputSourceCodePYTHON(equation))\n",
                "print(pyeq3.outputSourceCodeService().GetOutputSourceCodeJAVA(equation))\n",
                "print(pyeq3.outputSourceCodeService().GetOutputSourceCodeJAVASCRIPT(equation))\n",
                "print(pyeq3.outputSourceCodeService().GetOutputSourceCodeSCILAB(equation))\n",
                "print(pyeq3.outputSourceCodeService().GetOutputSourceCodeMATLAB(equation))\n",
                "print(pyeq3.outputSourceCodeService().GetOutputSourceCodeJULIA(equation))\n",
                "print(pyeq3.outputSourceCodeService().GetOutputSourceCodeFORTRAN90(equation))"
            ]
        },
        {
            "cell_type": "code",
            "execution_count": null,
            "metadata": {},
            "outputs": [],
            "source": []
        }
    ],
    "metadata": {
        "kernelspec": {
            "display_name": "Python 3",
            "language": "python",
            "name": "python3"
        },
        "language_info": {
            "codemirror_mode": {
                "name": "ipython",
                "version": 3
            },
            "file_extension": ".py",
            "mimetype": "text/x-python",
            "name": "python",
            "nbconvert_exporter": "python",
            "pygments_lexer": "ipython3",
            "version": "3.6.7"
        }
    },
    "nbformat": 4,
    "nbformat_minor": 1
}