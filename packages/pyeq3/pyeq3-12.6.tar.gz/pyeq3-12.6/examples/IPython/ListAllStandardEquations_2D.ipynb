{
    "cells": [
        {
            "cell_type": "code",
            "execution_count": null,
            "metadata": {},
            "outputs": [],
            "source": [
                "import pyeq3\n",
                "import inspect"
            ]
        },
        {
            "cell_type": "code",
            "execution_count": null,
            "metadata": {},
            "outputs": [],
            "source": []
        },
        {
            "cell_type": "code",
            "execution_count": null,
            "metadata": {},
            "outputs": [],
            "source": [
                "htmlToReturn = '' # build this as we progress\n",
                "\n",
                "htmlToReturn += '<table border=1>'\n",
                "\n",
                "for submodule in inspect.getmembers(pyeq3.Models_2D): # 2D equations in this example\n",
                "    if inspect.ismodule(submodule[1]):\n",
                "        for equationClass in inspect.getmembers(submodule[1]):\n",
                "            if inspect.isclass(equationClass[1]):\n",
                "                for extendedVersionName in ['Default', 'Offset']:\n",
                "                    if (-1 != extendedVersionName.find('Offset')) and (equationClass[1].autoGenerateOffsetForm is False):\n",
                "                        continue\n",
                "\n",
                "                    equation = equationClass[1]('SSQABS', extendedVersionName)\n",
                "                    htmlToReturn += '<tr>'\n",
                "                    htmlToReturn += '<td nowrap>2D ' + submodule[0] + '</td>'\n",
                "                    htmlToReturn += '<td nowrap>' + equation.GetDisplayName() + '</td>'\n",
                "                    htmlToReturn += '<td nowrap>' + equation.GetDisplayHTML() + '</td>'\n",
                "                    htmlToReturn += '</tr>'\n",
                "\n",
                "htmlToReturn += '</table>'\n",
                "\n",
                "from IPython.core.display import HTML\n",
                "HTML(htmlToReturn)\n",
                "\n"
            ]
        },
        {
            "cell_type": "code",
            "execution_count": null,
            "metadata": {},
            "outputs": [],
            "source": []
        }
    ],
    "metadata": {
        "kernelspec": {
            "display_name": "Python 3",
            "language": "python",
            "name": "python3"
        },
        "language_info": {
            "codemirror_mode": {
                "name": "ipython",
                "version": 3
            },
            "file_extension": ".py",
            "mimetype": "text/x-python",
            "name": "python",
            "nbconvert_exporter": "python",
            "pygments_lexer": "ipython3",
            "version": "3.6.7"
        }
    },
    "nbformat": 4,
    "nbformat_minor": 1
}