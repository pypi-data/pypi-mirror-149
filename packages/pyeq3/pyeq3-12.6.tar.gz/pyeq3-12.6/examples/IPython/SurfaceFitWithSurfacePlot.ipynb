{
 "cells": [
  {
   "cell_type": "code",
   "execution_count": null,
   "metadata": {},
   "outputs": [],
   "source": [
    "import pyeq3"
   ]
  },
  {
   "cell_type": "code",
   "execution_count": null,
   "metadata": {},
   "outputs": [],
   "source": [
    "data = '''\n",
    "    X      Y       Z\n",
    "  3.017  2.175   0.320\n",
    "  2.822  2.624   0.629\n",
    "  2.632  2.839   0.950\n",
    "  2.287  3.030   1.574\n",
    "  2.207  3.057   1.725\n",
    "  2.048  3.098   2.035\n",
    "  1.963  3.115   2.204\n",
    "  1.784  3.144   2.570\n",
    "  1.712  3.153   2.721\n",
    "  2.972  2.106   0.313\n",
    "  2.719  2.542   0.643\n",
    "  2.495  2.721   0.956\n",
    "  2.070  2.878   1.597\n",
    "  1.969  2.899   1.758\n",
    "  1.768  2.929   2.088\n",
    "  1.677  2.939   2.240\n",
    "  1.479  2.957   2.583\n",
    "  1.387  2.963   2.744\n",
    "  2.843  1.984   0.315\n",
    "  2.485  2.320   0.639\n",
    "  2.163  2.444   0.954\n",
    "  1.687  2.525   1.459\n",
    "  1.408  2.547   1.775\n",
    "  1.279  2.554   1.927\n",
    "  1.016  2.564   2.243\n",
    "  0.742  2.568   2.581\n",
    "  0.607  2.571   2.753\n",
    "'''"
   ]
  },
  {
   "cell_type": "code",
   "execution_count": null,
   "metadata": {},
   "outputs": [],
   "source": [
    "# see IModel.fittingTargetDictionary\n",
    "equation = pyeq3.Models_3D.Polynomial.SimplifiedQuadratic('SSQABS')"
   ]
  },
  {
   "cell_type": "code",
   "execution_count": null,
   "metadata": {},
   "outputs": [],
   "source": [
    " # check for functions requiring non-zero nor non-negative data such as 1/x, etc.\n",
    "try:\n",
    "    pyeq3.dataConvertorService().ConvertAndSortColumnarASCII(data, equation, False)\n",
    "except:\n",
    "    raise Exception(equation.reasonWhyDataRejected)"
   ]
  },
  {
   "cell_type": "code",
   "execution_count": null,
   "metadata": {},
   "outputs": [],
   "source": [
    "equation.Solve()\n",
    "equation.CalculateModelErrors(equation.solvedCoefficients, equation.dataCache.allDataCacheDictionary)\n",
    "equation.CalculateCoefficientAndFitStatistics()"
   ]
  },
  {
   "cell_type": "code",
   "execution_count": null,
   "metadata": {},
   "outputs": [],
   "source": []
  },
  {
   "cell_type": "code",
   "execution_count": null,
   "metadata": {},
   "outputs": [],
   "source": [
    "%matplotlib inline\n",
    "import matplotlib\n",
    "import matplotlib.pyplot as plt\n",
    "from mpl_toolkits.mplot3d import Axes3D # 3D apecific\n",
    "from matplotlib import cm # to colormap from blue to red\n",
    "import numpy, scipy\n",
    "\n",
    "# raw data for scatterplot and data limits\n",
    "x_data = equation.dataCache.allDataCacheDictionary['IndependentData'][0]\n",
    "y_data = equation.dataCache.allDataCacheDictionary['IndependentData'][1]\n",
    "z_data = equation.dataCache.allDataCacheDictionary['DependentData']\n",
    "\n",
    "# now create data for the fitted equation plot\n",
    "xModel = numpy.linspace(min(x_data), max(x_data), 20)\n",
    "yModel = numpy.linspace(min(y_data), max(y_data), 20)\n",
    "X, Y = numpy.meshgrid(xModel, yModel)\n",
    "\n",
    "tempcache = equation.dataCache\n",
    "equation.dataCache = pyeq3.dataCache()\n",
    "equation.dataCache.allDataCacheDictionary['IndependentData'] = numpy.array([X, Y])\n",
    "equation.dataCache.FindOrCreateAllDataCache(equation)\n",
    "Z = equation.CalculateModelPredictions(equation.solvedCoefficients, equation.dataCache.allDataCacheDictionary)\n",
    "equation.dataCache = tempcache\n",
    "\n",
    "fig = plt.figure()\n",
    "ax = fig.gca(projection='3d')\n",
    "\n",
    "ax.plot_surface(X, Y, Z, rstride=1, cstride=1, cmap=cm.coolwarm,\n",
    "        linewidth=1, antialiased=True)\n",
    "\n",
    "ax.scatter(x_data, y_data, z_data)\n",
    "\n",
    "ax.set_title('Example Surface Plot') # add a title for surface plot\n",
    "ax.set_xlabel('X Data') # X axis data label\n",
    "ax.set_ylabel('Y Data') # Y axis data label\n",
    "ax.set_zlabel('Z Data') # Z axis data label\n",
    "\n",
    "plt.tight_layout() # prevents cropping axis labels"
   ]
  },
  {
   "cell_type": "code",
   "execution_count": null,
   "metadata": {},
   "outputs": [],
   "source": []
  }
 ],
 "metadata": {
  "kernelspec": {
   "display_name": "Python 3",
   "language": "python",
   "name": "python3"
  },
  "language_info": {
   "codemirror_mode": {
    "name": "ipython",
    "version": 3
   },
   "file_extension": ".py",
   "mimetype": "text/x-python",
   "name": "python",
   "nbconvert_exporter": "python",
   "pygments_lexer": "ipython3",
   "version": "3.6.7"
  }
 },
 "nbformat": 4,
 "nbformat_minor": 1
}
