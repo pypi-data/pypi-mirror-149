{
 "cells": [
  {
   "cell_type": "markdown",
   "metadata": {},
   "source": [
    "# 0. 기본 설정 (필수실행, 수정 금지)"
   ]
  },
  {
   "cell_type": "code",
   "execution_count": null,
   "metadata": {},
   "outputs": [],
   "source": [
    "import os\n",
    "import time\n",
    "import warnings\n",
    "warnings.filterwarnings('ignore')\n",
    "\n",
    "import pandas as pd\n",
    "import ujson as json\n",
    "\n",
    "from blog_hospital_cralwer import HospitalCrawler\n",
    "# from app_gnun_crawl_rvws import AppGnUnCrawler\n",
    "# from cafe_get_each_info import GetEachCafeInfo"
   ]
  },
  {
   "cell_type": "markdown",
   "metadata": {},
   "source": [
    "---"
   ]
  },
  {
   "cell_type": "markdown",
   "metadata": {},
   "source": [
    "# 1. 블로그"
   ]
  },
  {
   "cell_type": "markdown",
   "metadata": {},
   "source": [
    "## 파라미터 설정(수정가능구역)"
   ]
  },
  {
   "cell_type": "code",
   "execution_count": 3,
   "metadata": {},
   "outputs": [],
   "source": [
    "keyword_list = ['\"강남아이원스안과\"']\n",
    "\n",
    "start_date = 20220401\n",
    "how_many_months = 2\n",
    "\n",
    "count_word_list = ['실비']"
   ]
  },
  {
   "cell_type": "markdown",
   "metadata": {},
   "source": [
    "## URL 스크래핑"
   ]
  },
  {
   "cell_type": "code",
   "execution_count": 4,
   "metadata": {},
   "outputs": [],
   "source": [
    "hc = HospitalCrawler(start_date)"
   ]
  },
  {
   "cell_type": "code",
   "execution_count": 6,
   "metadata": {},
   "outputs": [
    {
     "name": "stdout",
     "output_type": "stream",
     "text": [
      "\"강남아이원스안과\" start\n",
      "From 20220301 to 20220401\n",
      "From 20220201 to 20220301\n",
      "\"강남아이원스안과\" end\n",
      "elapsed = 22.61573624610901\n"
     ]
    }
   ],
   "source": [
    "start = time.time()\n",
    "for keyword in keyword_list:\n",
    "    hc.crawl_blog_urls(keyword, how_many_months, 133) # 133 is heuristic number.\n",
    "end = time.time() - start\n",
    "\n",
    "print(f'elapsed = {end}')"
   ]
  },
  {
   "cell_type": "markdown",
   "metadata": {},
   "source": [
    "## URL 중복제거"
   ]
  },
  {
   "cell_type": "code",
   "execution_count": 7,
   "metadata": {},
   "outputs": [
    {
     "name": "stdout",
     "output_type": "stream",
     "text": [
      "elapsed = 5.4979164600372314\n"
     ]
    }
   ],
   "source": [
    "start = time.time()\n",
    "hc.deduplicate_url()\n",
    "end = time.time() - start\n",
    "\n",
    "print(f'elapsed = {end}')"
   ]
  },
  {
   "cell_type": "markdown",
   "metadata": {},
   "source": [
    "## 수집된 URL 기반으로 본문 스크래핑"
   ]
  },
  {
   "cell_type": "code",
   "execution_count": 8,
   "metadata": {},
   "outputs": [
    {
     "name": "stdout",
     "output_type": "stream",
     "text": [
      "강남아이원스안과 start\n",
      "process 강남아이원스안과 from 0 to 500\n",
      "강남아이원스안과 end\n",
      "elapsed = 1.588918685913086\n"
     ]
    }
   ],
   "source": [
    "keyword_dir_list = [x.replace('\"', '') for x in keyword_list]\n",
    "\n",
    "start = time.time()\n",
    "for keyword_dir in keyword_dir_list:\n",
    "    hc.crawl_blog_contents(keyword_dir)\n",
    "end = time.time() - start\n",
    "\n",
    "print(f'elapsed = {end}')"
   ]
  },
  {
   "cell_type": "markdown",
   "metadata": {},
   "source": [
    "## 읽을 수 있도록 인코딩 변환 & 단어 카운트 후 저장"
   ]
  },
  {
   "cell_type": "code",
   "execution_count": 9,
   "metadata": {},
   "outputs": [
    {
     "name": "stdout",
     "output_type": "stream",
     "text": [
      "elapsed = 0.8792011737823486\n"
     ]
    }
   ],
   "source": [
    "start = time.time()\n",
    "\n",
    "for keyword_dir in keyword_dir_list:\n",
    "    contents_dir = f'data/blog/{keyword_dir}/contents'\n",
    "    file_paths = [f'{contents_dir}/{x}' for x in os.listdir(contents_dir) if 'ipynb' not in x and 'rdbl' not in x]\n",
    "    \n",
    "    for path in file_paths:\n",
    "        blog_contents = pd.read_csv(path, delimiter='|DELIMITER|')\n",
    "        \n",
    "        blog_contents_cols = blog_contents.columns[0].split('|DELIMITER|')\n",
    "        blog_contents_2 = blog_contents[blog_contents.squeeze().map(lambda x: len(x)<50000)]\n",
    "        blog_contents_series = blog_contents_2.squeeze().map(lambda x: x.split('|DELIMITER|'))\n",
    "        \n",
    "        rslt = pd.DataFrame.from_dict(dict(zip(blog_contents_series.index, blog_contents_series.values))).T\n",
    "        rslt.columns = blog_contents_cols\n",
    "        \n",
    "        if len(count_word_list)!=0:\n",
    "            for count_word in count_word_list:\n",
    "                rslt[count_word] = rslt['content'].map(lambda x: x.count(count_word))\n",
    "        \n",
    "        rslt.to_csv(f\"{path.split('.csv')[0]}\" + \"_rdbl.csv\", encoding='utf-8-sig')\n",
    "        \n",
    "end = time.time() - start\n",
    "\n",
    "print(f'elapsed = {end}')    "
   ]
  },
  {
   "cell_type": "markdown",
   "metadata": {},
   "source": [
    "- 이후 `crawling/data/blog/검색키워드/contents/blog_contents_검색키워드_~~~_rdbl.csv` 다운로드"
   ]
  }
 ],
 "metadata": {
  "instance_type": "ml.t3.medium",
  "kernelspec": {
   "display_name": "python3 (sagemaker-bda/2)",
   "language": "python",
   "name": "python3__SAGEMAKER_INTERNAL__arn:aws:sagemaker:ap-northeast-2:596564582792:image-version/sagemaker-bda/2"
  },
  "language_info": {
   "codemirror_mode": {
    "name": "ipython",
    "version": 3
   },
   "file_extension": ".py",
   "mimetype": "text/x-python",
   "name": "python",
   "nbconvert_exporter": "python",
   "pygments_lexer": "ipython3",
   "version": "3.6.9"
  }
 },
 "nbformat": 4,
 "nbformat_minor": 4
}
