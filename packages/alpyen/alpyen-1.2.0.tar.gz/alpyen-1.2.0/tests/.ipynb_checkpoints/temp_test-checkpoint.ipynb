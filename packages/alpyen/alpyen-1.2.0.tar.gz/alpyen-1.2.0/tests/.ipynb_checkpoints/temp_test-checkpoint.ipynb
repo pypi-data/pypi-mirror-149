{
 "cells": [
  {
   "cell_type": "markdown",
   "metadata": {},
   "source": [
    "# Live Trading"
   ]
  },
  {
   "cell_type": "code",
   "execution_count": null,
   "metadata": {},
   "outputs": [],
   "source": [
    "import alPyne.brokerinterface\n",
    "import alPyne.livetrading"
   ]
  },
  {
   "cell_type": "code",
   "execution_count": 14,
   "metadata": {},
   "outputs": [],
   "source": [
    "ib_api = alPyne.brokerinterface.IBBrokerAPI()"
   ]
  },
  {
   "cell_type": "code",
   "execution_count": 15,
   "metadata": {},
   "outputs": [
    {
     "name": "stderr",
     "output_type": "stream",
     "text": [
      "[WinError 10054] An existing connection was forcibly closed by the remote host\n"
     ]
    }
   ],
   "source": [
    "event_context = alPyne.livetrading.EventContext(ib_api, ib_api)"
   ]
  },
  {
   "cell_type": "code",
   "execution_count": 5,
   "metadata": {},
   "outputs": [
    {
     "data": {
      "text/plain": [
       "<IB connected to 127.0.0.1:4002 clientId=1>"
      ]
     },
     "execution_count": 5,
     "metadata": {},
     "output_type": "execute_result"
    },
    {
     "name": "stderr",
     "output_type": "stream",
     "text": [
      "Error 1100, reqId -1: Connectivity between IB and Trader Workstation has been lost.\n",
      "Error 1100, reqId -1: Connectivity between IB and Trader Workstation has been lost.\n",
      "Error 1100, reqId -1: Connectivity between IB and Trader Workstation has been lost.\n",
      "Error 1100, reqId -1: Connectivity between IB and Trader Workstation has been lost.\n",
      "Error 1100, reqId -1: Connectivity between IB and Trader Workstation has been lost.\n",
      "Error 1100, reqId -1: Connectivity between IB and Trader Workstation has been lost.\n",
      "Error 1100, reqId -1: Connectivity between IB and Trader Workstation has been lost.\n",
      "Error 1100, reqId -1: Connectivity between IB and Trader Workstation has been lost.\n",
      "Error 1100, reqId -1: Connectivity between IB and Trader Workstation has been lost.\n",
      "Error 1100, reqId -1: Connectivity between IB and Trader Workstation has been lost.\n",
      "Error 1100, reqId -1: Connectivity between IB and Trader Workstation has been lost.\n",
      "Error 1100, reqId -1: Connectivity between IB and Trader Workstation has been lost.\n",
      "Error 1100, reqId -1: Connectivity between IB and Trader Workstation has been lost.\n",
      "Error 1100, reqId -1: Connectivity between IB and Trader Workstation has been lost.\n",
      "Error 1100, reqId -1: Connectivity between IB and Trader Workstation has been lost.\n",
      "Error 1100, reqId -1: Connectivity between IB and Trader Workstation has been lost.\n",
      "Error 1100, reqId -1: Connectivity between IB and Trader Workstation has been lost.\n",
      "Error 1100, reqId -1: Connectivity between IB and Trader Workstation has been lost.\n",
      "Error 1100, reqId -1: Connectivity between IB and Trader Workstation has been lost.\n",
      "Error 1100, reqId -1: Connectivity between IB and Trader Workstation has been lost.\n",
      "Error 1100, reqId -1: Connectivity between IB and Trader Workstation has been lost.\n",
      "Error 1100, reqId -1: Connectivity between IB and Trader Workstation has been lost.\n",
      "Error 1100, reqId -1: Connectivity between IB and Trader Workstation has been lost.\n",
      "Error 1100, reqId -1: Connectivity between IB and Trader Workstation has been lost.\n",
      "Error 1100, reqId -1: Connectivity between IB and Trader Workstation has been lost.\n",
      "Error 1100, reqId -1: Connectivity between IB and Trader Workstation has been lost.\n",
      "Error 1100, reqId -1: Connectivity between IB and Trader Workstation has been lost.\n",
      "Error 1100, reqId -1: Connectivity between IB and Trader Workstation has been lost.\n",
      "Error 1100, reqId -1: Connectivity between IB and Trader Workstation has been lost.\n",
      "Error 1100, reqId -1: Connectivity between IB and Trader Workstation has been lost.\n",
      "Error 1100, reqId -1: Connectivity between IB and Trader Workstation has been lost.\n",
      "Error 1100, reqId -1: Connectivity between IB and Trader Workstation has been lost.\n",
      "Error 1100, reqId -1: Connectivity between IB and Trader Workstation has been lost.\n",
      "Error 1100, reqId -1: Connectivity between IB and Trader Workstation has been lost.\n",
      "Error 1100, reqId -1: Connectivity between IB and Trader Workstation has been lost.\n",
      "Error 1100, reqId -1: Connectivity between IB and Trader Workstation has been lost.\n",
      "Error 1100, reqId -1: Connectivity between IB and Trader Workstation has been lost.\n",
      "Error 1100, reqId -1: Connectivity between IB and Trader Workstation has been lost.\n",
      "Error 1100, reqId -1: Connectivity between IB and Trader Workstation has been lost.\n",
      "Error 1100, reqId -1: Connectivity between IB and Trader Workstation has been lost.\n"
     ]
    }
   ],
   "source": [
    "event_context.get_broker().connect(port=4002)"
   ]
  },
  {
   "cell_type": "code",
   "execution_count": null,
   "metadata": {},
   "outputs": [],
   "source": [
    "# # Subscription\n",
    "# my_contract = ibi.Forex('EURUSD')   \n",
    "# live_bars = ib.reqRealTimeBars(my_contract, 5, 'MIDPOINT', False)\n",
    "\n",
    "# # Create signals\n",
    "# input_data_name = 'EURUSD'\n",
    "# my_ma_signal_short = MASignal([input_data_name], 2, 'EURUSD_MA_2')\n",
    "# my_ma_signal_long = MASignal([input_data_name], 3, 'EURUSD_MA_3')\n",
    "# my_eurusd_data = DataSlot(input_data_name, [my_ma_signal_short, my_ma_signal_long])\n",
    "# my_ber = BrokerEventRelay(my_eurusd_data, input_data_name)\n",
    "\n",
    "# # Create strategy\n",
    "# my_tc = TradeCombos([input_data_name])\n",
    "# my_om = OrderManager(ib)\n",
    "# my_macrossing_strategy = MACrossingStrategy('EURUSD_MAXing', ['EURUSD_MA_2', 'EURUSD_MA_3'], my_tc, 1, order_manager = my_om)\n",
    "# my_ma_short_data = SignalSlot('EURUSD_MA_2', [my_macrossing_strategy])\n",
    "# my_ma_long_data = SignalSlot('EURUSD_MA_3', [my_macrossing_strategy])\n",
    "# my_eurusd_data.get_signal_events()['EURUSD_MA_2'] += my_ma_short_data.on_event\n",
    "# my_eurusd_data.get_signal_events()['EURUSD_MA_3'] += my_ma_long_data.on_event\n",
    "# my_mtm_data = MTMPriceSlot('EURUSD_close', [my_macrossing_strategy])\n",
    "# my_ber2 = BrokerEventRelay(my_mtm_data, input_data_name)\n",
    "\n",
    "# live_bars.updateEvent += my_ber.ib_live_bar\n",
    "# live_bars.updateEvent += my_ber2.ib_live_bar\n",
    "\n",
    "# # Ending\n",
    "# ib.sleep(40)\n",
    "# ib.cancelRealTimeBars(live_bars)"
   ]
  },
  {
   "cell_type": "markdown",
   "metadata": {},
   "source": [
    "# Backtesting"
   ]
  },
  {
   "cell_type": "code",
   "execution_count": 2,
   "metadata": {},
   "outputs": [],
   "source": [
    "import alPyne.backtesting\n",
    "import alPyne.datacontainer"
   ]
  },
  {
   "cell_type": "code",
   "execution_count": 2,
   "metadata": {},
   "outputs": [],
   "source": [
    "import pandas as pd\n",
    "data_folder_path = 'D:\\\\Git\\\\alPyne\\\\tests\\\\Data\\\\'\n",
    "data_file_extension = '.csv'\n",
    "ticker_names = [\"VOO\", \"VWO\", \"VEA\", \"BND\", \"SHY\", \"IEF\", \"LQD\"]\n"
   ]
  },
  {
   "cell_type": "code",
   "execution_count": 4,
   "metadata": {},
   "outputs": [
    {
     "name": "stdout",
     "output_type": "stream",
     "text": [
      "        Date        Open        High         Low       Close  Adj Close  \\\n",
      "0   9/9/2010  102.500000  102.500000  101.139999  101.320000  83.143929   \n",
      "1  9/10/2010  101.680000  101.860001  101.300003  101.779999  83.521400   \n",
      "2  9/13/2010  102.959999  103.139999  102.500000  103.059998  84.571770   \n",
      "3  9/14/2010  102.839996  103.480003  102.379997  103.040001  84.555374   \n",
      "4  9/15/2010  102.620003  103.379997  102.400002  103.300003  84.768715   \n",
      "\n",
      "   Volume  \n",
      "0   26500  \n",
      "1    8600  \n",
      "2   33700  \n",
      "3   59400  \n",
      "4    9200  \n"
     ]
    },
    {
     "ename": "TypeError",
     "evalue": "__init__() missing 3 required positional arguments: 'name', 'timestamp', and 'price'",
     "output_type": "error",
     "traceback": [
      "\u001b[1;31m---------------------------------------------------------------------------\u001b[0m",
      "\u001b[1;31mTypeError\u001b[0m                                 Traceback (most recent call last)",
      "\u001b[1;32m<ipython-input-4-245b180d581b>\u001b[0m in \u001b[0;36m<module>\u001b[1;34m\u001b[0m\n\u001b[1;32m----> 1\u001b[1;33m \u001b[0mpts\u001b[0m \u001b[1;33m=\u001b[0m \u001b[0malPyne\u001b[0m\u001b[1;33m.\u001b[0m\u001b[0mdatacontainer\u001b[0m\u001b[1;33m.\u001b[0m\u001b[0mDataUtils\u001b[0m\u001b[1;33m.\u001b[0m\u001b[0mread_yahoo_data\u001b[0m\u001b[1;33m(\u001b[0m\u001b[1;34m'VOO'\u001b[0m\u001b[1;33m,\u001b[0m \u001b[1;34m'D:\\\\Git\\\\alPyne\\\\tests\\\\Data\\\\'\u001b[0m\u001b[1;33m,\u001b[0m \u001b[1;34m'.csv'\u001b[0m\u001b[1;33m)\u001b[0m\u001b[1;33m\u001b[0m\u001b[1;33m\u001b[0m\u001b[0m\n\u001b[0m",
      "\u001b[1;32md:\\git\\alpyne\\alPyne\\datacontainer.py\u001b[0m in \u001b[0;36mread_yahoo_data\u001b[1;34m(ticker, path, file_extension)\u001b[0m\n\u001b[0;32m    126\u001b[0m         \u001b[0mdf\u001b[0m \u001b[1;33m=\u001b[0m \u001b[0mpd\u001b[0m\u001b[1;33m.\u001b[0m\u001b[0mread_csv\u001b[0m\u001b[1;33m(\u001b[0m\u001b[0mpath\u001b[0m \u001b[1;33m+\u001b[0m \u001b[0mticker\u001b[0m \u001b[1;33m+\u001b[0m \u001b[0mfile_extension\u001b[0m\u001b[1;33m)\u001b[0m\u001b[1;33m\u001b[0m\u001b[1;33m\u001b[0m\u001b[0m\n\u001b[0;32m    127\u001b[0m         \u001b[0myahoo_date_format\u001b[0m \u001b[1;33m=\u001b[0m \u001b[1;34m'%m/%d/%Y'\u001b[0m\u001b[1;33m\u001b[0m\u001b[1;33m\u001b[0m\u001b[0m\n\u001b[1;32m--> 128\u001b[1;33m         \u001b[0mdatetime_list\u001b[0m \u001b[1;33m=\u001b[0m \u001b[1;33m[\u001b[0m\u001b[0mdatetime\u001b[0m\u001b[1;33m.\u001b[0m\u001b[0mdatetime\u001b[0m\u001b[1;33m.\u001b[0m\u001b[0mstrptime\u001b[0m\u001b[1;33m(\u001b[0m\u001b[0mx\u001b[0m\u001b[1;33m,\u001b[0m \u001b[0myahoo_date_format\u001b[0m\u001b[1;33m)\u001b[0m \u001b[1;32mfor\u001b[0m \u001b[0mx\u001b[0m \u001b[1;32min\u001b[0m \u001b[0mdf\u001b[0m\u001b[1;33m[\u001b[0m\u001b[1;34m'Date'\u001b[0m\u001b[1;33m]\u001b[0m\u001b[1;33m.\u001b[0m\u001b[0mtolist\u001b[0m\u001b[1;33m(\u001b[0m\u001b[1;33m)\u001b[0m\u001b[1;33m]\u001b[0m\u001b[1;33m\u001b[0m\u001b[1;33m\u001b[0m\u001b[0m\n\u001b[0m\u001b[0;32m    129\u001b[0m         \u001b[1;32mreturn\u001b[0m \u001b[0mPriceTimeSeries\u001b[0m\u001b[1;33m(\u001b[0m\u001b[0mticker\u001b[0m\u001b[1;33m,\u001b[0m \u001b[0mdatetime_list\u001b[0m\u001b[1;33m,\u001b[0m \u001b[0mdf\u001b[0m\u001b[1;33m[\u001b[0m\u001b[1;34m'Adj Close'\u001b[0m\u001b[1;33m]\u001b[0m\u001b[1;33m.\u001b[0m\u001b[0mtolist\u001b[0m\u001b[1;33m(\u001b[0m\u001b[1;33m)\u001b[0m\u001b[1;33m)\u001b[0m\u001b[1;33m\u001b[0m\u001b[1;33m\u001b[0m\u001b[0m\n",
      "\u001b[1;31mTypeError\u001b[0m: __init__() missing 3 required positional arguments: 'name', 'timestamp', and 'price'"
     ]
    }
   ],
   "source": [
    "pts = alPyne.datacontainer.DataUtils.read_yahoo_data('VOO', 'D:\\\\Git\\\\alPyne\\\\tests\\\\Data\\\\', '.csv')"
   ]
  },
  {
   "cell_type": "code",
   "execution_count": 5,
   "metadata": {},
   "outputs": [],
   "source": [
    "df"
   ]
  },
  {
   "cell_type": "code",
   "execution_count": null,
   "metadata": {},
   "outputs": [],
   "source": []
  }
 ],
 "metadata": {
  "kernelspec": {
   "display_name": "Python 3",
   "language": "python",
   "name": "python3"
  },
  "language_info": {
   "codemirror_mode": {
    "name": "ipython",
    "version": 3
   },
   "file_extension": ".py",
   "mimetype": "text/x-python",
   "name": "python",
   "nbconvert_exporter": "python",
   "pygments_lexer": "ipython3",
   "version": "3.7.6"
  }
 },
 "nbformat": 4,
 "nbformat_minor": 4
}
