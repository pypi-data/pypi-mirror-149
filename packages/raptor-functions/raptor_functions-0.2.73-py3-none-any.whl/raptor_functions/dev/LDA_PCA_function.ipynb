{
 "cells": [
  {
   "cell_type": "markdown",
   "metadata": {},
   "source": [
    "# Getting data -> (X,y) with all the features"
   ]
  },
  {
   "cell_type": "code",
   "execution_count": 1,
   "metadata": {},
   "outputs": [],
   "source": [
    "# from raptor_functions.supervised.datasets import get_data\n",
    "# df = get_data('handheld_data')"
   ]
  },
  {
   "cell_type": "code",
   "execution_count": 2,
   "metadata": {},
   "outputs": [],
   "source": [
    "from raptor_functions.supervised.datasets import get_data\n",
    "df = get_data('handheld_data')"
   ]
  },
  {
   "cell_type": "code",
   "execution_count": 3,
   "metadata": {},
   "outputs": [
    {
     "data": {
      "text/html": [
       "<div>\n",
       "<style scoped>\n",
       "    .dataframe tbody tr th:only-of-type {\n",
       "        vertical-align: middle;\n",
       "    }\n",
       "\n",
       "    .dataframe tbody tr th {\n",
       "        vertical-align: top;\n",
       "    }\n",
       "\n",
       "    .dataframe thead th {\n",
       "        text-align: right;\n",
       "    }\n",
       "</style>\n",
       "<table border=\"1\" class=\"dataframe\">\n",
       "  <thead>\n",
       "    <tr style=\"text-align: right;\">\n",
       "      <th></th>\n",
       "      <th>exp_unique_id</th>\n",
       "      <th>exp_name</th>\n",
       "      <th>timesteps</th>\n",
       "      <th>sensor_1</th>\n",
       "      <th>sensor_2</th>\n",
       "      <th>sensor_3</th>\n",
       "      <th>sensor_4</th>\n",
       "      <th>sensor_5</th>\n",
       "      <th>sensor_6</th>\n",
       "      <th>sensor_7</th>\n",
       "      <th>...</th>\n",
       "      <th>sensor_23</th>\n",
       "      <th>sensor_24</th>\n",
       "      <th>Humidity (r.h.)</th>\n",
       "      <th>measurement_stage</th>\n",
       "      <th>date_exp</th>\n",
       "      <th>time_elapsed</th>\n",
       "      <th>datetime_exp_start</th>\n",
       "      <th>datetime_exp</th>\n",
       "      <th>filename</th>\n",
       "      <th>result</th>\n",
       "    </tr>\n",
       "  </thead>\n",
       "  <tbody>\n",
       "    <tr>\n",
       "      <th>0</th>\n",
       "      <td>0</td>\n",
       "      <td>Test 24</td>\n",
       "      <td>1</td>\n",
       "      <td>131.938</td>\n",
       "      <td>132.443</td>\n",
       "      <td>177.444</td>\n",
       "      <td>178.157</td>\n",
       "      <td>44.974</td>\n",
       "      <td>44.508</td>\n",
       "      <td>219.374</td>\n",
       "      <td>...</td>\n",
       "      <td>143.288</td>\n",
       "      <td>142.050</td>\n",
       "      <td>46.07</td>\n",
       "      <td>baseline</td>\n",
       "      <td>21/3/2022</td>\n",
       "      <td>0.00</td>\n",
       "      <td>14:12:54</td>\n",
       "      <td>2022-03-21 14:12:54.000</td>\n",
       "      <td>5 NegTest_3_20220321_14_12.txt</td>\n",
       "      <td>Control</td>\n",
       "    </tr>\n",
       "    <tr>\n",
       "      <th>1</th>\n",
       "      <td>0</td>\n",
       "      <td>Test 24</td>\n",
       "      <td>2</td>\n",
       "      <td>133.078</td>\n",
       "      <td>133.972</td>\n",
       "      <td>177.444</td>\n",
       "      <td>178.694</td>\n",
       "      <td>45.131</td>\n",
       "      <td>44.611</td>\n",
       "      <td>219.607</td>\n",
       "      <td>...</td>\n",
       "      <td>142.874</td>\n",
       "      <td>141.914</td>\n",
       "      <td>46.07</td>\n",
       "      <td>baseline</td>\n",
       "      <td>21/3/2022</td>\n",
       "      <td>0.25</td>\n",
       "      <td>14:12:54</td>\n",
       "      <td>2022-03-21 14:12:54.250</td>\n",
       "      <td>5 NegTest_3_20220321_14_12.txt</td>\n",
       "      <td>Control</td>\n",
       "    </tr>\n",
       "    <tr>\n",
       "      <th>2</th>\n",
       "      <td>0</td>\n",
       "      <td>Test 24</td>\n",
       "      <td>3</td>\n",
       "      <td>131.812</td>\n",
       "      <td>132.064</td>\n",
       "      <td>177.622</td>\n",
       "      <td>178.694</td>\n",
       "      <td>45.183</td>\n",
       "      <td>44.663</td>\n",
       "      <td>219.841</td>\n",
       "      <td>...</td>\n",
       "      <td>143.288</td>\n",
       "      <td>141.914</td>\n",
       "      <td>46.07</td>\n",
       "      <td>baseline</td>\n",
       "      <td>21/3/2022</td>\n",
       "      <td>0.50</td>\n",
       "      <td>14:12:54</td>\n",
       "      <td>2022-03-21 14:12:54.500</td>\n",
       "      <td>5 NegTest_3_20220321_14_12.txt</td>\n",
       "      <td>Control</td>\n",
       "    </tr>\n",
       "    <tr>\n",
       "      <th>3</th>\n",
       "      <td>0</td>\n",
       "      <td>Test 24</td>\n",
       "      <td>4</td>\n",
       "      <td>131.059</td>\n",
       "      <td>132.064</td>\n",
       "      <td>177.444</td>\n",
       "      <td>178.694</td>\n",
       "      <td>45.183</td>\n",
       "      <td>44.663</td>\n",
       "      <td>219.607</td>\n",
       "      <td>...</td>\n",
       "      <td>142.599</td>\n",
       "      <td>141.368</td>\n",
       "      <td>46.07</td>\n",
       "      <td>baseline</td>\n",
       "      <td>21/3/2022</td>\n",
       "      <td>0.75</td>\n",
       "      <td>14:12:54</td>\n",
       "      <td>2022-03-21 14:12:54.750</td>\n",
       "      <td>5 NegTest_3_20220321_14_12.txt</td>\n",
       "      <td>Control</td>\n",
       "    </tr>\n",
       "    <tr>\n",
       "      <th>4</th>\n",
       "      <td>0</td>\n",
       "      <td>Test 24</td>\n",
       "      <td>5</td>\n",
       "      <td>131.435</td>\n",
       "      <td>131.938</td>\n",
       "      <td>177.622</td>\n",
       "      <td>178.694</td>\n",
       "      <td>45.131</td>\n",
       "      <td>44.663</td>\n",
       "      <td>219.607</td>\n",
       "      <td>...</td>\n",
       "      <td>142.187</td>\n",
       "      <td>140.825</td>\n",
       "      <td>46.07</td>\n",
       "      <td>baseline</td>\n",
       "      <td>21/3/2022</td>\n",
       "      <td>1.00</td>\n",
       "      <td>14:12:54</td>\n",
       "      <td>2022-03-21 14:12:55.000</td>\n",
       "      <td>5 NegTest_3_20220321_14_12.txt</td>\n",
       "      <td>Control</td>\n",
       "    </tr>\n",
       "  </tbody>\n",
       "</table>\n",
       "<p>5 rows × 35 columns</p>\n",
       "</div>"
      ],
      "text/plain": [
       "   exp_unique_id  exp_name  timesteps  sensor_1  sensor_2  sensor_3  sensor_4  \\\n",
       "0              0  Test 24           1   131.938   132.443   177.444   178.157   \n",
       "1              0  Test 24           2   133.078   133.972   177.444   178.694   \n",
       "2              0  Test 24           3   131.812   132.064   177.622   178.694   \n",
       "3              0  Test 24           4   131.059   132.064   177.444   178.694   \n",
       "4              0  Test 24           5   131.435   131.938   177.622   178.694   \n",
       "\n",
       "   sensor_5  sensor_6  sensor_7  ...  sensor_23  sensor_24   Humidity (r.h.)  \\\n",
       "0    44.974    44.508   219.374  ...    143.288    142.050             46.07   \n",
       "1    45.131    44.611   219.607  ...    142.874    141.914             46.07   \n",
       "2    45.183    44.663   219.841  ...    143.288    141.914             46.07   \n",
       "3    45.183    44.663   219.607  ...    142.599    141.368             46.07   \n",
       "4    45.131    44.663   219.607  ...    142.187    140.825             46.07   \n",
       "\n",
       "   measurement_stage   date_exp  time_elapsed  datetime_exp_start  \\\n",
       "0           baseline  21/3/2022          0.00            14:12:54   \n",
       "1           baseline  21/3/2022          0.25            14:12:54   \n",
       "2           baseline  21/3/2022          0.50            14:12:54   \n",
       "3           baseline  21/3/2022          0.75            14:12:54   \n",
       "4           baseline  21/3/2022          1.00            14:12:54   \n",
       "\n",
       "              datetime_exp                        filename   result  \n",
       "0  2022-03-21 14:12:54.000  5 NegTest_3_20220321_14_12.txt  Control  \n",
       "1  2022-03-21 14:12:54.250  5 NegTest_3_20220321_14_12.txt  Control  \n",
       "2  2022-03-21 14:12:54.500  5 NegTest_3_20220321_14_12.txt  Control  \n",
       "3  2022-03-21 14:12:54.750  5 NegTest_3_20220321_14_12.txt  Control  \n",
       "4  2022-03-21 14:12:55.000  5 NegTest_3_20220321_14_12.txt  Control  \n",
       "\n",
       "[5 rows x 35 columns]"
      ]
     },
     "execution_count": 3,
     "metadata": {},
     "output_type": "execute_result"
    }
   ],
   "source": [
    "df.head()"
   ]
  },
  {
   "cell_type": "code",
   "execution_count": 4,
   "metadata": {},
   "outputs": [],
   "source": [
    "import numpy as np\n",
    "import pandas as pd\n",
    "import xgboost as xgb\n",
    "from boruta import BorutaPy\n",
    "from tsfresh.utilities.dataframe_functions import impute\n",
    "from tsfresh.feature_extraction import (\n",
    "    ComprehensiveFCParameters,\n",
    "    extract_features,\n",
    ")\n",
    "from tsfresh import extract_features"
   ]
  },
  {
   "cell_type": "code",
   "execution_count": 5,
   "metadata": {},
   "outputs": [],
   "source": [
    "FEATURES = [\n",
    "    \"exp_unique_id\",\n",
    "    \"timesteps\",\n",
    "    \"sensor_1\",\n",
    "    \"sensor_2\",\n",
    "    \"sensor_3\",\n",
    "    \"sensor_4\",\n",
    "    \"sensor_5\",\n",
    "    \"sensor_6\",\n",
    "    \"sensor_7\",\n",
    "    \"sensor_8\",\n",
    "    \"sensor_9\",\n",
    "    \"sensor_10\",\n",
    "    \"sensor_11\",\n",
    "    \"sensor_12\",\n",
    "    \"sensor_13\",\n",
    "    \"sensor_14\",\n",
    "    \"sensor_15\",\n",
    "    \"sensor_16\",\n",
    "    \"sensor_17\",\n",
    "    \"sensor_18\",\n",
    "    \"sensor_19\",\n",
    "    \"sensor_20\",\n",
    "    \"sensor_21\",\n",
    "    \"sensor_22\",\n",
    "    \"sensor_23\",\n",
    "    \"sensor_24\",\n",
    "]\n",
    "\n",
    "TARGET_COL = \"result\"\n",
    "\n",
    "unique_id=\"exp_unique_id\"\n",
    "label=\"result\"\n",
    "timesteps=\"timesteps\""
   ]
  },
  {
   "cell_type": "code",
   "execution_count": 6,
   "metadata": {},
   "outputs": [],
   "source": [
    "extraction_settings = ComprehensiveFCParameters()"
   ]
  },
  {
   "cell_type": "code",
   "execution_count": 7,
   "metadata": {},
   "outputs": [],
   "source": [
    "y = df.groupby(unique_id).first()[label]\n",
    "X = df.drop(label, axis=1)"
   ]
  },
  {
   "cell_type": "code",
   "execution_count": 8,
   "metadata": {},
   "outputs": [
    {
     "name": "stderr",
     "output_type": "stream",
     "text": [
      "Feature Extraction: 100%|██████████| 20/20 [00:09<00:00,  2.13it/s]\n"
     ]
    }
   ],
   "source": [
    "features = [col for col in X if col.startswith('sensor')]\n",
    "features = [unique_id, timesteps] + features\n",
    "\n",
    "X = X[features]\n",
    "\n",
    "# X = df.drop(label, axis=1)\n",
    "# y = df.groupby(unique_id).first()[label]\n",
    "\n",
    "X = extract_features(\n",
    "    X,\n",
    "    column_id=unique_id,\n",
    "    column_sort=timesteps,\n",
    "    default_fc_parameters=extraction_settings,\n",
    "    # we impute = remove all NaN features automatically\n",
    "    impute_function=impute,\n",
    ")"
   ]
  },
  {
   "cell_type": "markdown",
   "metadata": {},
   "source": [
    "# Function for PCA"
   ]
  },
  {
   "cell_type": "markdown",
   "metadata": {},
   "source": [
    "Inputs: X, y\n",
    "Outputs: plot and pandas dataframe with the 2d decomposition"
   ]
  },
  {
   "cell_type": "code",
   "execution_count": 9,
   "metadata": {},
   "outputs": [],
   "source": [
    "import matplotlib\n",
    "matplotlib.rcParams.update({\n",
    "    \"pgf.texsystem\": \"pdflatex\",\n",
    "    'font.family': 'serif',\n",
    "    'text.usetex': True,\n",
    "    'pgf.rcfonts': False,\n",
    "})\n",
    "from sklearn.decomposition import PCA\n",
    "from sklearn.preprocessing import StandardScaler\n",
    "from sklearn.pipeline import Pipeline\n",
    "import matplotlib.pyplot as plt\n",
    "from matplotlib.colors import ListedColormap\n",
    "from mpl_toolkits.mplot3d import Axes3D\n",
    "import seaborn as sns\n"
   ]
  },
  {
   "cell_type": "code",
   "execution_count": 10,
   "metadata": {},
   "outputs": [],
   "source": [
    "def PCA_plot(X,y,scaler = True, plt_3D = True, figure_name = 'pca_plot', path = os.getcwd()):\n",
    "    # \n",
    "    if plt_3D == True:\n",
    "        n_components = 3\n",
    "    else:\n",
    "        n_components = 2\n",
    "    pca = PCA(n_components=n_components)\n",
    "    if scaler == True:\n",
    "        pipe = Pipeline([('scaler', StandardScaler()), ('pca', pca)])\n",
    "        principalComponents = pipe.fit_transform(X)\n",
    "    else: \n",
    "        principalComponents = pca.fit_transform(X)\n",
    "    # \n",
    "    principalDf = pd.DataFrame(data = principalComponents)\n",
    "    # \n",
    "    colors = {'Control':'green', 'Covid':'red'}\n",
    "    # \n",
    "    # \n",
    "    if n_components == 2:\n",
    "        fig, ax = plt.subplots(figsize=(6, 6), tight_layout=True)\n",
    "        ax = sns.scatterplot(x=principalDf.iloc[:,0], y=principalDf.iloc[:,1], hue=y, alpha=0.9, edgecolor='black')\n",
    "    elif n_components == 3:\n",
    "        # \n",
    "        fig = plt.figure(figsize=(6,6))    \n",
    "        ax = Axes3D(fig, auto_add_to_figure=False)\n",
    "        fig.add_axes(ax)    \n",
    "        cmap = ListedColormap(sns.color_palette(\"husl\", 256).as_hex())\n",
    "        sc = ax.scatter(principalDf.iloc[:,0],principalDf.iloc[:,1],principalDf.iloc[:,2], c=y.map(colors), cmap=cmap, alpha=0.9, edgecolors='black')\n",
    "        ax.set_zlabel('Axis 3')\n",
    "    else:\n",
    "        print('Error: please only select 2 or 3 axis for the Principal Component Analysis.')\n",
    "    ax.set_xlabel('Axis 1')\n",
    "    ax.set_ylabel('Axis 2')\n",
    "    ax.set_title('Principal Component Analysis (PCA)')\n",
    "    # -----------------------------------------------------------\n",
    "    # TODO: create new directory if path specified doesn't exists\n",
    "    figure_name_full = figure_name + '.pdf'\n",
    "    if path != os.getcwd():\n",
    "        plt.savefig(path + \"/\" + figure_name_full, bbox_inches='tight')\n",
    "        print('Plot saved sucesfully!')\n",
    "    else: \n",
    "        plt.savefig(figure_name_full, bbox_inches='tight')\n",
    "        print('Plot saved sucesfully!')"
   ]
  },
  {
   "cell_type": "code",
   "execution_count": null,
   "metadata": {},
   "outputs": [],
   "source": []
  },
  {
   "cell_type": "code",
   "execution_count": 47,
   "metadata": {},
   "outputs": [
    {
     "name": "stdout",
     "output_type": "stream",
     "text": [
      "Plot saved sucesfully!\n"
     ]
    },
    {
     "data": {
      "image/png": "[encoded data removed]",
      "text/plain": [
       "<Figure size 432x432 with 1 Axes>"
      ]
     },
     "metadata": {
      "needs_background": "light"
     },
     "output_type": "display_data"
    }
   ],
   "source": [
    "PCA_plot(X,y,scaler=False,plt_3D=True,figure_name = 'pca_plot_test_3d', path = '/Users/danielfiuzadosil/Documents/GitHub/raptor_functions/raptor_functions/dev/plots')"
   ]
  },
  {
   "cell_type": "code",
   "execution_count": 42,
   "metadata": {},
   "outputs": [
    {
     "name": "stdout",
     "output_type": "stream",
     "text": [
      "Plot saved sucesfully!\n"
     ]
    },
    {
     "data": {
      "image/png": "[encoded data removed]",
      "text/plain": [
       "<Figure size 432x432 with 1 Axes>"
      ]
     },
     "metadata": {
      "needs_background": "light"
     },
     "output_type": "display_data"
    }
   ],
   "source": [
    "PCA_plot(X,y,scaler=False,plt_3D=False)"
   ]
  },
  {
   "cell_type": "markdown",
   "metadata": {},
   "source": [
    "# LDA"
   ]
  },
  {
   "cell_type": "code",
   "execution_count": 12,
   "metadata": {},
   "outputs": [],
   "source": [
    "import matplotlib\n",
    "matplotlib.rcParams.update({\n",
    "    \"pgf.texsystem\": \"pdflatex\",\n",
    "    'font.family': 'serif',\n",
    "    'text.usetex': True,\n",
    "    'pgf.rcfonts': False,\n",
    "})"
   ]
  },
  {
   "cell_type": "code",
   "execution_count": 13,
   "metadata": {},
   "outputs": [],
   "source": [
    "# from sklearn.discriminant_analysis import LinearDiscriminantAnalysis\n",
    "# lda = LinearDiscriminantAnalysis(n_components=2)\n",
    "# X_r2 = lda.fit(X, y).transform(X)"
   ]
  },
  {
   "cell_type": "code",
   "execution_count": 14,
   "metadata": {},
   "outputs": [],
   "source": [
    "df.reset_index(inplace=True)"
   ]
  },
  {
   "cell_type": "code",
   "execution_count": 15,
   "metadata": {},
   "outputs": [],
   "source": [
    "# sns.pairplot(df, hue=\"result\")"
   ]
  },
  {
   "cell_type": "code",
   "execution_count": 27,
   "metadata": {},
   "outputs": [
    {
     "name": "stdout",
     "output_type": "stream",
     "text": [
      "[array([ 2.27668601,  4.25662719,  0.79671797, -1.14764028]), array([-1.86844256, -0.99357612,  2.14827101, -1.24664075])]\n",
      "within-class Scatter Matrix:\n",
      " [[ 12894.02618964  12388.17949578  -5025.6093967    1110.90896782]\n",
      " [ 12388.17949578  34177.22271176 -12505.24344685  -4576.31987213]\n",
      " [ -5025.6093967  -12505.24344685   7858.82866205   1824.14383828]\n",
      " [  1110.90896782  -4576.31987213   1824.14383828   2876.82304762]]\n",
      "between-class Scatter Matrix:\n",
      " [[ 5.82112206e+03  7.37300999e+03 -1.89802442e+03  1.39029178e+02]\n",
      " [ 7.37300999e+03  9.33862504e+03 -2.40403016e+03  1.76093803e+02]\n",
      " [-1.89802442e+03 -2.40403016e+03  6.18866372e+02 -4.53315997e+01]\n",
      " [ 1.39029178e+02  1.76093803e+02 -4.53315997e+01  3.32051315e+00]]\n",
      "Eigenvectors \n",
      "[[ 0.74375324  0.65894649  0.02850812  0.21316975]\n",
      " [ 0.34589513 -0.53056072 -0.00634567 -0.00427695]\n",
      " [ 0.57194183 -0.07868146  0.13532647  0.68797768]\n",
      " [-0.00837995 -0.52735573  0.99037052  0.69370532]]\n",
      "\n",
      "Eigenvalues \n",
      "[ 5.27056121e-01 -9.52136263e-17  8.11126399e-18  4.94478545e-17]\n"
     ]
    }
   ],
   "source": [
    "import numpy as np\n",
    "import pandas as pd\n",
    "import matplotlib.pyplot as plt\n",
    "import seaborn as sns\n",
    "%matplotlib inline\n",
    "# \n",
    "columns = [\"var\",\"skewness\",\"curtosis\",\"entropy\",\"class\"]\n",
    "df = pd.read_csv(\"http://archive.ics.uci.edu/ml/machine-learning-databases/00267/\\\n",
    "data_banknote_authentication.txt\",index_col=False, names = columns)\n",
    "# \n",
    "mean_vec = []\n",
    "for i in df[\"class\"].unique():\n",
    "    mean_vec.append( np.array((df[df[\"class\"]==i].mean()[:4]) ))\n",
    "print(mean_vec)\n",
    "# \n",
    "SW = np.zeros((4,4))\n",
    "for i in range(1,4): #2 is number of classes\n",
    "    per_class_sc_mat = np.zeros((4,4))\n",
    "    for j in range(df[df[\"class\"]==i].shape[0]):\n",
    "        row, mv = df.loc[j][:4].values.reshape(4,1), mean_vec[i].reshape(4,1)\n",
    "        per_class_sc_mat += (row-mv).dot((row-mv).T)\n",
    "    SW += per_class_sc_mat\n",
    "print('within-class Scatter Matrix:\\n', SW)\n",
    "overall_mean = np.array(df.drop(\"class\", axis=1).mean())\n",
    "SB = np.zeros((4,4))\n",
    "for i in range(2): #2 is number of classes\n",
    "    n = df[df[\"class\"]==i].shape[0]\n",
    "    mv = mean_vec[i].reshape(4,1)\n",
    "    overall_mean = overall_mean.reshape(4,1) # make column vector\n",
    "    SB += n * (mv - overall_mean).dot((mv - overall_mean).T)\n",
    "print('between-class Scatter Matrix:\\n', SB)\n",
    "# \n",
    "e_vals, e_vecs = np.linalg.eig(np.linalg.inv(SW).dot(SB))\n",
    "print('Eigenvectors \\n%s' %e_vecs)\n",
    "print('\\nEigenvalues \\n%s' %e_vals)"
   ]
  },
  {
   "cell_type": "code",
   "execution_count": 33,
   "metadata": {},
   "outputs": [
    {
     "ename": "SyntaxError",
     "evalue": "invalid syntax (1632634648.py, line 1)",
     "output_type": "error",
     "traceback": [
      "\u001b[0;36m  File \u001b[0;32m\"/var/folders/tl/yx271fpd4sd_d224zzcb65840000gp/T/ipykernel_13797/1632634648.py\"\u001b[0;36m, line \u001b[0;32m1\u001b[0m\n\u001b[0;31m    W = np.hstack((e_vecs[0]reshape(4,1), e_vecs[1].reshape(4,1)))\u001b[0m\n\u001b[0m                                  ^\u001b[0m\n\u001b[0;31mSyntaxError\u001b[0m\u001b[0;31m:\u001b[0m invalid syntax\n"
     ]
    }
   ],
   "source": []
  },
  {
   "cell_type": "code",
   "execution_count": null,
   "metadata": {},
   "outputs": [],
   "source": []
  }
 ],
 "metadata": {
  "interpreter": {
   "hash": "53c91a0ac8cebf87d6dc89d79689e596e7a69520b6d9c103a9f69d18d5e4e84f"
  },
  "kernelspec": {
   "display_name": "Python 3.7.13 ('venv-3.7')",
   "language": "python",
   "name": "python3"
  },
  "language_info": {
   "codemirror_mode": {
    "name": "ipython",
    "version": 3
   },
   "file_extension": ".py",
   "mimetype": "text/x-python",
   "name": "python",
   "nbconvert_exporter": "python",
   "pygments_lexer": "ipython3",
   "version": "3.7.13"
  },
  "orig_nbformat": 4
 },
 "nbformat": 4,
 "nbformat_minor": 2
}
