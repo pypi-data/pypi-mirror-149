{
 "cells": [
  {
   "cell_type": "markdown",
   "id": "7fc35f84",
   "metadata": {
    "tags": [
     "papermill-error-cell-tag"
    ]
   },
   "source": [
    "<span style=\"color:red; font-family:Helvetica Neue, Helvetica, Arial, sans-serif; font-size:2em;\">An Exception was encountered at '<a href=\"#papermill-error-cell\">In [8]</a>'.</span>"
   ]
  },
  {
   "cell_type": "code",
   "execution_count": 1,
   "id": "f58832bd",
   "metadata": {
    "execution": {
     "iopub.execute_input": "2022-02-28T11:13:57.632706Z",
     "iopub.status.busy": "2022-02-28T11:13:57.632072Z",
     "iopub.status.idle": "2022-02-28T11:13:58.179080Z",
     "shell.execute_reply": "2022-02-28T11:13:58.178465Z"
    },
    "papermill": {
     "duration": 0.573797,
     "end_time": "2022-02-28T11:13:58.179255",
     "exception": false,
     "start_time": "2022-02-28T11:13:57.605458",
     "status": "completed"
    },
    "tags": []
   },
   "outputs": [],
   "source": [
    "%load_ext autoreload\n",
    "%autoreload 2"
   ]
  },
  {
   "cell_type": "code",
   "execution_count": 2,
   "id": "e25fda97",
   "metadata": {
    "execution": {
     "iopub.execute_input": "2022-02-28T11:13:58.225090Z",
     "iopub.status.busy": "2022-02-28T11:13:58.224523Z",
     "iopub.status.idle": "2022-02-28T11:13:58.247400Z",
     "shell.execute_reply": "2022-02-28T11:13:58.247792Z"
    },
    "papermill": {
     "duration": 0.045057,
     "end_time": "2022-02-28T11:13:58.247956",
     "exception": false,
     "start_time": "2022-02-28T11:13:58.202899",
     "status": "completed"
    },
    "tags": [
     "parameters"
    ]
   },
   "outputs": [],
   "source": [
    "dir_path = ''\n",
    "project_info_file = ''\n",
    "config = dict()"
   ]
  },
  {
   "cell_type": "code",
   "execution_count": 3,
   "id": "cf6d2c19",
   "metadata": {
    "execution": {
     "iopub.execute_input": "2022-02-28T11:13:58.289961Z",
     "iopub.status.busy": "2022-02-28T11:13:58.289414Z",
     "iopub.status.idle": "2022-02-28T11:13:58.302947Z",
     "shell.execute_reply": "2022-02-28T11:13:58.302395Z"
    },
    "papermill": {
     "duration": 0.036799,
     "end_time": "2022-02-28T11:13:58.303099",
     "exception": false,
     "start_time": "2022-02-28T11:13:58.266300",
     "status": "completed"
    },
    "tags": [
     "injected-parameters"
    ]
   },
   "outputs": [],
   "source": [
    "# Parameters\n",
    "dir_path = \"\"\n",
    "project_info_file = None\n",
    "config = {\"title_story\": \"Datadrift report production 2007\", \"title_description\": \"\"}\n"
   ]
  },
  {
   "cell_type": "code",
   "execution_count": 4,
   "id": "fd26e463",
   "metadata": {
    "execution": {
     "iopub.execute_input": "2022-02-28T11:13:58.349840Z",
     "iopub.status.busy": "2022-02-28T11:13:58.349251Z",
     "iopub.status.idle": "2022-02-28T11:14:07.378656Z",
     "shell.execute_reply": "2022-02-28T11:14:07.379132Z"
    },
    "papermill": {
     "duration": 9.0549,
     "end_time": "2022-02-28T11:14:07.379324",
     "exception": false,
     "start_time": "2022-02-28T11:13:58.324424",
     "status": "completed"
    },
    "tags": []
   },
   "outputs": [
    {
     "name": "stderr",
     "output_type": "stream",
     "text": [
      "/data_tech/users/users_envs/34250k/eurybia_3_8/lib/python3.8/site-packages/papermill/iorw.py:50: FutureWarning:\n",
      "\n",
      "pyarrow.HadoopFileSystem is deprecated as of 2.0.0, please use pyarrow.fs.HadoopFileSystem instead.\n",
      "\n"
     ]
    },
    {
     "data": {
      "text/html": [
       "\n",
       "    <style type=\"text/css\">\n",
       "        table.greyGridTable {\n",
       "            border: solid 1px #DDEEEE;\n",
       "            border-collapse: collapse;\n",
       "            border-spacing: 0;\n",
       "            margin-left: 5px;\n",
       "        }\n",
       "        table.greyGridTable tbody td {\n",
       "              border: solid 1px #DEDDEE;\n",
       "              color: #333;\n",
       "              padding: 5px;\n",
       "              margin-left: 10px;\n",
       "              margin-right: 10px;\n",
       "              text-align: center;\n",
       "              text-shadow: 1px 1px 1px #fff;\n",
       "        }\n",
       "        table.greyGridTable thead th {\n",
       "            border: solid 1px #DEDDEE;\n",
       "            color: #808080;\n",
       "            padding: 5px;\n",
       "            text-align: center;\n",
       "            text-shadow: 1px 1px 1px #fff;\n",
       "        }\n",
       "    .dropdown-feature {\n",
       "            position: absolute;\n",
       "            display: inline-block;\n",
       "        } \n",
       "    \n",
       "    .scrollable-menu {\n",
       "        height: auto;\n",
       "        max-height: 180px;\n",
       "        overflow-x: hidden;\n",
       "    }\n",
       "    \n",
       "    .scrollable-menu::-webkit-scrollbar {\n",
       "        -webkit-appearance: none;\n",
       "        width: 4px;        \n",
       "    }    \n",
       "    .scrollable-menu::-webkit-scrollbar-thumb {\n",
       "        border-radius: 3px;\n",
       "        background-color: lightgray;\n",
       "        -webkit-box-shadow: 0 0 1px rgba(255,255,255,.75);        \n",
       "    }\n",
       "    \n",
       "    .scrollable-menu > li a {\n",
       "        display: block;\n",
       "        text-align: left;\n",
       "        text-decoration: none !important;\n",
       "        padding: 0px 0px 0px 0px;   \n",
       "        overflow: hidden;\n",
       "    }\n",
       "        \n",
       "        .scrollable-menu > li{\n",
       "          list-style:none;\n",
       "    }\n",
       "    </style>\n",
       "    "
      ],
      "text/plain": [
       "<IPython.core.display.HTML object>"
      ]
     },
     "metadata": {},
     "output_type": "display_data"
    },
    {
     "data": {
      "text/html": [
       "\n",
       "    <script>\n",
       "    function showBlock(groupId, blockId) {\n",
       "      var elms = document.querySelectorAll('*[id^=\"' + groupId + '\"]');\n",
       "      for (i=0;i<elms.length;i++) {\n",
       "        elms[i].style.display = \"none\";\n",
       "      }\n",
       "      var x = document.getElementById(blockId);\n",
       "      if (x.style.display === \"none\") {\n",
       "        x.style.display = \"block\";\n",
       "      } else {\n",
       "        x.style.display = \"none\";\n",
       "      }\n",
       "    var x = document.getElementById(blockId + '-2');\n",
       "    if (x != null) {\n",
       "      if (x.style.display === \"none\") {\n",
       "        x.style.display = \"block\";\n",
       "      } else {\n",
       "        x.style.display = \"none\";\n",
       "      }}\n",
       "    }\n",
       "    </script>\n",
       "    "
      ],
      "text/plain": [
       "<IPython.core.display.HTML object>"
      ]
     },
     "metadata": {},
     "output_type": "display_data"
    }
   ],
   "source": [
    "import os\n",
    "import pandas as pd\n",
    "from eurybia.core.smartdrift import SmartDrift\n",
    "from shapash.explainer.smart_explainer import SmartExplainer\n",
    "from eurybia.report.project_report import DriftReport\n",
    "from eurybia.report.common import load_saved_df\n",
    "import warnings\n",
    "warnings.filterwarnings('ignore')\n",
    "\n",
    "df_baseline = load_saved_df(os.path.join(dir_path, 'baseline_dataset.pkl'))\n",
    "df_current = load_saved_df(os.path.join(dir_path, 'current_dataset.pkl'))\n",
    "\n",
    "xpl = SmartExplainer()\n",
    "xpl.load(os.path.join(dir_path, 'smart_explainer.pickle'))\n",
    "\n",
    "smartdrift = SmartDrift(df_current, df_baseline)\n",
    "smartdrift.load(os.path.join(dir_path, 'smart_drift.pickle'))\n",
    "\n",
    "DR = DriftReport(\n",
    "        smartdrift=smartdrift,\n",
    "        explainer = xpl,\n",
    "        project_info_file=project_info_file,\n",
    "        config=config)"
   ]
  },
  {
   "cell_type": "code",
   "execution_count": 5,
   "id": "49564305",
   "metadata": {
    "execution": {
     "iopub.execute_input": "2022-02-28T11:14:07.428510Z",
     "iopub.status.busy": "2022-02-28T11:14:07.427994Z",
     "iopub.status.idle": "2022-02-28T11:14:09.545425Z",
     "shell.execute_reply": "2022-02-28T11:14:09.544949Z"
    },
    "papermill": {
     "duration": 2.141439,
     "end_time": "2022-02-28T11:14:09.545575",
     "exception": false,
     "start_time": "2022-02-28T11:14:07.404136",
     "status": "completed"
    },
    "tags": []
   },
   "outputs": [
    {
     "data": {
      "text/html": [
       "<font size=\"+3\"><p align=\"center\"><b>Datadrift report production 2007</b></p></font>"
      ],
      "text/plain": [
       "<IPython.core.display.HTML object>"
      ]
     },
     "metadata": {},
     "output_type": "display_data"
    }
   ],
   "source": [
    "DR.display_title_description()"
   ]
  },
  {
   "cell_type": "markdown",
   "id": "43c145b0",
   "metadata": {
    "papermill": {
     "duration": 0.02042,
     "end_time": "2022-02-28T11:14:09.590966",
     "exception": false,
     "start_time": "2022-02-28T11:14:09.570546",
     "status": "completed"
    },
    "tags": []
   },
   "source": [
    "# Information"
   ]
  },
  {
   "cell_type": "code",
   "execution_count": 6,
   "id": "3bbed776",
   "metadata": {
    "execution": {
     "iopub.execute_input": "2022-02-28T11:14:09.635217Z",
     "iopub.status.busy": "2022-02-28T11:14:09.634626Z",
     "iopub.status.idle": "2022-02-28T11:14:11.934269Z",
     "shell.execute_reply": "2022-02-28T11:14:11.934639Z"
    },
    "papermill": {
     "duration": 2.323558,
     "end_time": "2022-02-28T11:14:11.934841",
     "exception": false,
     "start_time": "2022-02-28T11:14:09.611283",
     "status": "completed"
    },
    "tags": []
   },
   "outputs": [
    {
     "data": {
      "text/markdown": [
       "##  "
      ],
      "text/plain": [
       "<IPython.core.display.Markdown object>"
      ]
     },
     "metadata": {},
     "output_type": "display_data"
    },
    {
     "data": {
      "text/markdown": [
       "**Tip** : You can add custom information here. Check our documentation !"
      ],
      "text/plain": [
       "<IPython.core.display.Markdown object>"
      ]
     },
     "metadata": {},
     "output_type": "display_data"
    },
    {
     "data": {
      "text/markdown": [
       "---"
      ],
      "text/plain": [
       "<IPython.core.display.Markdown object>"
      ]
     },
     "metadata": {},
     "output_type": "display_data"
    }
   ],
   "source": [
    "DR.display_project_information()"
   ]
  },
  {
   "cell_type": "markdown",
   "id": "7445ab0e",
   "metadata": {
    "papermill": {
     "duration": 0.024128,
     "end_time": "2022-02-28T11:14:11.982192",
     "exception": false,
     "start_time": "2022-02-28T11:14:11.958064",
     "status": "completed"
    },
    "tags": []
   },
   "source": [
    "# Coherence analysis"
   ]
  },
  {
   "cell_type": "code",
   "execution_count": 7,
   "id": "2d494e1a",
   "metadata": {
    "execution": {
     "iopub.execute_input": "2022-02-28T11:14:12.039807Z",
     "iopub.status.busy": "2022-02-28T11:14:12.039070Z",
     "iopub.status.idle": "2022-02-28T11:14:14.677433Z",
     "shell.execute_reply": "2022-02-28T11:14:14.677845Z"
    },
    "papermill": {
     "duration": 2.668169,
     "end_time": "2022-02-28T11:14:14.678099",
     "exception": false,
     "start_time": "2022-02-28T11:14:12.009930",
     "status": "completed"
    },
    "tags": []
   },
   "outputs": [
    {
     "data": {
      "text/markdown": [
       "## Columns ignored in the report"
      ],
      "text/plain": [
       "<IPython.core.display.Markdown object>"
      ]
     },
     "metadata": {},
     "output_type": "display_data"
    },
    {
     "data": {
      "text/markdown": [
       "This section will display the columns that won't be analyzed in the report."
      ],
      "text/plain": [
       "<IPython.core.display.Markdown object>"
      ]
     },
     "metadata": {},
     "output_type": "display_data"
    },
    {
     "data": {
      "text/html": [
       "<table border=\"1\" class=\"dataframe greyGridTable\">\n",
       "  <thead>\n",
       "    <tr style=\"text-align: right;\">\n",
       "      <th></th>\n",
       "      <th>Ignored columns</th>\n",
       "    </tr>\n",
       "  </thead>\n",
       "  <tbody>\n",
       "  </tbody>\n",
       "</table>"
      ],
      "text/plain": [
       "<IPython.core.display.HTML object>"
      ]
     },
     "metadata": {},
     "output_type": "display_data"
    },
    {
     "data": {
      "text/markdown": [
       "---"
      ],
      "text/plain": [
       "<IPython.core.display.Markdown object>"
      ]
     },
     "metadata": {},
     "output_type": "display_data"
    },
    {
     "data": {
      "text/markdown": [
       "## Result from Consistency Analysis "
      ],
      "text/plain": [
       "<IPython.core.display.Markdown object>"
      ]
     },
     "metadata": {},
     "output_type": "display_data"
    },
    {
     "data": {
      "text/markdown": [
       "\n",
       "                     Consistency checks allow to detect if the columns and\n",
       "                     the modalities of the variables correspond between the 2 datasets."
      ],
      "text/plain": [
       "<IPython.core.display.Markdown object>"
      ]
     },
     "metadata": {},
     "output_type": "display_data"
    },
    {
     "data": {
      "text/markdown": [
       "If not, this can more or less degrade the performance of your model."
      ],
      "text/plain": [
       "<IPython.core.display.Markdown object>"
      ]
     },
     "metadata": {},
     "output_type": "display_data"
    },
    {
     "data": {
      "text/markdown": [
       "### Columns problems"
      ],
      "text/plain": [
       "<IPython.core.display.Markdown object>"
      ]
     },
     "metadata": {},
     "output_type": "display_data"
    },
    {
     "data": {
      "text/markdown": [
       "\n",
       "                     This section will display the columns where there are differences\n",
       "                     between df_baseline and df_current."
      ],
      "text/plain": [
       "<IPython.core.display.Markdown object>"
      ]
     },
     "metadata": {},
     "output_type": "display_data"
    },
    {
     "data": {
      "text/markdown": [
       "\n",
       "                     The identified columns in this section have been removed from\n",
       "                     the analysis displayed in the report."
      ],
      "text/plain": [
       "<IPython.core.display.Markdown object>"
      ]
     },
     "metadata": {},
     "output_type": "display_data"
    },
    {
     "data": {
      "text/markdown": [],
      "text/plain": [
       "<IPython.core.display.Markdown object>"
      ]
     },
     "metadata": {},
     "output_type": "display_data"
    },
    {
     "data": {
      "text/markdown": [
       "---"
      ],
      "text/plain": [
       "<IPython.core.display.Markdown object>"
      ]
     },
     "metadata": {},
     "output_type": "display_data"
    },
    {
     "data": {
      "text/markdown": [
       "### Distinct values identified"
      ],
      "text/plain": [
       "<IPython.core.display.Markdown object>"
      ]
     },
     "metadata": {},
     "output_type": "display_data"
    },
    {
     "data": {
      "text/markdown": [
       "\n",
       "                     This section will display the columns where they are differences between\n",
       "                     df_baseline and df_current in terms of modalities in \n",
       "                     categorical features.\n",
       "                     "
      ],
      "text/plain": [
       "<IPython.core.display.Markdown object>"
      ]
     },
     "metadata": {},
     "output_type": "display_data"
    },
    {
     "data": {
      "text/markdown": [
       "\n",
       "                     This part of Consistency Analysis has been done on a sample of both df_baseline\n",
       "                     and df_current. It's possible that the identified missing or added modalities\n",
       "                     where just not in the samples.\n",
       "                     "
      ],
      "text/plain": [
       "<IPython.core.display.Markdown object>"
      ]
     },
     "metadata": {},
     "output_type": "display_data"
    },
    {
     "data": {
      "text/markdown": [
       "\n",
       "                     The identified columns in this section has been kept for the analysis\n",
       "                     displayed in the report.\n",
       "                     "
      ],
      "text/plain": [
       "<IPython.core.display.Markdown object>"
      ]
     },
     "metadata": {},
     "output_type": "display_data"
    },
    {
     "data": {
      "text/markdown": [],
      "text/plain": [
       "<IPython.core.display.Markdown object>"
      ]
     },
     "metadata": {},
     "output_type": "display_data"
    },
    {
     "data": {
      "text/html": [
       "<table border=\"1\" class=\"dataframe greyGridTable\">\n",
       "  <thead>\n",
       "    <tr style=\"text-align: right;\">\n",
       "      <th></th>\n",
       "      <th>Neighborhood</th>\n",
       "      <th>RoofMatl</th>\n",
       "      <th>RoofStyle</th>\n",
       "      <th>SaleType</th>\n",
       "      <th>Street</th>\n",
       "    </tr>\n",
       "  </thead>\n",
       "  <tbody>\n",
       "    <tr>\n",
       "      <th>new_mods</th>\n",
       "      <td>[Northpark Villa]</td>\n",
       "      <td>[Roll]</td>\n",
       "      <td>[Mansard, Shed]</td>\n",
       "      <td>[Warranty Deed - Cash]</td>\n",
       "      <td>[Gravel]</td>\n",
       "    </tr>\n",
       "    <tr>\n",
       "      <th>removed_mods</th>\n",
       "      <td>[]</td>\n",
       "      <td>[Metal]</td>\n",
       "      <td>[]</td>\n",
       "      <td>[Contract Low Interest, Contract Low Down, Contract Low Down payment and low interest]</td>\n",
       "      <td>[]</td>\n",
       "    </tr>\n",
       "  </tbody>\n",
       "</table>"
      ],
      "text/plain": [
       "<IPython.core.display.HTML object>"
      ]
     },
     "metadata": {},
     "output_type": "display_data"
    },
    {
     "data": {
      "text/markdown": [
       "---"
      ],
      "text/plain": [
       "<IPython.core.display.Markdown object>"
      ]
     },
     "metadata": {},
     "output_type": "display_data"
    }
   ],
   "source": [
    "DR.display_coherence_analysis_result()"
   ]
  },
  {
   "cell_type": "markdown",
   "id": "e0f506e0",
   "metadata": {
    "papermill": {
     "duration": 0.035088,
     "end_time": "2022-02-28T11:14:14.751905",
     "exception": false,
     "start_time": "2022-02-28T11:14:14.716817",
     "status": "completed"
    },
    "tags": []
   },
   "source": [
    "# Data Drift"
   ]
  },
  {
   "cell_type": "markdown",
   "id": "151ee335",
   "metadata": {
    "papermill": {
     "duration": 0.035026,
     "end_time": "2022-02-28T11:14:14.821808",
     "exception": false,
     "start_time": "2022-02-28T11:14:14.786782",
     "status": "completed"
    },
    "tags": []
   },
   "source": [
    "The data drift detection methodology is based on the ability of a model to discriminate whether an individual belongs to one of the two datasets.<br>\n",
    "For this purpose a target 0 is assigned to the baseline dataset and a target 1 to the current dataset.<br>\n",
    "Then a classification model (catboost) is learned to predict this target.<br>\n",
    "The level of capacity of the data drift classifier to detect if an individual belongs to one of the 2 datasets represents the level of difference between the 2 datasets"
   ]
  },
  {
   "cell_type": "markdown",
   "id": "dc1ec95d",
   "metadata": {
    "papermill": {
     "duration": 0.036727,
     "end_time": "2022-02-28T11:14:14.893107",
     "exception": false,
     "start_time": "2022-02-28T11:14:14.856380",
     "status": "completed"
    },
    "tags": []
   },
   "source": [
    "## Detection data drift performance"
   ]
  },
  {
   "cell_type": "markdown",
   "id": "31e8199c",
   "metadata": {
    "tags": [
     "papermill-error-cell-tag"
    ]
   },
   "source": [
    "<span id=\"papermill-error-cell\" style=\"color:red; font-family:Helvetica Neue, Helvetica, Arial, sans-serif; font-size:2em;\">Execution using papermill encountered an exception here and stopped:</span>"
   ]
  },
  {
   "cell_type": "code",
   "execution_count": 8,
   "id": "764da032",
   "metadata": {
    "execution": {
     "iopub.execute_input": "2022-02-28T11:14:14.970341Z",
     "iopub.status.busy": "2022-02-28T11:14:14.969590Z",
     "iopub.status.idle": "2022-02-28T11:14:20.125926Z",
     "shell.execute_reply": "2022-02-28T11:14:20.125300Z"
    },
    "papermill": {
     "duration": 5.195301,
     "end_time": "2022-02-28T11:14:20.126261",
     "exception": true,
     "start_time": "2022-02-28T11:14:14.930960",
     "status": "failed"
    },
    "tags": []
   },
   "outputs": [
    {
     "data": {
      "text/markdown": [
       "### Performance of detection drift dodel"
      ],
      "text/plain": [
       "<IPython.core.display.Markdown object>"
      ]
     },
     "metadata": {},
     "output_type": "display_data"
    },
    {
     "data": {
      "text/markdown": [
       "\n",
       "                 An AUC between 0.3 and 0.7 is usually\n",
       "                 recommended to obtain a consistent model output."
      ],
      "text/plain": [
       "<IPython.core.display.Markdown object>"
      ]
     },
     "metadata": {},
     "output_type": "display_data"
    },
    {
     "name": "stdout",
     "output_type": "stream",
     "text": [
      ">>> smartdrift.auc :  None <class 'NoneType'> end\n"
     ]
    },
    {
     "ename": "AttributeError",
     "evalue": "'NoneType' object has no attribute 'iloc'",
     "output_type": "error",
     "traceback": [
      "\u001b[0;31m---------------------------------------------------------------------------\u001b[0m",
      "\u001b[0;31mAttributeError\u001b[0m                            Traceback (most recent call last)",
      "\u001b[0;32m<ipython-input-8-60670cf9f3d9>\u001b[0m in \u001b[0;36m<module>\u001b[0;34m\u001b[0m\n\u001b[0;32m----> 1\u001b[0;31m \u001b[0mDR\u001b[0m\u001b[0;34m.\u001b[0m\u001b[0mdisplay_model_performance\u001b[0m\u001b[0;34m(\u001b[0m\u001b[0;34m)\u001b[0m\u001b[0;34m\u001b[0m\u001b[0;34m\u001b[0m\u001b[0m\n\u001b[0m",
      "\u001b[0;32m~/eurybia/eurybia/report/project_report.py\u001b[0m in \u001b[0;36mdisplay_model_performance\u001b[0;34m(self)\u001b[0m\n\u001b[1;32m    426\u001b[0m         \u001b[0mprint\u001b[0m\u001b[0;34m(\u001b[0m\u001b[0;34m\">>> smartdrift.auc : \"\u001b[0m\u001b[0;34m,\u001b[0m \u001b[0mself\u001b[0m\u001b[0;34m.\u001b[0m\u001b[0msmartdrift\u001b[0m\u001b[0;34m.\u001b[0m\u001b[0mauc\u001b[0m\u001b[0;34m,\u001b[0m \u001b[0mtype\u001b[0m\u001b[0;34m(\u001b[0m\u001b[0mself\u001b[0m\u001b[0;34m.\u001b[0m\u001b[0msmartdrift\u001b[0m\u001b[0;34m.\u001b[0m\u001b[0mauc\u001b[0m\u001b[0;34m)\u001b[0m\u001b[0;34m,\u001b[0m\u001b[0;34m\"end\"\u001b[0m\u001b[0;34m)\u001b[0m\u001b[0;34m\u001b[0m\u001b[0;34m\u001b[0m\u001b[0m\n\u001b[1;32m    427\u001b[0m         \u001b[0;31m# print_md(f\"AUC : {round(self.smartdrift.auc, 2)}\")\u001b[0m\u001b[0;34m\u001b[0m\u001b[0;34m\u001b[0m\u001b[0;34m\u001b[0m\u001b[0m\n\u001b[0;32m--> 428\u001b[0;31m         \u001b[0mprint_md\u001b[0m\u001b[0;34m(\u001b[0m\u001b[0;34mf\"AUC : {round(self.smartdrift.auc.iloc[0, 0], 2)}\"\u001b[0m\u001b[0;34m)\u001b[0m\u001b[0;34m\u001b[0m\u001b[0;34m\u001b[0m\u001b[0m\n\u001b[0m\u001b[1;32m    429\u001b[0m         \u001b[0mprint_md\u001b[0m\u001b[0;34m(\u001b[0m\u001b[0;34m'---'\u001b[0m\u001b[0;34m)\u001b[0m\u001b[0;34m\u001b[0m\u001b[0;34m\u001b[0m\u001b[0m\n\u001b[1;32m    430\u001b[0m \u001b[0;34m\u001b[0m\u001b[0m\n",
      "\u001b[0;31mAttributeError\u001b[0m: 'NoneType' object has no attribute 'iloc'"
     ]
    }
   ],
   "source": [
    "DR.display_model_performance()"
   ]
  },
  {
   "cell_type": "markdown",
   "id": "895add11",
   "metadata": {
    "papermill": {
     "duration": null,
     "end_time": null,
     "exception": null,
     "start_time": null,
     "status": "pending"
    },
    "tags": []
   },
   "source": [
    "## Importance of features in data drift"
   ]
  },
  {
   "cell_type": "code",
   "execution_count": null,
   "id": "899d9fe7",
   "metadata": {
    "execution": {
     "iopub.execute_input": "2022-02-28T10:14:55.576318Z",
     "iopub.status.busy": "2022-02-28T10:14:55.575720Z",
     "iopub.status.idle": "2022-02-28T10:14:58.389810Z",
     "shell.execute_reply": "2022-02-28T10:14:58.389342Z"
    },
    "papermill": {
     "duration": null,
     "end_time": null,
     "exception": null,
     "start_time": null,
     "status": "pending"
    },
    "tags": []
   },
   "outputs": [],
   "source": [
    "DR.display_feature_importance()"
   ]
  },
  {
   "cell_type": "code",
   "execution_count": null,
   "id": "98cb6c61",
   "metadata": {
    "execution": {
     "iopub.execute_input": "2022-02-28T10:14:58.466897Z",
     "iopub.status.busy": "2022-02-28T10:14:58.466194Z",
     "iopub.status.idle": "2022-02-28T10:15:02.831454Z",
     "shell.execute_reply": "2022-02-28T10:15:02.830872Z"
    },
    "papermill": {
     "duration": null,
     "end_time": null,
     "exception": null,
     "start_time": null,
     "status": "pending"
    },
    "tags": []
   },
   "outputs": [],
   "source": [
    "DR.display_scatter_feature_importance()"
   ]
  },
  {
   "cell_type": "markdown",
   "id": "36b66363",
   "metadata": {
    "papermill": {
     "duration": null,
     "end_time": null,
     "exception": null,
     "start_time": null,
     "status": "pending"
    },
    "tags": []
   },
   "source": [
    "## Dataset analysis"
   ]
  },
  {
   "cell_type": "markdown",
   "id": "963fdf66",
   "metadata": {
    "papermill": {
     "duration": null,
     "end_time": null,
     "exception": null,
     "start_time": null,
     "status": "pending"
    },
    "tags": []
   },
   "source": [
    "This section provides numerical summaries of the 2 datasets, and graphical analyses of the distributions between the 2 datasets.<br>\n",
    "This allows the analysis of variables that are important for drift detection."
   ]
  },
  {
   "cell_type": "code",
   "execution_count": null,
   "id": "8808e0b8",
   "metadata": {
    "execution": {
     "iopub.execute_input": "2022-02-28T10:15:03.098889Z",
     "iopub.status.busy": "2022-02-28T10:15:03.098243Z",
     "iopub.status.idle": "2022-02-28T10:15:08.172867Z",
     "shell.execute_reply": "2022-02-28T10:15:08.173272Z"
    },
    "papermill": {
     "duration": null,
     "end_time": null,
     "exception": null,
     "start_time": null,
     "status": "pending"
    },
    "tags": []
   },
   "outputs": [],
   "source": [
    "DR.display_dataset_analysis()"
   ]
  },
  {
   "cell_type": "code",
   "execution_count": null,
   "id": "32a0db2e",
   "metadata": {
    "execution": {
     "iopub.execute_input": "2022-02-28T10:15:08.273433Z",
     "iopub.status.busy": "2022-02-28T10:15:08.272898Z",
     "iopub.status.idle": "2022-02-28T10:15:11.102268Z",
     "shell.execute_reply": "2022-02-28T10:15:11.102660Z"
    },
    "papermill": {
     "duration": null,
     "end_time": null,
     "exception": null,
     "start_time": null,
     "status": "pending"
    },
    "tags": []
   },
   "outputs": [],
   "source": [
    "DR.display_deployed_model_prediction()"
   ]
  },
  {
   "cell_type": "markdown",
   "id": "46d6e9be",
   "metadata": {
    "papermill": {
     "duration": null,
     "end_time": null,
     "exception": null,
     "start_time": null,
     "status": "pending"
    },
    "tags": []
   },
   "source": [
    "## Feature contribution on data drift's detection"
   ]
  },
  {
   "cell_type": "code",
   "execution_count": null,
   "id": "593f7515",
   "metadata": {
    "execution": {
     "iopub.execute_input": "2022-02-28T10:15:11.323071Z",
     "iopub.status.busy": "2022-02-28T10:15:11.322388Z",
     "iopub.status.idle": "2022-02-28T10:15:15.370523Z",
     "shell.execute_reply": "2022-02-28T10:15:15.369837Z"
    },
    "papermill": {
     "duration": null,
     "end_time": null,
     "exception": null,
     "start_time": null,
     "status": "pending"
    },
    "tags": []
   },
   "outputs": [],
   "source": [
    "DR.display_model_contribution()"
   ]
  },
  {
   "cell_type": "markdown",
   "id": "c7cd7125",
   "metadata": {
    "papermill": {
     "duration": null,
     "end_time": null,
     "exception": null,
     "start_time": null,
     "status": "pending"
    },
    "tags": []
   },
   "source": [
    "## Historical Data drift"
   ]
  },
  {
   "cell_type": "code",
   "execution_count": null,
   "id": "ab1d34ad",
   "metadata": {
    "execution": {
     "iopub.execute_input": "2022-02-28T10:15:15.731055Z",
     "iopub.status.busy": "2022-02-28T10:15:15.730368Z",
     "iopub.status.idle": "2022-02-28T10:15:18.865005Z",
     "shell.execute_reply": "2022-02-28T10:15:18.865498Z"
    },
    "papermill": {
     "duration": null,
     "end_time": null,
     "exception": null,
     "start_time": null,
     "status": "pending"
    },
    "tags": []
   },
   "outputs": [],
   "source": [
    "DR.display_historical_auc()"
   ]
  },
  {
   "cell_type": "markdown",
   "id": "6641420e",
   "metadata": {
    "papermill": {
     "duration": null,
     "end_time": null,
     "exception": null,
     "start_time": null,
     "status": "pending"
    },
    "tags": []
   },
   "source": [
    "# Model Drift"
   ]
  },
  {
   "cell_type": "markdown",
   "id": "8a32dc42",
   "metadata": {
    "papermill": {
     "duration": null,
     "end_time": null,
     "exception": null,
     "start_time": null,
     "status": "pending"
    },
    "tags": []
   },
   "source": [
    "This section allows you to add monitoring of the production model's performance over time.<br>\n",
    "This is done by adding the performance history as input"
   ]
  },
  {
   "cell_type": "code",
   "execution_count": null,
   "id": "c9a9ec51",
   "metadata": {
    "execution": {
     "iopub.execute_input": "2022-02-28T10:15:19.411948Z",
     "iopub.status.busy": "2022-02-28T10:15:19.411128Z",
     "iopub.status.idle": "2022-02-28T10:15:22.352984Z",
     "shell.execute_reply": "2022-02-28T10:15:22.353523Z"
    },
    "papermill": {
     "duration": null,
     "end_time": null,
     "exception": null,
     "start_time": null,
     "status": "pending"
    },
    "tags": []
   },
   "outputs": [],
   "source": [
    "DR.display_data_modeldrift()"
   ]
  }
 ],
 "metadata": {
  "celltoolbar": "Tags",
  "hide_input": false,
  "kernelspec": {
   "display_name": "Python 3",
   "language": "python",
   "name": "python3"
  },
  "language_info": {
   "codemirror_mode": {
    "name": "ipython",
    "version": 3
   },
   "file_extension": ".py",
   "mimetype": "text/x-python",
   "name": "python",
   "nbconvert_exporter": "python",
   "pygments_lexer": "ipython3",
   "version": "3.8.12"
  },
  "papermill": {
   "default_parameters": {},
   "duration": 28.101136,
   "end_time": "2022-02-28T11:14:21.751464",
   "environment_variables": {},
   "exception": true,
   "input_path": "/home/34250k/eurybia/eurybia/report/base_report.ipynb",
   "output_path": "/home/34250k/eurybia/eurybia/report/base_report.ipynb",
   "parameters": {
    "config": {
     "title_description": "",
     "title_story": "Datadrift report production 2007"
    },
    "dir_path": "/home/34250k/eurybia/eurybia/report",
    "project_info_file": null
   },
   "start_time": "2022-02-28T11:13:53.650328",
   "version": "2.3.3"
  },
  "toc": {
   "base_numbering": 1,
   "nav_menu": {},
   "number_sections": true,
   "sideBar": true,
   "skip_h1_title": false,
   "title_cell": "Table of Contents",
   "title_sidebar": "Contents",
   "toc_cell": false,
   "toc_position": {},
   "toc_section_display": true,
   "toc_window_display": false
  }
 },
 "nbformat": 4,
 "nbformat_minor": 5
}
