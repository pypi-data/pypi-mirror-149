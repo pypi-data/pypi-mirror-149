{
 "cells": [
  {
   "cell_type": "code",
   "execution_count": 16,
   "id": "d1d3094a",
   "metadata": {},
   "outputs": [],
   "source": [
    "import pandas as pd"
   ]
  },
  {
   "cell_type": "code",
   "execution_count": 17,
   "id": "835652c1",
   "metadata": {},
   "outputs": [
    {
     "data": {
      "text/plain": [
       "(16131, 10)"
      ]
     },
     "execution_count": 17,
     "metadata": {},
     "output_type": "execute_result"
    }
   ],
   "source": [
    "df  =pd.read_csv(\"meta3.csv\")\n",
    "df.shape"
   ]
  },
  {
   "cell_type": "code",
   "execution_count": 18,
   "id": "af8d510a",
   "metadata": {},
   "outputs": [],
   "source": [
    "df = df[df[\"name\"] != \"bcd\"]"
   ]
  },
  {
   "cell_type": "code",
   "execution_count": 19,
   "id": "1f00f8cc",
   "metadata": {},
   "outputs": [
    {
     "data": {
      "text/plain": [
       "(10062, 10)"
      ]
     },
     "execution_count": 19,
     "metadata": {},
     "output_type": "execute_result"
    }
   ],
   "source": [
    "df.shape"
   ]
  },
  {
   "cell_type": "code",
   "execution_count": 20,
   "id": "7869648c",
   "metadata": {},
   "outputs": [],
   "source": [
    "df.to_csv(\"meta2.csv\", index=False)"
   ]
  },
  {
   "cell_type": "code",
   "execution_count": 21,
   "id": "484f0a4c",
   "metadata": {},
   "outputs": [
    {
     "data": {
      "text/html": [
       "<div>\n",
       "<style scoped>\n",
       "    .dataframe tbody tr th:only-of-type {\n",
       "        vertical-align: middle;\n",
       "    }\n",
       "\n",
       "    .dataframe tbody tr th {\n",
       "        vertical-align: top;\n",
       "    }\n",
       "\n",
       "    .dataframe thead th {\n",
       "        text-align: right;\n",
       "    }\n",
       "</style>\n",
       "<table border=\"1\" class=\"dataframe\">\n",
       "  <thead>\n",
       "    <tr style=\"text-align: right;\">\n",
       "      <th></th>\n",
       "      <th>img_name</th>\n",
       "      <th>img_path</th>\n",
       "      <th>name</th>\n",
       "      <th>NoDamage</th>\n",
       "      <th>Crack</th>\n",
       "      <th>Efflorescence</th>\n",
       "      <th>Spalling</th>\n",
       "      <th>BarsExposed</th>\n",
       "      <th>Rust</th>\n",
       "      <th>split_type</th>\n",
       "    </tr>\n",
       "  </thead>\n",
       "  <tbody>\n",
       "    <tr>\n",
       "      <th>0</th>\n",
       "      <td>image_0000230_crop_0000002.png</td>\n",
       "      <td>codebrim-classif/classification_dataset/train/...</td>\n",
       "      <td>codebrim-classif</td>\n",
       "      <td>0</td>\n",
       "      <td>0</td>\n",
       "      <td>0</td>\n",
       "      <td>1</td>\n",
       "      <td>0</td>\n",
       "      <td>0</td>\n",
       "      <td>train</td>\n",
       "    </tr>\n",
       "    <tr>\n",
       "      <th>1</th>\n",
       "      <td>image_0000811_crop_0000003.png</td>\n",
       "      <td>codebrim-classif/classification_dataset/train/...</td>\n",
       "      <td>codebrim-classif</td>\n",
       "      <td>0</td>\n",
       "      <td>0</td>\n",
       "      <td>0</td>\n",
       "      <td>0</td>\n",
       "      <td>0</td>\n",
       "      <td>1</td>\n",
       "      <td>train</td>\n",
       "    </tr>\n",
       "    <tr>\n",
       "      <th>2</th>\n",
       "      <td>image_0000601_crop_0000002.png</td>\n",
       "      <td>codebrim-classif/classification_dataset/train/...</td>\n",
       "      <td>codebrim-classif</td>\n",
       "      <td>0</td>\n",
       "      <td>0</td>\n",
       "      <td>1</td>\n",
       "      <td>0</td>\n",
       "      <td>0</td>\n",
       "      <td>0</td>\n",
       "      <td>train</td>\n",
       "    </tr>\n",
       "    <tr>\n",
       "      <th>3</th>\n",
       "      <td>image_0001525_crop_0000013.png</td>\n",
       "      <td>codebrim-classif/classification_dataset/train/...</td>\n",
       "      <td>codebrim-classif</td>\n",
       "      <td>0</td>\n",
       "      <td>1</td>\n",
       "      <td>0</td>\n",
       "      <td>0</td>\n",
       "      <td>0</td>\n",
       "      <td>0</td>\n",
       "      <td>train</td>\n",
       "    </tr>\n",
       "    <tr>\n",
       "      <th>4</th>\n",
       "      <td>image_0001161_crop_0000009.png</td>\n",
       "      <td>codebrim-classif/classification_dataset/train/...</td>\n",
       "      <td>codebrim-classif</td>\n",
       "      <td>0</td>\n",
       "      <td>0</td>\n",
       "      <td>0</td>\n",
       "      <td>1</td>\n",
       "      <td>1</td>\n",
       "      <td>0</td>\n",
       "      <td>train</td>\n",
       "    </tr>\n",
       "    <tr>\n",
       "      <th>...</th>\n",
       "      <td>...</td>\n",
       "      <td>...</td>\n",
       "      <td>...</td>\n",
       "      <td>...</td>\n",
       "      <td>...</td>\n",
       "      <td>...</td>\n",
       "      <td>...</td>\n",
       "      <td>...</td>\n",
       "      <td>...</td>\n",
       "      <td>...</td>\n",
       "    </tr>\n",
       "    <tr>\n",
       "      <th>10057</th>\n",
       "      <td>crack96.jpg</td>\n",
       "      <td>mcds/MultiClassifier/cracks/crack96.jpg</td>\n",
       "      <td>mcds_bikit</td>\n",
       "      <td>0</td>\n",
       "      <td>1</td>\n",
       "      <td>0</td>\n",
       "      <td>0</td>\n",
       "      <td>0</td>\n",
       "      <td>0</td>\n",
       "      <td>train</td>\n",
       "    </tr>\n",
       "    <tr>\n",
       "      <th>10058</th>\n",
       "      <td>crack97.jpg</td>\n",
       "      <td>mcds/Corrosion/no rust staining/crack97.jpg</td>\n",
       "      <td>mcds_bikit</td>\n",
       "      <td>0</td>\n",
       "      <td>1</td>\n",
       "      <td>0</td>\n",
       "      <td>0</td>\n",
       "      <td>0</td>\n",
       "      <td>0</td>\n",
       "      <td>train</td>\n",
       "    </tr>\n",
       "    <tr>\n",
       "      <th>10059</th>\n",
       "      <td>crack98.jpg</td>\n",
       "      <td>mcds/MultiClassifier/cracks/crack98.jpg</td>\n",
       "      <td>mcds_bikit</td>\n",
       "      <td>0</td>\n",
       "      <td>1</td>\n",
       "      <td>0</td>\n",
       "      <td>0</td>\n",
       "      <td>0</td>\n",
       "      <td>0</td>\n",
       "      <td>train</td>\n",
       "    </tr>\n",
       "    <tr>\n",
       "      <th>10060</th>\n",
       "      <td>crack99.jpg</td>\n",
       "      <td>mcds/MultiClassifier/cracks/crack99.jpg</td>\n",
       "      <td>mcds_bikit</td>\n",
       "      <td>0</td>\n",
       "      <td>1</td>\n",
       "      <td>0</td>\n",
       "      <td>0</td>\n",
       "      <td>0</td>\n",
       "      <td>0</td>\n",
       "      <td>train</td>\n",
       "    </tr>\n",
       "    <tr>\n",
       "      <th>10061</th>\n",
       "      <td>demo.jpg</td>\n",
       "      <td>mcds/MultiClassifier/cracks/demo.jpg</td>\n",
       "      <td>mcds_bikit</td>\n",
       "      <td>0</td>\n",
       "      <td>1</td>\n",
       "      <td>0</td>\n",
       "      <td>0</td>\n",
       "      <td>0</td>\n",
       "      <td>0</td>\n",
       "      <td>train</td>\n",
       "    </tr>\n",
       "  </tbody>\n",
       "</table>\n",
       "<p>10062 rows × 10 columns</p>\n",
       "</div>"
      ],
      "text/plain": [
       "                             img_name  \\\n",
       "0      image_0000230_crop_0000002.png   \n",
       "1      image_0000811_crop_0000003.png   \n",
       "2      image_0000601_crop_0000002.png   \n",
       "3      image_0001525_crop_0000013.png   \n",
       "4      image_0001161_crop_0000009.png   \n",
       "...                               ...   \n",
       "10057                     crack96.jpg   \n",
       "10058                     crack97.jpg   \n",
       "10059                     crack98.jpg   \n",
       "10060                     crack99.jpg   \n",
       "10061                        demo.jpg   \n",
       "\n",
       "                                                img_path              name  \\\n",
       "0      codebrim-classif/classification_dataset/train/...  codebrim-classif   \n",
       "1      codebrim-classif/classification_dataset/train/...  codebrim-classif   \n",
       "2      codebrim-classif/classification_dataset/train/...  codebrim-classif   \n",
       "3      codebrim-classif/classification_dataset/train/...  codebrim-classif   \n",
       "4      codebrim-classif/classification_dataset/train/...  codebrim-classif   \n",
       "...                                                  ...               ...   \n",
       "10057            mcds/MultiClassifier/cracks/crack96.jpg        mcds_bikit   \n",
       "10058        mcds/Corrosion/no rust staining/crack97.jpg        mcds_bikit   \n",
       "10059            mcds/MultiClassifier/cracks/crack98.jpg        mcds_bikit   \n",
       "10060            mcds/MultiClassifier/cracks/crack99.jpg        mcds_bikit   \n",
       "10061               mcds/MultiClassifier/cracks/demo.jpg        mcds_bikit   \n",
       "\n",
       "       NoDamage  Crack  Efflorescence  Spalling  BarsExposed  Rust split_type  \n",
       "0             0      0              0         1            0     0      train  \n",
       "1             0      0              0         0            0     1      train  \n",
       "2             0      0              1         0            0     0      train  \n",
       "3             0      1              0         0            0     0      train  \n",
       "4             0      0              0         1            1     0      train  \n",
       "...         ...    ...            ...       ...          ...   ...        ...  \n",
       "10057         0      1              0         0            0     0      train  \n",
       "10058         0      1              0         0            0     0      train  \n",
       "10059         0      1              0         0            0     0      train  \n",
       "10060         0      1              0         0            0     0      train  \n",
       "10061         0      1              0         0            0     0      train  \n",
       "\n",
       "[10062 rows x 10 columns]"
      ]
     },
     "execution_count": 21,
     "metadata": {},
     "output_type": "execute_result"
    }
   ],
   "source": [
    "df  =pd.read_csv(\"meta2.csv\")\n",
    "df"
   ]
  },
  {
   "cell_type": "markdown",
   "id": "f3327cf5",
   "metadata": {},
   "source": [
    "# meta3+dacl1k"
   ]
  },
  {
   "cell_type": "code",
   "execution_count": 1,
   "id": "984707fa",
   "metadata": {},
   "outputs": [
    {
     "ename": "NameError",
     "evalue": "name 'pd' is not defined",
     "output_type": "error",
     "traceback": [
      "\u001b[0;31m---------------------------------------------------------------------------\u001b[0m",
      "\u001b[0;31mNameError\u001b[0m                                 Traceback (most recent call last)",
      "\u001b[0;32m/tmp/ipykernel_36087/1783989934.py\u001b[0m in \u001b[0;36m<module>\u001b[0;34m\u001b[0m\n\u001b[0;32m----> 1\u001b[0;31m \u001b[0mdf1\u001b[0m  \u001b[0;34m=\u001b[0m\u001b[0mpd\u001b[0m\u001b[0;34m.\u001b[0m\u001b[0mread_csv\u001b[0m\u001b[0;34m(\u001b[0m\u001b[0;34m\"meta3.csv\"\u001b[0m\u001b[0;34m)\u001b[0m\u001b[0;34m\u001b[0m\u001b[0;34m\u001b[0m\u001b[0m\n\u001b[0m\u001b[1;32m      2\u001b[0m \u001b[0mdf2\u001b[0m  \u001b[0;34m=\u001b[0m\u001b[0mpd\u001b[0m\u001b[0;34m.\u001b[0m\u001b[0mread_csv\u001b[0m\u001b[0;34m(\u001b[0m\u001b[0;34m\"dacl1k.csv\"\u001b[0m\u001b[0;34m)\u001b[0m\u001b[0;34m\u001b[0m\u001b[0;34m\u001b[0m\u001b[0m\n\u001b[1;32m      3\u001b[0m \u001b[0mpd\u001b[0m\u001b[0;34m.\u001b[0m\u001b[0mconcat\u001b[0m\u001b[0;34m(\u001b[0m\u001b[0;34m[\u001b[0m\u001b[0mdf1\u001b[0m\u001b[0;34m,\u001b[0m \u001b[0mdf2\u001b[0m\u001b[0;34m]\u001b[0m\u001b[0;34m,\u001b[0m \u001b[0maxis\u001b[0m\u001b[0;34m=\u001b[0m\u001b[0;36m1\u001b[0m\u001b[0;34m)\u001b[0m\u001b[0;34m\u001b[0m\u001b[0;34m\u001b[0m\u001b[0m\n",
      "\u001b[0;31mNameError\u001b[0m: name 'pd' is not defined"
     ]
    }
   ],
   "source": [
    "df1  =pd.read_csv(\"meta3.csv\")\n",
    "df2  =pd.read_csv(\"dacl1k.csv\")\n",
    "pd.concat([df1, df2], axis=1)"
   ]
  },
  {
   "cell_type": "code",
   "execution_count": null,
   "id": "c9342ae4",
   "metadata": {},
   "outputs": [],
   "source": []
  }
 ],
 "metadata": {
  "kernelspec": {
   "display_name": "bikit",
   "language": "python",
   "name": "bikit"
  },
  "language_info": {
   "codemirror_mode": {
    "name": "ipython",
    "version": 3
   },
   "file_extension": ".py",
   "mimetype": "text/x-python",
   "name": "python",
   "nbconvert_exporter": "python",
   "pygments_lexer": "ipython3",
   "version": "3.9.5"
  }
 },
 "nbformat": 4,
 "nbformat_minor": 5
}
