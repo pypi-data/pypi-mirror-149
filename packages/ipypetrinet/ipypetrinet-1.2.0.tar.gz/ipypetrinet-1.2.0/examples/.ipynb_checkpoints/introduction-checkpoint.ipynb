{
 "cells": [
  {
   "cell_type": "markdown",
   "metadata": {},
   "source": [
    "# Introduction"
   ]
  },
  {
   "cell_type": "code",
   "execution_count": 1,
   "metadata": {},
   "outputs": [],
   "source": [
    "from ipypetrinet import PetriWidget"
   ]
  },
  {
   "cell_type": "code",
   "execution_count": 2,
   "metadata": {
    "scrolled": false
   },
   "outputs": [
    {
     "data": {
      "application/vnd.jupyter.widget-view+json": {
       "model_id": "7d466a75a3bd4679b6c765c78bf97821",
       "version_major": 2,
       "version_minor": 0
      },
      "text/plain": [
       "PetriWidget()"
      ]
     },
     "metadata": {},
     "output_type": "display_data"
    }
   ],
   "source": [
    "w = PetriWidget()\n",
    "w"
   ]
  },
  {
   "cell_type": "code",
   "execution_count": null,
   "metadata": {},
   "outputs": [],
   "source": [
    "w.drawPetriNet(w.graph)"
   ]
  },
  {
   "cell_type": "code",
   "execution_count": null,
   "metadata": {},
   "outputs": [],
   "source": [
    "w.generate_eventlog(w.graph, w.caseAttrs, no_traces=100)"
   ]
  },
  {
   "cell_type": "code",
   "execution_count": null,
   "metadata": {},
   "outputs": [],
   "source": [
    "display(w._model_name)\n",
    "display(w._model_module)\n",
    "display(w._model_module_version)\n",
    "display(w._view_name)\n",
    "display(w._view_module)\n",
    "display(w._view_module_version)\n",
    "display(w.graph)\n",
    "display(w.caseAttrs)"
   ]
  }
 ],
 "metadata": {
  "kernelspec": {
   "display_name": "ipypetrinet",
   "language": "python",
   "name": "ipypetrinet"
  },
  "language_info": {
   "codemirror_mode": {
    "name": "ipython",
    "version": 3
   },
   "file_extension": ".py",
   "mimetype": "text/x-python",
   "name": "python",
   "nbconvert_exporter": "python",
   "pygments_lexer": "ipython3",
   "version": "3.9.7"
  }
 },
 "nbformat": 4,
 "nbformat_minor": 2
}
